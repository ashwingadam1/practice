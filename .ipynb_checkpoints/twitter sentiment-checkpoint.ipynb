{
 "cells": [
  {
   "cell_type": "code",
   "execution_count": 1,
   "metadata": {
    "collapsed": true
   },
   "outputs": [],
   "source": [
    "import tweepy\n",
    "import itertools\n",
    "import time\n",
    "import pandas as pd\n",
    "from textblob import TextBlob\n",
    "#French adaptor\n",
    "import re\n",
    "import numpy as np\n",
    "import operator\n",
    "import matplotlib.pyplot as plt\n",
    "import IPython.display as display\n",
    "import numpy as np\n",
    "%matplotlib inline"
   ]
  },
  {
   "cell_type": "code",
   "execution_count": 2,
   "metadata": {
    "collapsed": true
   },
   "outputs": [],
   "source": [
    "consumer_key = 'trpVvVErBFaBJj1LByMMgaCup'\n",
    "consumer_secret = 'wNSwQYNRoJqpF31jDNfzxYtSm1ZeFws1iLffxn5elCH9srHvUM'\n",
    "access_token = '2356896033-a2VN6FzasWMu7qoYGlg0QnKTIfuCplVf5hhoQbW'\n",
    "access_token_secret = 'wwjnJSRFnHMBvpSDTAEyfuoEOjADmCtvsy2N0tu9yRGxM'"
   ]
  },
  {
   "cell_type": "code",
   "execution_count": 3,
   "metadata": {},
   "outputs": [
    {
     "name": "stdout",
     "output_type": "stream",
     "text": [
      "We sucessfully logged in\n"
     ]
    }
   ],
   "source": [
    "auth = tweepy.auth.OAuthHandler(consumer_key, consumer_secret)\n",
    "auth.set_access_token(access_token, access_token_secret)\n",
    "api = tweepy.API(auth)\n",
    "\n",
    "if(api.verify_credentials):\n",
    "    print('We sucessfully logged in')"
   ]
  },
  {
   "cell_type": "code",
   "execution_count": 21,
   "metadata": {},
   "outputs": [],
   "source": []
  },
  {
   "cell_type": "code",
   "execution_count": 4,
   "metadata": {},
   "outputs": [],
   "source": [
    "def paginate(iterable, page_size):\n",
    "    while True:\n",
    "        i1, i2 = itertools.tee(iterable)\n",
    "        iterable, page = (itertools.islice(i1, page_size, None),\n",
    "                list(itertools.islice(i2, page_size)))\n",
    "        if len(page) == 0:\n",
    "            break\n",
    "        yield page"
   ]
  },
  {
   "cell_type": "code",
   "execution_count": 9,
   "metadata": {},
   "outputs": [],
   "source": [
    "followers = api.followers_ids(screen_name='SudipDutta')"
   ]
  },
  {
   "cell_type": "code",
   "execution_count": 10,
   "metadata": {},
   "outputs": [],
   "source": [
    "list_of_users=[]\n",
    "for page in paginate(followers, 100):\n",
    "    results = api.lookup_users(user_ids=page)\n",
    "    for result in results:\n",
    "        list_of_users.append(result.screen_name)"
   ]
  },
  {
   "cell_type": "code",
   "execution_count": 13,
   "metadata": {},
   "outputs": [
    {
     "data": {
      "text/plain": [
       "330"
      ]
     },
     "execution_count": 13,
     "metadata": {},
     "output_type": "execute_result"
    }
   ],
   "source": [
    "len(list_of_users)"
   ]
  },
  {
   "cell_type": "code",
   "execution_count": null,
   "metadata": {},
   "outputs": [],
   "source": []
  },
  {
   "cell_type": "code",
   "execution_count": null,
   "metadata": {},
   "outputs": [],
   "source": []
  },
  {
   "cell_type": "code",
   "execution_count": 14,
   "metadata": {
    "collapsed": true
   },
   "outputs": [],
   "source": [
    "list_of_followers=pd.DataFrame()\n",
    "list_of_followers['followers']=''\n",
    "list_of_followers['followers']=list_of_users\n",
    "list_of_followers.to_csv('/home/ashwin/Downloads/list_of_followers.csv',index=False)"
   ]
  },
  {
   "cell_type": "code",
   "execution_count": 7,
   "metadata": {
    "collapsed": true
   },
   "outputs": [],
   "source": [
    "#this_candidate_tweets = tweepy.Cursor(api.user_timeline, screen_name='rajnish9250',count=200).items()"
   ]
  },
  {
   "cell_type": "code",
   "execution_count": 15,
   "metadata": {},
   "outputs": [],
   "source": [
    "sentiment_of_tweets=[]\n",
    "users_list=[]\n",
    "tweet_list=[]\n",
    "count=0\n",
    "for user in list_of_users:\n",
    "    this_candidate_tweets = tweepy.Cursor(api.user_timeline, screen_name=user,count=200).items()\n",
    "    try:\n",
    "        for tweet in this_candidate_tweets:\n",
    "            tweet=' '.join(re.sub(\"(@[A-Za-z0-9]+)|([^0-9A-Za-z \\t])|(\\w+:\\/\\/\\S+)\", \" \", tweet.text).split())\n",
    "            analysis = TextBlob(tweet)\n",
    "            users_list.append(user)\n",
    "            tweet_list.append(tweet)\n",
    "            if analysis.sentiment.polarity > 0:\n",
    "                    sentiment_of_tweets.append('positive')\n",
    "            elif analysis.sentiment.polarity == 0:\n",
    "                    sentiment_of_tweets.append('neutral')\n",
    "            else:\n",
    "                    sentiment_of_tweets.append('negative')\n",
    "    except tweepy.TweepError as e:\n",
    "            count=count+1\n",
    "            continue"
   ]
  },
  {
   "cell_type": "code",
   "execution_count": 16,
   "metadata": {},
   "outputs": [
    {
     "data": {
      "text/plain": [
       "<matplotlib.axes._subplots.AxesSubplot at 0x7eff43519b00>"
      ]
     },
     "execution_count": 16,
     "metadata": {},
     "output_type": "execute_result"
    },
    {
     "data": {
      "image/png": "[encoded data removed]",
      "text/plain": [
       "<matplotlib.figure.Figure at 0x7eff43519b38>"
      ]
     },
     "metadata": {},
     "output_type": "display_data"
    }
   ],
   "source": [
    "senti=pd.DataFrame()\n",
    "senti['users']=users_list\n",
    "senti['tweets']=tweet_list\n",
    "senti['sentiment']=sentiment_of_tweets\n",
    "senti['sentiment'].value_counts().plot(kind='bar')"
   ]
  },
  {
   "cell_type": "code",
   "execution_count": 22,
   "metadata": {},
   "outputs": [
    {
     "name": "stdout",
     "output_type": "stream",
     "text": [
      "enter the user for the tweet analysisBrazil_bs\n"
     ]
    }
   ],
   "source": [
    "user_requested=input('enter the user for the tweet analysis')"
   ]
  },
  {
   "cell_type": "code",
   "execution_count": 23,
   "metadata": {},
   "outputs": [
    {
     "data": {
      "image/png": "[encoded data removed]",
      "text/plain": [
       "<matplotlib.figure.Figure at 0x7eff43668dd8>"
      ]
     },
     "metadata": {},
     "output_type": "display_data"
    }
   ],
   "source": [
    "if(user_requested in list_of_users):\n",
    "    temp=senti[(senti.users==user_requested)]\n",
    "    temp['sentiment'].value_counts().plot(kind='bar')\n",
    "else:\n",
    "    print('no user is found')"
   ]
  },
  {
   "cell_type": "code",
   "execution_count": null,
   "metadata": {},
   "outputs": [],
   "source": []
  }
 ],
 "metadata": {
  "kernelspec": {
   "display_name": "Python 3",
   "language": "python",
   "name": "python3"
  },
  "language_info": {
   "codemirror_mode": {
    "name": "ipython",
    "version": 3
   },
   "file_extension": ".py",
   "mimetype": "text/x-python",
   "name": "python",
   "nbconvert_exporter": "python",
   "pygments_lexer": "ipython3",
   "version": "3.6.2"
  }
 },
 "nbformat": 4,
 "nbformat_minor": 1
}
