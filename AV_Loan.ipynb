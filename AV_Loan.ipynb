{
 "cells": [
  {
   "cell_type": "code",
   "execution_count": 1,
   "metadata": {
    "collapsed": true
   },
   "outputs": [
    {
     "name": "stderr",
     "output_type": "stream",
     "text": [
      "/home/ashwin/anaconda3/lib/python3.6/site-packages/sklearn/cross_validation.py:41: DeprecationWarning: This module was deprecated in version 0.18 in favor of the model_selection module into which all the refactored classes and functions are moved. Also note that the interface of the new CV iterators are different from that of this module. This module will be removed in 0.20.\n  \"This module will be removed in 0.20.\", DeprecationWarning)\n/home/ashwin/anaconda3/lib/python3.6/site-packages/sklearn/grid_search.py:42: DeprecationWarning: This module was deprecated in version 0.18 in favor of the model_selection module into which all the refactored classes and functions are moved. This module will be removed in 0.20.\n  DeprecationWarning)\n"
     ]
    }
   ],
   "source": [
    "import numpy as np\n",
    "import matplotlib.pyplot as plt\n",
    "import pandas as pd\n",
    "import scipy.stats as stats\n",
    "from sklearn.preprocessing import StandardScaler\n",
    "from sklearn import preprocessing\n",
    "from imblearn.combine import SMOTETomek\n",
    "from sklearn.ensemble import RandomForestClassifier,BaggingClassifier\n",
    "from sklearn.svm import SVC\n",
    "import sklearn.metrics as metrics\n",
    "from imblearn.over_sampling import SMOTE\n",
    "from sklearn.cross_validation import *\n",
    "from sklearn.grid_search import GridSearchCV\n",
    "from sklearn.svm import LinearSVC\n",
    "from sklearn.naive_bayes import BernoulliNB\n",
    "import xgboost as xgb\n",
    "from sklearn.linear_model import LogisticRegression\n",
    "%matplotlib inline"
   ]
  },
  {
   "cell_type": "code",
   "execution_count": 2,
   "metadata": {},
   "outputs": [
    {
     "name": "stdout",
     "output_type": "stream",
     "text": [
      "[192 422]\n1    422\n0    192\nName: data, dtype: int64\n"
     ]
    },
    {
     "data": {
      "text/plain": [
       "<matplotlib.axes._subplots.AxesSubplot at 0x7fce940ee2e8>"
      ]
     },
     "execution_count": 2,
     "metadata": {},
     "output_type": "execute_result"
    },
    {
     "data": {
      "image/png": "[encoded data removed]",
      "text/plain": [
       "<matplotlib.figure.Figure at 0x7fce9745f908>"
      ]
     },
     "metadata": {},
     "output_type": "display_data"
    }
   ],
   "source": [
    "train_data=pd.read_csv('/home/ashwin/Downloads/AV/loan/train.csv')\n",
    "test_data=pd.read_csv('/home/ashwin/Downloads/AV/loan/test.csv')\n",
    "le = preprocessing.LabelEncoder()\n",
    "target=le.fit_transform(train_data['Loan_Status'])\n",
    "print( np.bincount(target))\n",
    "df = pd.DataFrame({'data':target})\n",
    "print(df['data'].value_counts())\n",
    "train_data['Loan_Status'].value_counts().plot(kind='bar')"
   ]
  },
  {
   "cell_type": "code",
   "execution_count": 3,
   "metadata": {},
   "outputs": [
    {
     "name": "stdout",
     "output_type": "stream",
     "text": [
      "(614, 13)\n(367, 12)\n"
     ]
    }
   ],
   "source": [
    "print(train_data.shape)\n",
    "print(test_data.shape)"
   ]
  },
  {
   "cell_type": "code",
   "execution_count": 4,
   "metadata": {},
   "outputs": [
    {
     "name": "stdout",
     "output_type": "stream",
     "text": [
      "    Loan_ID Gender Married Dependents     Education Self_Employed  \\\n0  LP001002   Male      No          0      Graduate            No   \n1  LP001003   Male     Yes          1      Graduate            No   \n2  LP001005   Male     Yes          0      Graduate           Yes   \n3  LP001006   Male     Yes          0  Not Graduate            No   \n4  LP001008   Male      No          0      Graduate            No   \n\n   ApplicantIncome  CoapplicantIncome  LoanAmount  Loan_Amount_Term  \\\n0             5849                0.0         NaN             360.0   \n1             4583             1508.0       128.0             360.0   \n2             3000                0.0        66.0             360.0   \n3             2583             2358.0       120.0             360.0   \n4             6000                0.0       141.0             360.0   \n\n   Credit_History Property_Area Loan_Status  \n0             1.0         Urban           Y  \n1             1.0         Rural           N  \n2             1.0         Urban           Y  \n3             1.0         Urban           Y  \n4             1.0         Urban           Y  \n(614, 13)\n"
     ]
    }
   ],
   "source": [
    "print(train_data.head())\n",
    "print(train_data.shape)"
   ]
  },
  {
   "cell_type": "code",
   "execution_count": 5,
   "metadata": {},
   "outputs": [
    {
     "data": {
      "text/plain": [
       "Loan_ID               0\nGender               13\nMarried               3\nDependents           15\nEducation             0\nSelf_Employed        32\nApplicantIncome       0\nCoapplicantIncome     0\nLoanAmount           22\nLoan_Amount_Term     14\nCredit_History       50\nProperty_Area         0\nLoan_Status           0\ndtype: int64"
      ]
     },
     "execution_count": 5,
     "metadata": {},
     "output_type": "execute_result"
    }
   ],
   "source": [
    "train_data.isnull().sum()"
   ]
  },
  {
   "cell_type": "code",
   "execution_count": 6,
   "metadata": {},
   "outputs": [],
   "source": [
    "train_data=train_data.drop(['Loan_Status'],axis=1)"
   ]
  },
  {
   "cell_type": "code",
   "execution_count": 7,
   "metadata": {},
   "outputs": [],
   "source": [
    "combain_data=pd.concat([train_data,test_data],axis=0)"
   ]
  },
  {
   "cell_type": "code",
   "execution_count": 8,
   "metadata": {},
   "outputs": [
    {
     "data": {
      "text/plain": [
       "(981, 12)"
      ]
     },
     "execution_count": 8,
     "metadata": {},
     "output_type": "execute_result"
    }
   ],
   "source": [
    "combain_data.shape"
   ]
  },
  {
   "cell_type": "code",
   "execution_count": 9,
   "metadata": {},
   "outputs": [],
   "source": [
    "combain_data=combain_data.drop(['Loan_ID'],axis=1)"
   ]
  },
  {
   "cell_type": "code",
   "execution_count": 10,
   "metadata": {},
   "outputs": [],
   "source": [
    "numerical_var=[f for f in combain_data.columns if combain_data.dtypes[f] \n",
    "        != 'object']\n",
    "catagorical_var=[f for f in combain_data.columns if(combain_data.dtypes[f] \n",
    "                 == 'object' or combain_data.dtypes[f] == 'str')]"
   ]
  },
  {
   "cell_type": "code",
   "execution_count": 11,
   "metadata": {},
   "outputs": [
    {
     "name": "stdout",
     "output_type": "stream",
     "text": [
      "['ApplicantIncome', 'CoapplicantIncome', 'LoanAmount', 'Loan_Amount_Term', 'Credit_History'] ['Gender', 'Married', 'Dependents', 'Education', 'Self_Employed', 'Property_Area']\n"
     ]
    }
   ],
   "source": [
    "print(numerical_var,catagorical_var)"
   ]
  },
  {
   "cell_type": "code",
   "execution_count": 12,
   "metadata": {},
   "outputs": [],
   "source": [
    "\n",
    "for c in numerical_var:\n",
    "    combain_data[c].fillna(combain_data[c].mean(), inplace=True)\n",
    "for c in catagorical_var:\n",
    "    combain_data[c].fillna(combain_data[c].mode()[0], inplace=True)"
   ]
  },
  {
   "cell_type": "code",
   "execution_count": 13,
   "metadata": {},
   "outputs": [
    {
     "data": {
      "text/plain": [
       "Gender               0\nMarried              0\nDependents           0\nEducation            0\nSelf_Employed        0\nApplicantIncome      0\nCoapplicantIncome    0\nLoanAmount           0\nLoan_Amount_Term     0\nCredit_History       0\nProperty_Area        0\ndtype: int64"
      ]
     },
     "execution_count": 13,
     "metadata": {},
     "output_type": "execute_result"
    }
   ],
   "source": [
    "combain_data.isnull().sum()"
   ]
  },
  {
   "cell_type": "code",
   "execution_count": 14,
   "metadata": {},
   "outputs": [
    {
     "data": {
      "text/plain": [
       "['Gender',\n 'Married',\n 'Dependents',\n 'Education',\n 'Self_Employed',\n 'ApplicantIncome',\n 'CoapplicantIncome',\n 'LoanAmount',\n 'Loan_Amount_Term',\n 'Credit_History',\n 'Property_Area']"
      ]
     },
     "execution_count": 14,
     "metadata": {},
     "output_type": "execute_result"
    }
   ],
   "source": [
    "list(combain_data)"
   ]
  },
  {
   "cell_type": "code",
   "execution_count": 15,
   "metadata": {},
   "outputs": [],
   "source": [
    "\n",
    "combain_data['ApplicantIncome_CoapplicantIncome']=\\\n",
    "    combain_data.ApplicantIncome*combain_data.CoapplicantIncome\n",
    "combain_data['LoanAmount_Loan_Amount_Term']=\\\n",
    "    combain_data.Loan_Amount_Term*combain_data.LoanAmount\n",
    "combain_data['Loan_Amount_Term_Credit_History']=\\\n",
    "    combain_data.Credit_History*combain_data.Loan_Amount_Term\n",
    "\n",
    "combain_data['ApplicantIncome_LoanAmount']=\\\n",
    "    combain_data.ApplicantIncome*combain_data.LoanAmount\n",
    "combain_data['CoapplicantIncome_LoanAmount']=\\\n",
    "    combain_data.CoapplicantIncome*combain_data.LoanAmount\n",
    "combain_data['ApplicantIncome_Credit_History']=\\\n",
    "    combain_data.ApplicantIncome*combain_data.Credit_History\n",
    "combain_data['CoapplicantIncome_Credit_History']=\\\n",
    "    combain_data.CoapplicantIncome*combain_data.Credit_History\n",
    "\n",
    "combain_data['1_2_3']=combain_data.ApplicantIncome_LoanAmount\\\n",
    "                      *combain_data.CoapplicantIncome_LoanAmount\\\n",
    "                      *combain_data.ApplicantIncome_Credit_History\n",
    "combain_data['2_3_4']=combain_data.CoapplicantIncome_LoanAmount\\\n",
    "                      *combain_data.ApplicantIncome_Credit_History\\\n",
    "                      *combain_data.CoapplicantIncome_Credit_History\n",
    "combain_data['3_4_1']=combain_data.ApplicantIncome_Credit_History\\\n",
    "                      *combain_data.CoapplicantIncome_Credit_History\\\n",
    "                      *combain_data.ApplicantIncome_LoanAmount\n",
    "combain_data['4_1_2']=combain_data.CoapplicantIncome_Credit_History\\\n",
    "                      *combain_data.ApplicantIncome_LoanAmount\\\n",
    "                      *combain_data.CoapplicantIncome_LoanAmount\n",
    "\n",
    "combain_data['Gender_Married'] = \\\n",
    "    combain_data[['Gender', 'Married']].apply(lambda x: ''.join(x), axis=1)\n",
    "combain_data['Gender_Dependents'] = \\\n",
    "    combain_data[['Gender', 'Dependents']].apply(lambda x: ''.join(x), axis=1)\n",
    "combain_data['Gender_Education'] = \\\n",
    "    combain_data[['Gender', 'Education']].apply(lambda x: ''.join(x), axis=1)\n",
    "combain_data['Gender_Property_Area'] = \\\n",
    "    combain_data[['Gender', 'Property_Area']].apply(lambda x: ''.join(x), axis=1)\n",
    "combain_data['Gender_Self_Employed'] = \\\n",
    "    combain_data[['Gender', 'Self_Employed']].apply(lambda x: ''.join(x), axis=1)\n",
    "combain_data['Education_Self_Employed'] = \\\n",
    "    combain_data[['Education', 'Self_Employed']].apply(lambda x: ''.join(x), axis=1)\n",
    "\n",
    "numerical_var=[f for f in combain_data.columns if combain_data.dtypes[f] \n",
    "        != 'object']\n",
    "catagorical_var=[f for f in combain_data.columns if(combain_data.dtypes[f] \n",
    "                 == 'object' or combain_data.dtypes[f] == 'str')]"
   ]
  },
  {
   "cell_type": "code",
   "execution_count": 16,
   "metadata": {},
   "outputs": [
    {
     "name": "stdout",
     "output_type": "stream",
     "text": [
      "7.076120215680954\n71.03253946795378\n----------------\n6.833639135606733\n76.95759034089552\n----------------\n2.7478447940023436\n11.888026300496897\n----------------\n-2.499129996894611\n7.537708270500019\n----------------\n-1.8918527405960814\n1.666689940659662\n----------------\n7.498193820892884\n77.62550038930908\n----------------\n2.6594549849676765\n13.90906000876127\n----------------\n-1.4022155291568843\n0.36168617528073765\n----------------\n9.420438091790905\n106.69305154999091\n----------------\n11.95328802013916\n218.57226663850966\n----------------\n5.972681718108678\n57.70593995918707\n----------------\n6.710699311221501\n74.44491173489772\n----------------\n17.845033926311586\n349.221563040032\n----------------\n11.650649506618251\n158.84252013053788\n----------------\n13.308932166575364\n195.6168162927431\n----------------\n13.903026244364584\n218.27703519938342\n----------------\n"
     ]
    }
   ],
   "source": [
    "for c in numerical_var:\n",
    "    print(stats.skew(combain_data[c]))\n",
    "    print(stats.kurtosis(combain_data[c]))\n",
    "    print('----------------')"
   ]
  },
  {
   "cell_type": "code",
   "execution_count": 17,
   "metadata": {},
   "outputs": [],
   "source": [
    "scaler = StandardScaler()\n",
    "i=0\n",
    "while(i<=1):\n",
    "    for c in numerical_var:\n",
    "        if(stats.skew(combain_data[c])>0 and stats.skew(combain_data[c])>0.75):\n",
    "            combain_data[c]=np.log1p(combain_data[c])\n",
    "        elif(stats.skew(combain_data[c])<0 and stats.skew(combain_data[c])<-0.75):\n",
    "            combain_data[c] = combain_data[c]**3\n",
    "            combain_data[c] = scaler.fit_transform(combain_data[[c]])\n",
    "    i=i+1"
   ]
  },
  {
   "cell_type": "code",
   "execution_count": 18,
   "metadata": {},
   "outputs": [
    {
     "name": "stdout",
     "output_type": "stream",
     "text": [
      "(981, 45)\n"
     ]
    }
   ],
   "source": [
    "dummified_data=pd.get_dummies(combain_data[catagorical_var])\n",
    "print(dummified_data.shape)"
   ]
  },
  {
   "cell_type": "code",
   "execution_count": 19,
   "metadata": {},
   "outputs": [],
   "source": [
    "combain_data=combain_data.drop(catagorical_var,axis=1)"
   ]
  },
  {
   "cell_type": "code",
   "execution_count": 20,
   "metadata": {},
   "outputs": [],
   "source": [
    "combain_data=pd.concat([combain_data,dummified_data],axis=1)\n",
    "print(combain_data.shape)"
   ]
  },
  {
   "cell_type": "code",
   "execution_count": 21,
   "metadata": {},
   "outputs": [
    {
     "name": "stdout",
     "output_type": "stream",
     "text": [
      "(614, 61)\n(367, 61)\n"
     ]
    }
   ],
   "source": [
    "train_data=combain_data[:614]\n",
    "test_data=combain_data[614:]\n",
    "print(train_data.shape)\n",
    "print(test_data.shape)"
   ]
  },
  {
   "cell_type": "code",
   "execution_count": 22,
   "metadata": {
    "collapsed": true
   },
   "outputs": [
    {
     "name": "stderr",
     "output_type": "stream",
     "text": [
      "/home/ashwin/anaconda3/lib/python3.6/site-packages/sklearn/utils/deprecation.py:75: DeprecationWarning: Function _ratio_float is deprecated; Use a float for 'ratio' is deprecated from version 0.2. The support will be removed in 0.4. Use a dict, str, or a callable instead.\n  warnings.warn(msg, category=DeprecationWarning)\n"
     ]
    },
    {
     "name": "stdout",
     "output_type": "stream",
     "text": [
      "(843, 61)\n"
     ]
    }
   ],
   "source": [
    "sm_svm = SMOTE(random_state=12,ratio=1,n_jobs=-1,kind='svm')\n",
    "x_synthitic_data,y_synthitic_data = sm_svm.fit_sample(train_data, target)\n",
    "#x_synthitic_data,y_synthitic_data = sm_svm.fit_sample(x_synthitic_data,y_synthitic_data)\n",
    "#x_synthitic_data,y_synthitic_data = sm_svm.fit_sample(x_synthitic_data,y_synthitic_data)\n",
    "print(x_synthitic_data.shape)\n",
    "#print( np.bincount(y_synthitic_data))"
   ]
  },
  {
   "cell_type": "code",
   "execution_count": 24,
   "metadata": {},
   "outputs": [
    {
     "name": "stdout",
     "output_type": "stream",
     "text": [
      "{'C': 10, 'gamma': 0.0001, 'kernel': 'rbf'} 0.7773490484193539\naccuracy 0.776872964169\nrecall 0.985781990521\nprecision 0.760511882998\nauc-roc 0.651745161927\nPredicted   0    1  All\nTrue                   \n0          61  131  192\n1           6  416  422\nAll        67  547  614\n"
     ]
    }
   ],
   "source": [
    "test=pd.read_csv('/home/ashwin/Downloads/AV/loan/test.csv')\n",
    "model=SVC()\n",
    "param_grid = [\n",
    " {'C': [100,250,500], 'kernel': ['linear']},\n",
    "{'C': [1, 10, 100, 200,300,500,600], 'gamma': [0.1,0.01,0.001, 0.0001], 'kernel': ['rbf','sigmoid']},\n",
    "]\n",
    "SVM_model = GridSearchCV(model, param_grid=param_grid,\n",
    "               n_jobs=-1,scoring='roc_auc',refit=True)\n",
    "SVM_model.fit(train_data,target)\n",
    "print(SVM_model.best_params_,SVM_model.best_score_)\n",
    "predictions=SVM_model.predict(train_data)\n",
    "print('accuracy',metrics.accuracy_score(target,predictions))\n",
    "print('recall',metrics.recall_score(target,predictions))\n",
    "print('precision',metrics.precision_score(target,predictions))\n",
    "print('auc-roc',metrics.roc_auc_score(target,predictions))\n",
    "\n",
    "print(pd.crosstab(target, predictions, rownames=['True'], \n",
    "            colnames=['Predicted'], margins=True))\n",
    "predictions=SVM_model.predict(test_data)\n",
    "predictions1=['N' if(x==0) else 'Y' for x in predictions ]\n",
    "submission=pd.DataFrame()\n",
    "submission['Loan_ID']=test['Loan_ID']\n",
    "submission['Loan_Status']=predictions1\n",
    "submission.to_csv('/home/ashwin/Downloads/AV/loan/submissionsvm_new.csv'\n",
    "                  ,index=False)\n"
   ]
  },
  {
   "cell_type": "code",
   "execution_count": 28,
   "metadata": {
    "collapsed": true
   },
   "outputs": [],
   "source": [
    "test=pd.read_csv('/home/ashwin/Downloads/AV/loan/test.csv')\n",
    "n_estimators=50\n",
    "model=BaggingClassifier(SVC(C=250,kernel='rbf',gamma=0.1,\n",
    "     probability=True)\n",
    "    , max_samples=1.0 / n_estimators, n_estimators=n_estimators,n_jobs=-1)\n",
    "model.fit(train_data,target)\n",
    "#predictions=model.predict(train_data)\n",
    "#print('SVM Classifier train/valadiation result')\n",
    "#print('accuracy',metrics.accuracy_score(target,predictions))\n",
    "#print('recall',metrics.recall_score(target,predictions))\n",
    "#print('precision',metrics.precision_score(target,predictions))\n",
    "#print('auc-roc',metrics.roc_auc_score(target,predictions))\n",
    "#pd.crosstab(target, predictions, rownames=['True'], \n",
    "#            colnames=['Predicted'], margins=True)\n",
    "predictions=model.predict(test_data)\n",
    "predictions1=['N' if(x==0) else 'Y' for x in predictions ]\n",
    "submission=pd.DataFrame()\n",
    "submission['Loan_ID']=test['Loan_ID']\n",
    "submission['Loan_Status']=predictions1\n",
    "submission.to_csv('/home/ashwin/Downloads/AV/loan/submissionsvm.csv'\n",
    "                  ,index=False)"
   ]
  },
  {
   "cell_type": "code",
   "execution_count": 27,
   "metadata": {},
   "outputs": [
    {
     "name": "stdout",
     "output_type": "stream",
     "text": [
      "{'bootstrap': True, 'criterion': 'gini', 'max_depth': None, 'max_features': 'auto', 'min_samples_leaf': 1, 'min_samples_split': 8, 'n_estimators': 500, 'oob_score': True, 'random_state': True} 0.7805476848459947\naccuracy 0.920195439739\nrecall 0.985781990521\nprecision 0.906318082789\nauc-roc 0.880911828594\nPredicted    0    1  All\nTrue                    \n0          149   43  192\n1            6  416  422\nAll        155  459  614\n"
     ]
    }
   ],
   "source": [
    "model=RandomForestClassifier()\n",
    "param_dist = {\"max_depth\": [None],\n",
    "              \"max_features\": [\"auto\"],\n",
    "              \"min_samples_split\": [6,7,8],\n",
    "              \"min_samples_leaf\": [1,3,5,7],\n",
    "              \"bootstrap\": [True],\n",
    "              \"criterion\": [\"gini\", \"entropy\"],\n",
    "              \"n_estimators\":[250,500,1000],\n",
    "              #\"n_jobs\":[-1],\n",
    "              \"oob_score\":[True,False],\n",
    "              \"random_state\":[True,False]\n",
    "              }\n",
    "RF_model = GridSearchCV(model, param_grid=param_dist,\n",
    "                n_jobs=-1,scoring='roc_auc',refit=True)\n",
    "RF_model.fit(train_data,target)\n",
    "print(RF_model.best_params_,RF_model.best_score_)\n",
    "predictions=RF_model.predict(train_data)\n",
    "print('accuracy',metrics.accuracy_score(target,predictions))\n",
    "print('recall',metrics.recall_score(target,predictions))\n",
    "print('precision',metrics.precision_score(target,predictions))\n",
    "print('auc-roc',metrics.roc_auc_score(target,predictions))\n",
    "\n",
    "print(pd.crosstab(target, predictions, rownames=['True'], \n",
    "            colnames=['Predicted'], margins=True))\n",
    "\n",
    "predictions=RF_model.predict(test_data)\n",
    "predictions1=['N' if(x==0) else 'Y' for x in predictions ]\n",
    "submission=pd.DataFrame()\n",
    "submission['Loan_ID']=test['Loan_ID']\n",
    "submission['Loan_Status']=predictions1\n",
    "submission.to_csv('/home/ashwin/Downloads/AV/loan/submissionrf.csv'\n",
    "                  ,index=False)"
   ]
  },
  {
   "cell_type": "code",
   "execution_count": 28,
   "metadata": {
    "collapsed": true
   },
   "outputs": [
    {
     "name": "stdout",
     "output_type": "stream",
     "text": [
      "{'C': 1, 'max_iter': 10000, 'penalty': 'l1', 'solver': 'saga'} 0.7406938562468441\nLogistic Regression Classifier Train/valadiation result\naccuracy 0.807817589577\nrecall 0.978672985782\nprecision 0.791187739464\nauc-roc 0.705482326224\nPredicted   0    1  All\nTrue                   \n0          83  109  192\n1           9  413  422\nAll        92  522  614\n"
     ]
    }
   ],
   "source": [
    "test=pd.read_csv('/home/ashwin/Downloads/AV/loan/test.csv')\n",
    "model=LogisticRegression()\n",
    "grid_values = {'penalty': ['l1'], 'C': [0.001,0.005,0.01,0.05,0.1\n",
    "    ,0.5,1,10,100,1000],\n",
    "               'solver' : ['liblinear','saga'],\n",
    "               'max_iter':[10000,20000,30000,40000,50000]}\n",
    "logistic_model = GridSearchCV(model, param_grid=grid_values,\n",
    "                cv=StratifiedKFold(target, n_folds=3, shuffle=True),\n",
    "                n_jobs=-1,scoring='roc_auc',refit=True)\n",
    "logistic_model.fit(train_data,target)\n",
    "print(logistic_model.best_params_,logistic_model.best_score_)\n",
    "predictions=logistic_model.predict(train_data)\n",
    "print('Logistic Regression Classifier Train/valadiation result')\n",
    "print('accuracy',metrics.accuracy_score(target,predictions))\n",
    "print('recall',metrics.recall_score(target,predictions))\n",
    "print('precision',metrics.precision_score(target,predictions))\n",
    "print('auc-roc',metrics.roc_auc_score(target,predictions))\n",
    "print(pd.crosstab(target, predictions, rownames=['True'], \n",
    "            colnames=['Predicted'], margins=True))\n",
    "predictions=logistic_model.predict(test_data)\n",
    "predictions1=['N' if(x==0) else 'Y' for x in predictions ]\n",
    "submission=pd.DataFrame()\n",
    "submission['Loan_ID']=test['Loan_ID']\n",
    "submission['Loan_Status']=predictions1\n",
    "submission.to_csv('/home/ashwin/Downloads/AV/loan/submissionlog.csv'\n",
    "                  ,index=False)\n",
    "\n",
    "\n"
   ]
  },
  {
   "cell_type": "code",
   "execution_count": 24,
   "metadata": {},
   "outputs": [
    {
     "name": "stdout",
     "output_type": "stream",
     "text": [
      "{'colsample_bytree': 0.6, 'learning_rate': 0.001, 'max_depth': 7, 'min_child_weight': 9, 'n_estimators': 150, 'objective': 'binary:logistic', 'seed': 100, 'silent': 1, 'subsample': 0.6} 0.7649117115745738\nLogistic Regression Classifier Train/valadiation result\naccuracy 0.811074918567\nrecall 0.983412322275\nprecision 0.791984732824\nauc-roc 0.707851994471\nPredicted   0    1  All\nTrue                   \n0          83  109  192\n1           7  415  422\nAll        90  524  614\n"
     ]
    }
   ],
   "source": [
    "test=pd.read_csv('/home/ashwin/Downloads/AV/loan/test.csv')\n",
    "xgb_model = xgb.XGBClassifier()\n",
    "parameters = {'objective':['binary:logistic'],\n",
    "              'learning_rate': [0.001,0.005,0.01,0.05,0.1,0.5], #so called `eta` value\n",
    "              'max_depth': [7,8,9,10],\n",
    "             'min_child_weight': [6,7,8,9,10],\n",
    "              'silent': [1],\n",
    "              'subsample': [0.4,0.5,0.6,0.7],\n",
    "              'colsample_bytree': [0.6,0.7,0.8],\n",
    "              'n_estimators': [150],\n",
    "              'seed': [100]}\n",
    "clf = GridSearchCV(xgb_model, parameters, n_jobs=-1, \n",
    "                   cv=StratifiedKFold(target, n_folds=3, shuffle=True), \n",
    "                   scoring='roc_auc',\n",
    "                   refit=True)\n",
    "clf.fit(train_data.as_matrix(),target)\n",
    "print(clf.best_params_,clf.best_score_)\n",
    "predictions=clf.predict(train_data.as_matrix())\n",
    "print('Logistic Regression Classifier Train/valadiation result')\n",
    "print('accuracy',metrics.accuracy_score(target,predictions))\n",
    "print('recall',metrics.recall_score(target,predictions))\n",
    "print('precision',metrics.precision_score(target,predictions))\n",
    "print('auc-roc',metrics.roc_auc_score(target,predictions))\n",
    "print(pd.crosstab(target, predictions, rownames=['True'], \n",
    "            colnames=['Predicted'], margins=True))\n",
    "predictions=clf.predict(test_data.as_matrix())\n",
    "predictions1=['N' if(x==0) else 'Y' for x in predictions ]\n",
    "submission=pd.DataFrame()\n",
    "submission['Loan_ID']=test['Loan_ID']\n",
    "submission['Loan_Status']=predictions1\n",
    "submission.to_csv('/home/ashwin/Downloads/AV/loan/submissionxgb.csv'\n",
    "                  ,index=False)"
   ]
  },
  {
   "cell_type": "code",
   "execution_count": 26,
   "metadata": {},
   "outputs": [
    {
     "name": "stdout",
     "output_type": "stream",
     "text": [
      "Logistic Regression Classifier Train/valadiation result\naccuracy 0.635179153094\nrecall 0.594786729858\nprecision 0.825657894737\nauc-roc 0.659372531596\nPredicted    0    1  All\nTrue                    \n0          139   53  192\n1          171  251  422\nAll        310  304  614\n"
     ]
    }
   ],
   "source": [
    "naive_byase = BernoulliNB()\n",
    "naive_byase.fit(train_data,target)\n",
    "predictions=naive_byase.predict(train_data)\n",
    "print('Logistic Regression Classifier Train/valadiation result')\n",
    "print('accuracy',metrics.accuracy_score(target,predictions))\n",
    "print('recall',metrics.recall_score(target,predictions))\n",
    "print('precision',metrics.precision_score(target,predictions))\n",
    "print('auc-roc',metrics.roc_auc_score(target,predictions))\n",
    "print(pd.crosstab(target, predictions, rownames=['True'], \n",
    "            colnames=['Predicted'], margins=True))\n",
    "predictions=naive_byase.predict(test_data.as_matrix())\n",
    "predictions1=['N' if(x==0) else 'Y' for x in predictions ]\n",
    "submission=pd.DataFrame()\n",
    "submission['Loan_ID']=test['Loan_ID']\n",
    "submission['Loan_Status']=predictions1\n",
    "submission.to_csv('/home/ashwin/Downloads/AV/loan/submissionnaive.csv'\n",
    "                  ,index=False)"
   ]
  },
  {
   "cell_type": "code",
   "execution_count": null,
   "metadata": {},
   "outputs": [],
   "source": []
  }
 ],
 "metadata": {
  "kernelspec": {
   "display_name": "Python 2",
   "language": "python",
   "name": "python2"
  },
  "language_info": {
   "codemirror_mode": {
    "name": "ipython",
    "version": 2
   },
   "file_extension": ".py",
   "mimetype": "text/x-python",
   "name": "python",
   "nbconvert_exporter": "python",
   "pygments_lexer": "ipython2",
   "version": "2.7.6"
  }
 },
 "nbformat": 4,
 "nbformat_minor": 0
}
