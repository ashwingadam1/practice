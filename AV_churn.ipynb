{
 "cells": [
  {
   "cell_type": "code",
   "execution_count": 1,
   "metadata": {
    "collapsed": true
   },
   "outputs": [],
   "source": [
    "import numpy as np\n",
    "import pandas as pd\n",
    "import matplotlib.pyplot as plt\n",
    "import scipy.stats as stats\n",
    "from imblearn.over_sampling import SMOTE\n",
    "import seaborn as sns\n",
    "from sklearn import preprocessing\n",
    "from sklearn.svm import SVC\n",
    "from sklearn.ensemble import RandomForestClassifier,BaggingClassifier\n",
    "%matplotlib inline"
   ]
  },
  {
   "cell_type": "code",
   "execution_count": 2,
   "metadata": {},
   "outputs": [
    {
     "name": "stderr",
     "output_type": "stream",
     "text": [
      "/home/ashwin/anaconda3/lib/python3.6/site-packages/IPython/core/interactiveshell.py:2698: DtypeWarning: Columns (294,299,300,302,307,313,315,365,367,369) have mixed types. Specify dtype option on import or set low_memory=False.\n  interactivity=interactivity, compiler=compiler, result=result)\n"
     ]
    },
    {
     "name": "stderr",
     "output_type": "stream",
     "text": [
      "/home/ashwin/anaconda3/lib/python3.6/site-packages/IPython/core/interactiveshell.py:2698: DtypeWarning: Columns (294,299,300,302,313,315,365,367,369) have mixed types. Specify dtype option on import or set low_memory=False.\n  interactivity=interactivity, compiler=compiler, result=result)\n"
     ]
    },
    {
     "data": {
      "text/plain": [
       "<matplotlib.axes._subplots.AxesSubplot at 0x7fd3e5210048>"
      ]
     },
     "execution_count": 2,
     "metadata": {},
     "output_type": "execute_result"
    },
    {
     "data": {
      "image/png": "[encoded data removed]",
      "text/plain": [
       "<matplotlib.figure.Figure at 0x7fd3e6259710>"
      ]
     },
     "metadata": {},
     "output_type": "display_data"
    }
   ],
   "source": [
    "train_data=pd.read_csv('/home/ashwin/Downloads/AV/churn/train.csv')\n",
    "test_data=pd.read_csv('/home/ashwin/Downloads/AV/churn/test.csv')\n",
    "train_data['Responders'].value_counts().plot(kind='bar')"
   ]
  },
  {
   "cell_type": "code",
   "execution_count": 3,
   "metadata": {},
   "outputs": [
    {
     "data": {
      "text/plain": [
       "300000"
      ]
     },
     "execution_count": 3,
     "metadata": {},
     "output_type": "execute_result"
    }
   ],
   "source": [
    "train_data['Responders'].value_counts()\n",
    "list(train_data)\n",
    "train_data.isnull().sum()\n",
    "train_data.shape[0]"
   ]
  },
  {
   "cell_type": "code",
   "execution_count": 4,
   "metadata": {},
   "outputs": [],
   "source": [
    "target=train_data['Responders']"
   ]
  },
  {
   "cell_type": "code",
   "execution_count": 4,
   "metadata": {
    "collapsed": true
   },
   "outputs": [
    {
     "name": "stdout",
     "output_type": "stream",
     "text": [
      "(500000, 377)\n"
     ]
    },
    {
     "name": "stdout",
     "output_type": "stream",
     "text": [
      "       ATM_C_prev1  ATM_C_prev2  ATM_C_prev3  ATM_C_prev4  ATM_C_prev5  \\\ncount     500000.0     500000.0     500000.0     500000.0     500000.0   \nmean           0.0          0.0          0.0          0.0          0.0   \nstd            0.0          0.0          0.0          0.0          0.0   \nmin            0.0          0.0          0.0          0.0          0.0   \n25%            0.0          0.0          0.0          0.0          0.0   \n50%            0.0          0.0          0.0          0.0          0.0   \n75%            0.0          0.0          0.0          0.0          0.0   \nmax            0.0          0.0          0.0          0.0          0.0   \n\n       ATM_C_prev6   ATM_D_prev1   ATM_D_prev2   ATM_D_prev3   ATM_D_prev4  \\\ncount     500000.0  5.000000e+05  5.000000e+05  5.000000e+05  5.000000e+05   \nmean           0.0  8.743619e+03  9.100736e+03  9.128096e+03  8.350384e+03   \nstd            0.0  3.501787e+04  3.666988e+04  3.651433e+04  3.313372e+04   \nmin            0.0  0.000000e+00  0.000000e+00  0.000000e+00  0.000000e+00   \n25%            0.0  0.000000e+00  0.000000e+00  0.000000e+00  0.000000e+00   \n50%            0.0  0.000000e+00  0.000000e+00  0.000000e+00  0.000000e+00   \n75%            0.0  0.000000e+00  0.000000e+00  0.000000e+00  0.000000e+00   \nmax            0.0  2.519000e+06  3.127145e+06  2.226000e+06  2.372000e+06   \n\n           ...        count_C_prev6  count_D_prev1  count_D_prev2  \\\ncount      ...        500000.000000  500000.000000  500000.000000   \nmean       ...             1.252734       5.246978       5.541694   \nstd        ...            47.409457      11.460073      12.515801   \nmin        ...             0.000000       0.000000       0.000000   \n25%        ...             0.000000       0.000000       0.000000   \n50%        ...             0.000000       2.000000       2.000000   \n75%        ...             1.000000       6.000000       6.000000   \nmax        ...         32244.000000    3641.000000    4337.000000   \n\n       count_D_prev3  count_D_prev4  count_D_prev5  count_D_prev6  \\\ncount  500000.000000  500000.000000  500000.000000  500000.000000   \nmean        5.586122       4.941880       5.415020       4.981734   \nstd        15.849526      18.767552      24.029602      32.013221   \nmin         0.000000       0.000000       0.000000       0.000000   \n25%         0.000000       0.000000       0.000000       0.000000   \n50%         2.000000       1.000000       1.000000       1.000000   \n75%         6.000000       6.000000       6.000000       6.000000   \nmax      6969.000000   10462.000000   14654.000000   21293.000000   \n\n          dependents        vintage            zip  \ncount  456171.000000  500000.000000  498232.000000  \nmean        0.342093    2364.347272  379013.230605  \nstd         0.877056    1611.582901  204926.228673  \nmin         0.000000     180.000000  100015.000000  \n25%         0.000000    1115.000000  160011.000000  \n50%         0.000000    2023.000000  400030.000000  \n75%         0.000000    3179.000000  506001.000000  \nmax        65.000000   26704.000000  999999.000000  \n\n[8 rows x 203 columns]\n"
     ]
    }
   ],
   "source": [
    "target=train_data['Responders']\n",
    "train_data.drop(['Responders'],axis=1)\n",
    "#combain_data=pd.concat([train_data,test_data],axis=0)\n",
    "combain_data=train_data.append(test_data)\n",
    "print(combain_data.shape)\n",
    "combain_data.isnull().sum()\n",
    "combain_data=combain_data.dropna(thresh=0.8*(len(combain_data)),axis=1)\n",
    "combain_data.shape\n",
    "print(combain_data.describe())"
   ]
  },
  {
   "cell_type": "code",
   "execution_count": 5,
   "metadata": {
    "collapsed": true
   },
   "outputs": [
    {
     "name": "stdout",
     "output_type": "stream",
     "text": [
      "['ATM_C_prev1', 'ATM_C_prev2', 'ATM_C_prev3', 'ATM_C_prev4', 'ATM_C_prev5', 'ATM_C_prev6', 'COUNT_ATM_C_prev1', 'COUNT_ATM_C_prev2', 'COUNT_ATM_C_prev3', 'COUNT_ATM_C_prev4', 'COUNT_ATM_C_prev5', 'COUNT_ATM_C_prev6', 'COUNT_MB_C_prev1', 'COUNT_MB_C_prev2', 'COUNT_MB_C_prev3', 'COUNT_MB_C_prev4', 'COUNT_MB_C_prev5', 'COUNT_MB_C_prev6', 'COUNT_POS_C_prev1', 'COUNT_POS_C_prev2', 'COUNT_POS_C_prev3', 'COUNT_POS_C_prev4', 'COUNT_POS_C_prev5', 'COUNT_POS_C_prev6', 'MB_C_prev1', 'MB_C_prev2', 'MB_C_prev3', 'MB_C_prev4', 'MB_C_prev5', 'MB_C_prev6', 'MB_D_prev1', 'MB_D_prev2', 'MB_D_prev3', 'MB_D_prev4', 'MB_D_prev5', 'MB_D_prev6', 'POS_C_prev1', 'POS_C_prev2', 'POS_C_prev3', 'POS_C_prev4', 'POS_C_prev5', 'POS_C_prev6']\n"
     ]
    }
   ],
   "source": [
    "numerical_var=[f for f in combain_data.columns if combain_data.dtypes[f] \n",
    "        != 'object']\n",
    "catagorical_var=[f for f in combain_data.columns if(combain_data.dtypes[f] \n",
    "                 == 'object' or combain_data.dtypes[f] == 'str')]\n",
    "numerical_var\n",
    "numclasses=[]\n",
    "for c in numerical_var:\n",
    "    numclasses.append(int(len(np.unique(combain_data[[c]]))))\n",
    "\n",
    "threshold=10\n",
    "categorical_variables1 = list(np.array(numerical_var)[np.array(numclasses)<int(threshold)])\n",
    "print(categorical_variables1)\n",
    "\n",
    "#numclasses=[]\n",
    "#for c in categorical_variables1:\n",
    "#    numclasses.append(int(len(np.unique(combain_data[[c]]))))\n",
    "\n",
    "#threshold=1\n",
    "#categorical_variables1 = list(np.array(categorical_variables1)[np.array(numclasses)>int(threshold)])\n",
    "#print(len(categorical_variables1))"
   ]
  },
  {
   "cell_type": "code",
   "execution_count": 6,
   "metadata": {},
   "outputs": [],
   "source": [
    "combain_data=combain_data.drop(categorical_variables1,axis=1)"
   ]
  },
  {
   "cell_type": "code",
   "execution_count": 7,
   "metadata": {},
   "outputs": [
    {
     "data": {
      "text/plain": [
       "(500000, 173)"
      ]
     },
     "execution_count": 7,
     "metadata": {},
     "output_type": "execute_result"
    }
   ],
   "source": [
    "combain_data.shape"
   ]
  },
  {
   "cell_type": "code",
   "execution_count": 8,
   "metadata": {},
   "outputs": [
    {
     "name": "stdout",
     "output_type": "stream",
     "text": [
      "12\n161\n"
     ]
    }
   ],
   "source": [
    "len(catagorical_var)\n",
    "#catagorical_var.extend(categorical_variables1)\n",
    "numerical_var=[f for f in combain_data.columns if f not in list(catagorical_var)]\n",
    "print(len(catagorical_var))\n",
    "print(len(numerical_var))"
   ]
  },
  {
   "cell_type": "code",
   "execution_count": 9,
   "metadata": {
    "collapsed": true
   },
   "outputs": [
    {
     "name": "stdout",
     "output_type": "stream",
     "text": [
      "   ATM_D_prev1  ATM_D_prev2  ATM_D_prev3  ATM_D_prev4  ATM_D_prev5  \\\n0          0.0          0.0     100000.0          0.0      55000.0   \n1      18000.0      25000.0      30000.0       5000.0      18500.0   \n2          0.0          0.0          0.0          0.0        100.0   \n3          0.0          0.0          0.0          0.0          0.0   \n4          0.0          0.0          0.0          0.0          0.0   \n\n   ATM_D_prev6   BAL_prev1   BAL_prev2   BAL_prev3   BAL_prev4    ...     \\\n0          0.0   743952.92   943952.92  1014344.86  1037802.92    ...      \n1      19000.0  8034290.99  6471503.11  5543465.03  5973512.08    ...      \n2          0.0   317922.94   217899.88     4629.43     4413.95    ...      \n3          0.0   856120.91   856120.91   856120.91   856120.91    ...      \n4          0.0   412330.33    44476.32    61112.77    71949.97    ...      \n\n   count_D_prev1  count_D_prev2  count_D_prev3  count_D_prev4  count_D_prev5  \\\n0              1              0              5              1             14   \n1              5              8             12              2             12   \n2              4              0              0              1              3   \n3              0              0              0              0              0   \n4             12              4              4              3              3   \n\n   count_D_prev6  dependents  gender_bin  vintage       zip  \n0              0    0.000000      Female     1947  562114.0  \n1              9    0.000000        Male     3082  400015.0  \n2              0    0.342093        Male      572  733126.0  \n3              0    0.000000        Male      773  637410.0  \n4              9    0.000000      Female     1627  400053.0  \n\n[5 rows x 173 columns]\n"
     ]
    },
    {
     "data": {
      "text/plain": [
       "[]"
      ]
     },
     "execution_count": 9,
     "metadata": {},
     "output_type": "execute_result"
    }
   ],
   "source": [
    "for c in numerical_var:\n",
    "    combain_data[c].fillna(combain_data[c].mean(), inplace=True)\n",
    "for c in catagorical_var:\n",
    "    combain_data[c].fillna(combain_data[c].mode()[0], inplace=True)\n",
    "print(combain_data.head())\n",
    "combain_data.columns[combain_data.isnull().any()].tolist()"
   ]
  },
  {
   "cell_type": "code",
   "execution_count": 15,
   "metadata": {
    "collapsed": true
   },
   "outputs": [
    {
     "name": "stdout",
     "output_type": "stream",
     "text": [
      "12.365363810121115\n14.362871079960733\n12.950211026536396\n13.430267329588965\n14.86716325131893\n13.907579588894066\n185.19255920900466\n187.06532917794036\n149.4881042384556\n147.9669843992119\n144.61832522231012\n153.8946495930514\n205.87791050684106\n238.41501722606637\n161.7694161811877\n226.86424206556342\n234.73878547613765\n229.2401973367788\n270.6475905642187\n258.7776343626194\n192.46208201085565\n221.3634860420618\n316.81562775432036\n253.61495423956953\n13.756538289933577\n7.997079943267448\n"
     ]
    },
    {
     "name": "stdout",
     "output_type": "stream",
     "text": [
      "93.087751302152\n122.1780536111029\n100.76677572315523\n77.18230391392702\n196.50608902610847\n74.22640113087519\n9.138010477068407\n9.31679753417751\n8.932101410596054\n8.229702851683603\n8.333527096931125\n9.401995216476033\n530.3005220720191\n636.222245227449\n704.4780109576669\n388.4993922203894\n698.0072289603125\n641.0305003645492\n406.1443775551392\n419.0955808513332\n445.11988191591433\n554.7543984770721\n"
     ]
    },
    {
     "name": "stdout",
     "output_type": "stream",
     "text": [
      "618.3242812767983\n673.9804937658175\n52.28567796948967\n59.469256587424894\n31.15969877977428\n50.149477085837\n49.144391330150626\n104.46021663755724\n8.088872757856969\n7.953152103948544\n8.612195174521029\n9.964029838901926\n11.103187077132256\n9.663838665792333\n84.65570206957089\n80.32852871444086\n81.9549979979284\n39.95754951919075\n31.228252462133355\n42.19121660795337\n"
     ]
    },
    {
     "name": "stdout",
     "output_type": "stream",
     "text": [
      "29.84146170186514\n22.42080730582217\n21.480120958461196\n20.83548438512197\n23.22546573944224\n23.867692528886373\n650.5769095507922\n421.02012165146687\n298.89672820994485\n607.0215003339213\n362.6156456684078\n185.099775098405\n187.05963334175294\n149.49921410336225\n147.960606986173\n144.6384150026794\n153.93332488664942\n193.18291197385165\n227.39451535924363\n154.87028143574062\n221.45017295388107\n217.84328548445097\n207.49226216355547\n46.73387880025561\n"
     ]
    },
    {
     "name": "stdout",
     "output_type": "stream",
     "text": [
      "258.8238732960893\n248.40565898467855\n183.37076451218488\n215.66882075047872\n310.9291816918938\n242.2377317043011\n236.8600154330515\n184.25198265809547\n188.9003756761258\n227.43538326345035\n164.15799128219223\n155.10939817432927\n154.3136751551039\n155.06784288010905\n184.86406351878304\n179.7694659568707\n260.86632585672885\n149.61681126600416\n135.90855343223961\n201.4115746392953\n280.88052247854034\n195.68294562022976\n300.955807993851\n"
     ]
    },
    {
     "name": "stdout",
     "output_type": "stream",
     "text": [
      "150.00032667929142\n225.0968302689252\n103.62595574315365\n110.48030515044344\n111.892786772057\n162.2506124617726\n149.73492000297753\n83.25854923055418\n81.61562646568227\n162.22280942593457\n149.7443618446773\n231.21179604161912\n180.05494424787616\n4.225815950179919\n66.77689481675621\n24.925397741123334\n22.93042456721981\n31.912063330543205\n22.33081855380505\n23.154871384400604\n89.29470706902987\n124.14826340211877\n6.979516798765435\n2.318778901715229"
     ]
    },
    {
     "name": "stdout",
     "output_type": "stream",
     "text": [
      "\n1.7178920025665179\n2.5850173679884447\n132.68967374397948\n137.0977524726517\n-4.469522467942154e-19\n0.31853761704366496\n1.270213027868729\n528.0697754084453\n635.9467368363977\n704.4711335274144\n388.2908884135798\n697.9811590414873\n640.7520259598033\n70.3862085750058\n91.79591951413737\n198.93208256581602\n362.4808667451274\n461.5768449645225\n590.4100276879917\n7.190573366179853\n0.8823167275434096\n"
     ]
    },
    {
     "name": "stdout",
     "output_type": "stream",
     "text": [
      "0.2968735475768148\n"
     ]
    }
   ],
   "source": [
    "for c in numerical_var:\n",
    "    print(stats.skew((combain_data[c])))"
   ]
  },
  {
   "cell_type": "code",
   "execution_count": 16,
   "metadata": {},
   "outputs": [
    {
     "name": "stderr",
     "output_type": "stream",
     "text": [
      "/home/ashwin/anaconda3/lib/python3.6/site-packages/ipykernel_launcher.py:4: RuntimeWarning: divide by zero encountered in log1p\n  after removing the cwd from sys.path.\n/home/ashwin/anaconda3/lib/python3.6/site-packages/ipykernel_launcher.py:4: RuntimeWarning: invalid value encountered in log1p\n  after removing the cwd from sys.path.\n"
     ]
    }
   ],
   "source": [
    "skewed=combain_data[numerical_var].apply(lambda x:stats.skew(x.dropna()))\n",
    "skewed=skewed[skewed>0.75]\n",
    "skewed=skewed.index\n",
    "combain_data[skewed]=np.log1p(combain_data[skewed])"
   ]
  },
  {
   "cell_type": "code",
   "execution_count": null,
   "metadata": {},
   "outputs": [],
   "source": [
    "dummies=pd.get_dummies(combain_data[catagorical_var])\n",
    "dummies.shape"
   ]
  },
  {
   "cell_type": "code",
   "execution_count": 20,
   "metadata": {},
   "outputs": [
    {
     "name": "stdout",
     "output_type": "stream",
     "text": [
      "(300000, 377)\n(200000, 376)\n"
     ]
    }
   ],
   "source": [
    "print(train_data.shape)\n",
    "print(test_data.shape)\n"
   ]
  },
  {
   "cell_type": "code",
   "execution_count": 21,
   "metadata": {},
   "outputs": [],
   "source": [
    "del train_data\n",
    "del test_data\n",
    "combain_data=combain_data.drop(catagorical_var,axis=1)"
   ]
  },
  {
   "cell_type": "code",
   "execution_count": 22,
   "metadata": {},
   "outputs": [],
   "source": [
    "combain_data=pd.concat([combain_data,dummies],axis=1)"
   ]
  },
  {
   "cell_type": "code",
   "execution_count": 28,
   "metadata": {},
   "outputs": [
    {
     "data": {
      "text/plain": [
       "(500000, 5424)"
      ]
     },
     "execution_count": 28,
     "metadata": {},
     "output_type": "execute_result"
    }
   ],
   "source": [
    "combain_data.shape"
   ]
  },
  {
   "cell_type": "code",
   "execution_count": 29,
   "metadata": {},
   "outputs": [],
   "source": [
    "combain_data.to_csv('/home/ashwin/Downloads/AV/churn/combain_data.csv')"
   ]
  },
  {
   "cell_type": "code",
   "execution_count": null,
   "metadata": {},
   "outputs": [],
   "source": [
    "train_data=combain_data[0:300000]\n",
    "test_data=combain_data[300000:]"
   ]
  },
  {
   "cell_type": "code",
   "execution_count": 36,
   "metadata": {},
   "outputs": [],
   "source": [
    "del combain_data"
   ]
  },
  {
   "cell_type": "code",
   "execution_count": 38,
   "metadata": {},
   "outputs": [],
   "source": [
    "sm = SMOTE(random_state=12,ratio=1,n_jobs=-1)\n",
    "x_synthitic_data_tf,y_synthitic_data_tf = sm.fit_sample(train_data, target)\n",
    "print(x_synthitic_data_tf.shape)\n",
    "print( np.bincount(y_synthitic_data_tf))"
   ]
  },
  {
   "cell_type": "code",
   "execution_count": null,
   "metadata": {},
   "outputs": [],
   "source": [
    "del train_data\n",
    "del test_data"
   ]
  },
  {
   "cell_type": "code",
   "execution_count": 2,
   "metadata": {},
   "outputs": [],
   "source": [
    "train_data=pd.read_csv(\n",
    "    '/home/ashwin/Downloads/AV/churn/combain_data.csv',nrows=300000)"
   ]
  },
  {
   "cell_type": "code",
   "execution_count": null,
   "metadata": {},
   "outputs": [],
   "source": [
    "test_data=pd.read_csv(\n",
    "    '/home/ashwin/Downloads/AV/churn/combain_data.csv',skip=300000)"
   ]
  },
  {
   "cell_type": "code",
   "execution_count": 13,
   "metadata": {},
   "outputs": [],
   "source": [
    "chunlsize=300000\n",
    "validation_data=pd.read_csv('/home/ashwin/Downloads/AV/churn/combain_data.csv',skiprows=range(1,28000000),\n",
    "                 chunksize=chunlsize)"
   ]
  },
  {
   "cell_type": "code",
   "execution_count": null,
   "metadata": {},
   "outputs": [],
   "source": [
    "n_estimators=20\n",
    "model=BaggingClassifier(SVC(C=500,kernel='rbf',gamma=0.01,\n",
    "                            class_weight=[{0:0.2,1:0.8}],\n",
    "     probability=True)\n",
    "    , max_samples=1.0 / n_estimators, n_estimators=n_estimators,n_jobs=-1)"
   ]
  },
  {
   "cell_type": "code",
   "execution_count": null,
   "metadata": {},
   "outputs": [],
   "source": []
  },
  {
   "cell_type": "code",
   "execution_count": null,
   "metadata": {},
   "outputs": [],
   "source": [
    "for chunk in validation_data:\n",
    "    print(list(chunk))"
   ]
  }
 ],
 "metadata": {
  "kernelspec": {
   "display_name": "Python 2",
   "language": "python",
   "name": "python2"
  },
  "language_info": {
   "codemirror_mode": {
    "name": "ipython",
    "version": 2
   },
   "file_extension": ".py",
   "mimetype": "text/x-python",
   "name": "python",
   "nbconvert_exporter": "python",
   "pygments_lexer": "ipython2",
   "version": "2.7.6"
  }
 },
 "nbformat": 4,
 "nbformat_minor": 0
}
