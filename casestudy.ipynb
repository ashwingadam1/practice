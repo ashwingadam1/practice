{
 "cells": [
  {
   "cell_type": "code",
   "execution_count": 1,
   "metadata": {
    "collapsed": true
   },
   "outputs": [
    {
     "name": "stderr",
     "output_type": "stream",
     "text": [
      "/home/ashwin/anaconda3/lib/python3.6/site-packages/sklearn/cross_validation.py:41: DeprecationWarning: This module was deprecated in version 0.18 in favor of the model_selection module into which all the refactored classes and functions are moved. Also note that the interface of the new CV iterators are different from that of this module. This module will be removed in 0.20.\n  \"This module will be removed in 0.20.\", DeprecationWarning)\n/home/ashwin/anaconda3/lib/python3.6/site-packages/sklearn/grid_search.py:42: DeprecationWarning: This module was deprecated in version 0.18 in favor of the model_selection module into which all the refactored classes and functions are moved. This module will be removed in 0.20.\n  DeprecationWarning)\n"
     ]
    }
   ],
   "source": [
    "import pandas as pd\n",
    "import numpy as np\n",
    "import IPython.display as display\n",
    "import matplotlib.pyplot as plt\n",
    "import seaborn as sns\n",
    "from sklearn.cross_validation import train_test_split\n",
    "import scipy.stats as stats\n",
    "#from imblearn.over_sampling import SMOTE\n",
    "from imblearn.combine import SMOTETomek\n",
    "import xgboost as xgb\n",
    "from sklearn.cross_validation import *\n",
    "from sklearn.grid_search import GridSearchCV \n",
    "from sklearn.externals import joblib\n",
    "import sklearn.metrics as metrics\n",
    "from sklearn.linear_model import LogisticRegression\n",
    "from sklearn.svm import SVC\n",
    "from sklearn.ensemble import RandomForestClassifier,BaggingClassifier\n",
    "%matplotlib inline"
   ]
  },
  {
   "cell_type": "code",
   "execution_count": 2,
   "metadata": {},
   "outputs": [],
   "source": [
    "#read the data from the csv file\n",
    "data=pd.read_csv('/home/ashwin/Downloads/xyz.csv')"
   ]
  },
  {
   "cell_type": "code",
   "execution_count": 3,
   "metadata": {
    "collapsed": true
   },
   "outputs": [
    {
     "name": "stdout",
     "output_type": "stream",
     "text": [
      "   Gender  IsUrban  IsEmployed  BoughtBefore  TakenLoan  IsStudying  \\\n0       1        0           1             1          0           0   \n1       1        1           1             0          0           0   \n2       0        0           1             0          1           1   \n3       1        0           0             1          0           0   \n4       1        1           0             0          1           1   \n\n   UseTwitter  HasCar  TraveledAbroad  PreviouslyTargetedMktg   ...     \\\n0           0       1               0                       1   ...      \n1           0       0               0                       1   ...      \n2           1       0               0                       1   ...      \n3           0       1               1                       1   ...      \n4           0       0               1                       0   ...      \n\n   NormalizedDemographyIndex  NormalizedInternetIndex  \\\n0                   0.435351                -4.156494   \n1                   1.011367                -2.758863   \n2                   1.734328                -0.321162   \n3                   1.295629                 0.263888   \n4                   0.753078                -0.295483   \n\n   NormalizedPurchaseIndex  NormalizedIndex1  NormalizedIndex2  \\\n0                 0.929924          1.005164          1.271033   \n1                 1.147366          0.668264          1.329648   \n2                -0.186733         -0.109648         -2.033628   \n3                -0.430801         -1.267885          0.168151   \n4                 0.423586          0.819925         -1.157405   \n\n   NormalizedIndex3  NormalizedIndex4  NormalizedIndex5  NormalizedIndex6  \\\n0          5.435806         -5.005863          0.462936          1.444430   \n1          4.645166         -3.758317         -0.590872          0.904374   \n2          0.294016         -2.756360         -1.731109         -2.068905   \n3         -0.052525         -0.890818          1.458216         -0.393014   \n4          0.082357         -0.444187          0.108573         -1.105927   \n\n   Bought?  \n0        1  \n1        1  \n2        1  \n3        1  \n4        1  \n\n[5 rows x 21 columns]\n"
     ]
    }
   ],
   "source": [
    "#check the sample data\n",
    "print(data.head())"
   ]
  },
  {
   "cell_type": "code",
   "execution_count": 4,
   "metadata": {
    "collapsed": false
   },
   "outputs": [],
   "source": [
    "#to know what are the coloumns are present\n",
    "coloumns=list(data)\n",
    "print(coloumns)"
   ]
  },
  {
   "cell_type": "code",
   "execution_count": 5,
   "metadata": {
    "collapsed": true
   },
   "outputs": [
    {
     "data": {
      "text/plain": [
       "Gender                         int64\nIsUrban                        int64\nIsEmployed                     int64\nBoughtBefore                   int64\nTakenLoan                      int64\nIsStudying                     int64\nUseTwitter                     int64\nHasCar                         int64\nTraveledAbroad                 int64\nPreviouslyTargetedMktg         int64\nNormalizedSalary             float64\nNormalizedDemographyIndex    float64\nNormalizedInternetIndex      float64\nNormalizedPurchaseIndex      float64\nNormalizedIndex1             float64\nNormalizedIndex2             float64\nNormalizedIndex3             float64\nNormalizedIndex4             float64\nNormalizedIndex5             float64\nNormalizedIndex6             float64\nBought?                        int64\ndtype: object"
      ]
     },
     "execution_count": 5,
     "metadata": {},
     "output_type": "execute_result"
    }
   ],
   "source": [
    "#to check what is the type of the data present in the file\n",
    "data.dtypes"
   ]
  },
  {
   "cell_type": "code",
   "execution_count": 6,
   "metadata": {
    "collapsed": true
   },
   "outputs": [
    {
     "name": "stdout",
     "output_type": "stream",
     "text": [
      "<class 'pandas.core.frame.DataFrame'>\nRangeIndex: 110006 entries, 0 to 110005\nData columns (total 21 columns):\nGender                       110006 non-null int64\nIsUrban                      110006 non-null int64\nIsEmployed                   110006 non-null int64\nBoughtBefore                 110006 non-null int64\nTakenLoan                    110006 non-null int64\nIsStudying                   110006 non-null int64\nUseTwitter                   110006 non-null int64\nHasCar                       110006 non-null int64\nTraveledAbroad               110006 non-null int64\nPreviouslyTargetedMktg       110006 non-null int64\nNormalizedSalary             110006 non-null float64\nNormalizedDemographyIndex    110006 non-null float64\nNormalizedInternetIndex      110006 non-null float64\nNormalizedPurchaseIndex      110006 non-null float64\nNormalizedIndex1             110006 non-null float64\nNormalizedIndex2             110006 non-null float64\nNormalizedIndex3             110006 non-null float64\nNormalizedIndex4             110006 non-null float64\nNormalizedIndex5             110006 non-null float64\nNormalizedIndex6             110006 non-null float64\nBought?                      110006 non-null int64\ndtypes: float64(10), int64(11)\nmemory usage: 17.6 MB\n"
     ]
    }
   ],
   "source": [
    "#to check the number of non null values present in the data\n",
    "#data.isnull().sum() //to check the null values present in the each coloum\n",
    "data.info()"
   ]
  },
  {
   "cell_type": "code",
   "execution_count": 7,
   "metadata": {
    "collapsed": true
   },
   "outputs": [
    {
     "name": "stdout",
     "output_type": "stream",
     "text": [
      "              Gender        IsUrban     IsEmployed   BoughtBefore  \\\ncount  110006.000000  110006.000000  110006.000000  110006.000000   \nmean        0.712225       0.499582       0.296784       0.497700   \nstd         0.452728       0.500002       0.456843       0.499997   \nmin         0.000000       0.000000       0.000000       0.000000   \n25%         0.000000       0.000000       0.000000       0.000000   \n50%         1.000000       0.000000       0.000000       0.000000   \n75%         1.000000       1.000000       1.000000       1.000000   \nmax         1.000000       1.000000       1.000000       1.000000   \n\n           TakenLoan     IsStudying     UseTwitter         HasCar  \\\ncount  110006.000000  110006.000000  110006.000000  110006.000000   \nmean        0.436658       0.498709       0.502118       0.499955   \nstd         0.495974       0.500001       0.499998       0.500002   \nmin         0.000000       0.000000       0.000000       0.000000   \n25%         0.000000       0.000000       0.000000       0.000000   \n50%         0.000000       0.000000       1.000000       0.000000   \n75%         1.000000       1.000000       1.000000       1.000000   \nmax         1.000000       1.000000       1.000000       1.000000   \n\n       TraveledAbroad  PreviouslyTargetedMktg      ...        \\\ncount   110006.000000           110006.000000      ...         \nmean         0.498809                0.501318      ...         \nstd          0.500001                0.500001      ...         \nmin          0.000000                0.000000      ...         \n25%          0.000000                0.000000      ...         \n50%          0.000000                1.000000      ...         \n75%          1.000000                1.000000      ...         \nmax          1.000000                1.000000      ...         \n\n       NormalizedDemographyIndex  NormalizedInternetIndex  \\\ncount              110006.000000            110006.000000   \nmean                    0.171569                -0.000279   \nstd                     2.070415                 1.820191   \nmin                   -10.541022                -7.097471   \n25%                    -1.067141                -1.254682   \n50%                     0.376003                 0.010837   \n75%                     1.594457                 1.253322   \nmax                     8.501400                 8.363895   \n\n       NormalizedPurchaseIndex  NormalizedIndex1  NormalizedIndex2  \\\ncount            110006.000000     110006.000000     110006.000000   \nmean                  0.005593          0.003408          0.823398   \nstd                   1.866896          0.997093          1.781481   \nmin                 -10.295241         -4.163637         -7.157145   \n25%                  -1.261824         -0.669833         -0.352207   \n50%                   0.047611          0.001950          0.827105   \n75%                   1.311898          0.677840          1.998687   \nmax                   7.960829          4.085451          9.347819   \n\n       NormalizedIndex3  NormalizedIndex4  NormalizedIndex5  NormalizedIndex6  \\\ncount     110006.000000     110006.000000     110006.000000     110006.000000   \nmean          -0.209386          0.463314          0.000929         -0.001373   \nstd            2.979499          3.647505          1.001211          1.770123   \nmin          -14.860261        -11.522410         -4.197622         -6.771238   \n25%           -2.110938         -2.172123         -0.674719         -1.233871   \n50%            0.072673         -0.211899         -0.000215         -0.033114   \n75%            1.905032          2.706055          0.677697          1.207059   \nmax           11.807966         18.728575          4.348862          7.393797   \n\n             Bought?  \ncount  110006.000000  \nmean        0.090904  \nstd         0.287474  \nmin         0.000000  \n25%         0.000000  \n50%         0.000000  \n75%         0.000000  \nmax         1.000000  \n\n[8 rows x 21 columns]\n"
     ]
    }
   ],
   "source": [
    "#to have the very rough idea how the distributions are there\n",
    "print(data.describe())"
   ]
  },
  {
   "cell_type": "code",
   "execution_count": 8,
   "metadata": {},
   "outputs": [
    {
     "data": {
      "text/plain": [
       "<matplotlib.axes._subplots.AxesSubplot at 0x7efddc13ea20>"
      ]
     },
     "execution_count": 8,
     "metadata": {},
     "output_type": "execute_result"
    },
    {
     "data": {
      "image/png": "[encoded data removed]",
      "text/plain": [
       "<matplotlib.figure.Figure at 0x7efddc167b38>"
      ]
     },
     "metadata": {},
     "output_type": "display_data"
    }
   ],
   "source": [
    "#since it is a classification problem we need to check \n",
    "# the data is imbalance or balanced from the below figure we can know that data\n",
    "#is imbalance\n",
    "data['Bought?'].value_counts().plot(kind='bar')"
   ]
  },
  {
   "cell_type": "code",
   "execution_count": null,
   "metadata": {
    "collapsed": true
   },
   "outputs": [],
   "source": [
    "#divide the variables as the catagorical variables and continous variables\n",
    "catagorical_variables=[var for var in coloumns if(data[var].dtype=='int64')]\n",
    "continous_variables=[var for var in coloumns \n",
    "                     if(var not in catagorical_variables)]\n",
    "del catagorical_variables[-1]\n",
    "print(continous_variables,catagorical_variables)\n",
    "# checking the skewness\n",
    "# since all the continous variables are normalized skewness in in the acceptable range\n",
    "#so no need of data transformation\n",
    "for variable in continous_variables:\n",
    "    print(variable,stats.skew(data[variable]))"
   ]
  },
  {
   "cell_type": "code",
   "execution_count": null,
   "metadata": {},
   "outputs": [],
   "source": [
    "dummified_data=data[catagorical_variables].astype(np.object)\n",
    "#dummified_data=data[catagorical_variables]\n",
    "dummified_data=pd.get_dummies(dummified_data)\n",
    "dummified_data.shape"
   ]
  },
  {
   "cell_type": "code",
   "execution_count": null,
   "metadata": {
    "collapsed": true
   },
   "outputs": [],
   "source": [
    "data_modified=pd.concat((dummified_data,data[continous_variables]),axis=1)\n",
    "list(data_modified)"
   ]
  },
  {
   "cell_type": "code",
   "execution_count": 16,
   "metadata": {},
   "outputs": [
    {
     "name": "stdout",
     "output_type": "stream",
     "text": [
      "(110006, 30)\n"
     ]
    }
   ],
   "source": [
    "print(data_modified.shape)\n",
    "target=data['Bought?']"
   ]
  },
  {
   "cell_type": "code",
   "execution_count": null,
   "metadata": {},
   "outputs": [],
   "source": [
    "X_train, X_test, y_train, y_test = train_test_split( data_modified,target,\n",
    "        random_state=100,test_size=0.30,stratify=target)\n",
    "print(X_train.shape)\n",
    "print(y_train.shape)\n",
    "print(X_test.shape)\n",
    "print(y_test.shape)"
   ]
  },
  {
   "cell_type": "code",
   "execution_count": null,
   "metadata": {},
   "outputs": [],
   "source": [
    "sm = SMOTETomek(random_state=12,ratio=1)\n",
    "x_res, y_res = sm.fit_sample(X_train, y_train)\n",
    "print(x_res.shape)\n",
    "print( np.bincount(y_res))"
   ]
  },
  {
   "cell_type": "code",
   "execution_count": null,
   "metadata": {},
   "outputs": [],
   "source": [
    "#xgb_model = xgb.XGBClassifier()\n",
    "#parameters = {'objective':['binary:logistic'],\n",
    "#              'learning_rate': [0.001,0.005,0.01,0.05,0.1,0.5], #so called `eta` value\n",
    "#              'max_depth': [7,8,9,10],\n",
    "#              'min_child_weight': [6,7,8,9,10],\n",
    "#              'silent': [1],\n",
    "#              'subsample': [0.5],\n",
    "#              'colsample_bytree': [0.6,0.7,0.8],\n",
    "#              'n_estimators': [25],\n",
    "#              'seed': [100]}\n",
    "#clf = GridSearchCV(xgb_model, parameters, n_jobs=-1, \n",
    "#                   cv=StratifiedKFold(y_res, n_folds=3, shuffle=True), \n",
    "#                   scoring='roc_auc',\n",
    "#                   refit=True)\n",
    "#clf.fit(x_res,y_res)\n",
    "#print(clf.best_params_,clf.best_score_)\n",
    "#joblib.dump(clf, 'xgboost.pkl', compress=True)"
   ]
  },
  {
   "cell_type": "code",
   "execution_count": 43,
   "metadata": {
    "collapsed": false
   },
   "outputs": [
    {
     "name": "stdout",
     "output_type": "stream",
     "text": [
      "XGboost Classifier train/validation result\naccuracy 0.976520700223\nrecall 0.784142857143\nprecision 0.948669201521\nauc-roc 0.889950121218\n"
     ]
    },
    {
     "data": {
      "text/html": [
       "<div>\n",
       "<style>\n",
       "    .dataframe thead tr:only-child th {\n",
       "        text-align: right;\n",
       "    }\n",
       "\n",
       "    .dataframe thead th {\n",
       "        text-align: left;\n",
       "    }\n",
       "\n",
       "    .dataframe tbody tr th {\n",
       "        vertical-align: top;\n",
       "    }\n",
       "</style>\n",
       "<table border=\"1\" class=\"dataframe\">\n",
       "  <thead>\n",
       "    <tr style=\"text-align: right;\">\n",
       "      <th>Predicted</th>\n",
       "      <th>0</th>\n",
       "      <th>1</th>\n",
       "      <th>All</th>\n",
       "    </tr>\n",
       "    <tr>\n",
       "      <th>True</th>\n",
       "      <th></th>\n",
       "      <th></th>\n",
       "      <th></th>\n",
       "    </tr>\n",
       "  </thead>\n",
       "  <tbody>\n",
       "    <tr>\n",
       "      <th>0</th>\n",
       "      <td>69707</td>\n",
       "      <td>297</td>\n",
       "      <td>70004</td>\n",
       "    </tr>\n",
       "    <tr>\n",
       "      <th>1</th>\n",
       "      <td>1511</td>\n",
       "      <td>5489</td>\n",
       "      <td>7000</td>\n",
       "    </tr>\n",
       "    <tr>\n",
       "      <th>All</th>\n",
       "      <td>71218</td>\n",
       "      <td>5786</td>\n",
       "      <td>77004</td>\n",
       "    </tr>\n",
       "  </tbody>\n",
       "</table>\n",
       "</div>"
      ],
      "text/plain": [
       "<div>\n",
       "<style>\n",
       "    .dataframe thead tr:only-child th {\n",
       "        text-align: right;\n",
       "    }\n",
       "\n",
       "    .dataframe thead th {\n",
       "        text-align: left;\n",
       "    }\n",
       "\n",
       "    .dataframe tbody tr th {\n",
       "        vertical-align: top;\n",
       "    }\n",
       "</style>\n",
       "<table border=\"1\" class=\"dataframe\">\n",
       "  <thead>\n",
       "    <tr style=\"text-align: right;\">\n",
       "      <th>Predicted</th>\n",
       "      <th>0</th>\n",
       "      <th>1</th>\n",
       "      <th>All</th>\n",
       "    </tr>\n",
       "    <tr>\n",
       "      <th>True</th>\n",
       "      <th></th>\n",
       "      <th></th>\n",
       "      <th></th>\n",
       "    </tr>\n",
       "  </thead>\n",
       "  <tbody>\n",
       "    <tr>\n",
       "      <th>0</th>\n",
       "      <td>69707</td>\n",
       "      <td>297</td>\n",
       "      <td>70004</td>\n",
       "    </tr>\n",
       "    <tr>\n",
       "      <th>1</th>\n",
       "      <td>1511</td>\n",
       "      <td>5489</td>\n",
       "      <td>7000</td>\n",
       "    </tr>\n",
       "    <tr>\n",
       "      <th>All</th>\n",
       "      <td>71218</td>\n",
       "      <td>5786</td>\n",
       "      <td>77004</td>\n",
       "    </tr>\n",
       "  </tbody>\n",
       "</table>\n",
       "</div>"
      ]
     },
     "execution_count": 42,
     "metadata": {},
     "output_type": "execute_result"
    }
   ],
   "source": [
    "xgb_model=xgb.XGBClassifier(colsample_bytree= 0.8,learning_rate= 0.1,\n",
    "                            max_depth=7,min_child_weight= 8,n_estimators=1000\n",
    "                            ,objective= 'binary:logistic',seed=100,\n",
    "                            silent= 1, subsample=0.5)\n",
    "xgb_model.fit(x_res,y_res)\n",
    "predictions=xgb_model.predict(X_train.as_matrix())\n",
    "print('XGboost Classifier train/validation result')\n",
    "print('accuracy',metrics.accuracy_score(y_train,predictions))\n",
    "print('recall',metrics.recall_score(y_train,predictions))\n",
    "print('precision',metrics.precision_score(y_train,predictions))\n",
    "print('auc-roc',metrics.roc_auc_score(y_train,predictions))\n",
    "pd.crosstab(y_train, predictions, rownames=['True'], \n",
    "            colnames=['Predicted'], margins=True)"
   ]
  },
  {
   "cell_type": "code",
   "execution_count": 44,
   "metadata": {},
   "outputs": [
    {
     "name": "stdout",
     "output_type": "stream",
     "text": [
      "XGboost Classifier test result\naccuracy 0.902611962911\nrecall 0.299\nprecision 0.44671314741\nauc-roc 0.630984567695\n"
     ]
    },
    {
     "data": {
      "text/html": [
       "<div>\n",
       "<style>\n",
       "    .dataframe thead tr:only-child th {\n",
       "        text-align: right;\n",
       "    }\n",
       "\n",
       "    .dataframe thead th {\n",
       "        text-align: left;\n",
       "    }\n",
       "\n",
       "    .dataframe tbody tr th {\n",
       "        vertical-align: top;\n",
       "    }\n",
       "</style>\n",
       "<table border=\"1\" class=\"dataframe\">\n",
       "  <thead>\n",
       "    <tr style=\"text-align: right;\">\n",
       "      <th>Predicted</th>\n",
       "      <th>0</th>\n",
       "      <th>1</th>\n",
       "      <th>All</th>\n",
       "    </tr>\n",
       "    <tr>\n",
       "      <th>True</th>\n",
       "      <th></th>\n",
       "      <th></th>\n",
       "      <th></th>\n",
       "    </tr>\n",
       "  </thead>\n",
       "  <tbody>\n",
       "    <tr>\n",
       "      <th>0</th>\n",
       "      <td>28891</td>\n",
       "      <td>1111</td>\n",
       "      <td>30002</td>\n",
       "    </tr>\n",
       "    <tr>\n",
       "      <th>1</th>\n",
       "      <td>2103</td>\n",
       "      <td>897</td>\n",
       "      <td>3000</td>\n",
       "    </tr>\n",
       "    <tr>\n",
       "      <th>All</th>\n",
       "      <td>30994</td>\n",
       "      <td>2008</td>\n",
       "      <td>33002</td>\n",
       "    </tr>\n",
       "  </tbody>\n",
       "</table>\n",
       "</div>"
      ],
      "text/plain": [
       "<div>\n",
       "<style>\n",
       "    .dataframe thead tr:only-child th {\n",
       "        text-align: right;\n",
       "    }\n",
       "\n",
       "    .dataframe thead th {\n",
       "        text-align: left;\n",
       "    }\n",
       "\n",
       "    .dataframe tbody tr th {\n",
       "        vertical-align: top;\n",
       "    }\n",
       "</style>\n",
       "<table border=\"1\" class=\"dataframe\">\n",
       "  <thead>\n",
       "    <tr style=\"text-align: right;\">\n",
       "      <th>Predicted</th>\n",
       "      <th>0</th>\n",
       "      <th>1</th>\n",
       "      <th>All</th>\n",
       "    </tr>\n",
       "    <tr>\n",
       "      <th>True</th>\n",
       "      <th></th>\n",
       "      <th></th>\n",
       "      <th></th>\n",
       "    </tr>\n",
       "  </thead>\n",
       "  <tbody>\n",
       "    <tr>\n",
       "      <th>0</th>\n",
       "      <td>28891</td>\n",
       "      <td>1111</td>\n",
       "      <td>30002</td>\n",
       "    </tr>\n",
       "    <tr>\n",
       "      <th>1</th>\n",
       "      <td>2103</td>\n",
       "      <td>897</td>\n",
       "      <td>3000</td>\n",
       "    </tr>\n",
       "    <tr>\n",
       "      <th>All</th>\n",
       "      <td>30994</td>\n",
       "      <td>2008</td>\n",
       "      <td>33002</td>\n",
       "    </tr>\n",
       "  </tbody>\n",
       "</table>\n",
       "</div>"
      ]
     },
     "execution_count": 44,
     "metadata": {},
     "output_type": "execute_result"
    }
   ],
   "source": [
    "predictions=xgb_model.predict(X_test.as_matrix())\n",
    "print('XGboost Classifier test result')\n",
    "print('accuracy',metrics.accuracy_score(y_test,predictions))\n",
    "print('recall',metrics.recall_score(y_test,predictions))\n",
    "print('precision',metrics.precision_score(y_test,predictions))\n",
    "print('auc-roc',metrics.roc_auc_score(y_test,predictions))\n",
    "pd.crosstab(y_test, predictions, rownames=['True'], \n",
    "            colnames=['Predicted'], margins=True)"
   ]
  },
  {
   "cell_type": "markdown",
   "metadata": {},
   "source": [
    "#report of the xgboost\n",
    "#in the above we can notice that recall is too bad for the testing data\n",
    "#auc-roc score is too bad compared to the train/validation data's auc"
   ]
  },
  {
   "cell_type": "code",
   "execution_count": 46,
   "metadata": {},
   "outputs": [
    {
     "name": "stdout",
     "output_type": "stream",
     "text": [
      "{'C': 10000, 'class_weight': {0: 0.4, 1: 0.6}, 'penalty': 'l2', 'solver': 'sag'} 0.7673901910151606\nLogistic Regression Classifier Train/valadiation result\naccuracy 0.580424393538\nrecall 0.796\nprecision 0.152854360409\nauc-roc 0.677434032341\n"
     ]
    },
    {
     "data": {
      "text/html": [
       "<div>\n",
       "<style>\n",
       "    .dataframe thead tr:only-child th {\n",
       "        text-align: right;\n",
       "    }\n",
       "\n",
       "    .dataframe thead th {\n",
       "        text-align: left;\n",
       "    }\n",
       "\n",
       "    .dataframe tbody tr th {\n",
       "        vertical-align: top;\n",
       "    }\n",
       "</style>\n",
       "<table border=\"1\" class=\"dataframe\">\n",
       "  <thead>\n",
       "    <tr style=\"text-align: right;\">\n",
       "      <th>Predicted</th>\n",
       "      <th>0</th>\n",
       "      <th>1</th>\n",
       "      <th>All</th>\n",
       "    </tr>\n",
       "    <tr>\n",
       "      <th>True</th>\n",
       "      <th></th>\n",
       "      <th></th>\n",
       "      <th></th>\n",
       "    </tr>\n",
       "  </thead>\n",
       "  <tbody>\n",
       "    <tr>\n",
       "      <th>0</th>\n",
       "      <td>39123</td>\n",
       "      <td>30881</td>\n",
       "      <td>70004</td>\n",
       "    </tr>\n",
       "    <tr>\n",
       "      <th>1</th>\n",
       "      <td>1428</td>\n",
       "      <td>5572</td>\n",
       "      <td>7000</td>\n",
       "    </tr>\n",
       "    <tr>\n",
       "      <th>All</th>\n",
       "      <td>40551</td>\n",
       "      <td>36453</td>\n",
       "      <td>77004</td>\n",
       "    </tr>\n",
       "  </tbody>\n",
       "</table>\n",
       "</div>"
      ],
      "text/plain": [
       "<div>\n",
       "<style>\n",
       "    .dataframe thead tr:only-child th {\n",
       "        text-align: right;\n",
       "    }\n",
       "\n",
       "    .dataframe thead th {\n",
       "        text-align: left;\n",
       "    }\n",
       "\n",
       "    .dataframe tbody tr th {\n",
       "        vertical-align: top;\n",
       "    }\n",
       "</style>\n",
       "<table border=\"1\" class=\"dataframe\">\n",
       "  <thead>\n",
       "    <tr style=\"text-align: right;\">\n",
       "      <th>Predicted</th>\n",
       "      <th>0</th>\n",
       "      <th>1</th>\n",
       "      <th>All</th>\n",
       "    </tr>\n",
       "    <tr>\n",
       "      <th>True</th>\n",
       "      <th></th>\n",
       "      <th></th>\n",
       "      <th></th>\n",
       "    </tr>\n",
       "  </thead>\n",
       "  <tbody>\n",
       "    <tr>\n",
       "      <th>0</th>\n",
       "      <td>39123</td>\n",
       "      <td>30881</td>\n",
       "      <td>70004</td>\n",
       "    </tr>\n",
       "    <tr>\n",
       "      <th>1</th>\n",
       "      <td>1428</td>\n",
       "      <td>5572</td>\n",
       "      <td>7000</td>\n",
       "    </tr>\n",
       "    <tr>\n",
       "      <th>All</th>\n",
       "      <td>40551</td>\n",
       "      <td>36453</td>\n",
       "      <td>77004</td>\n",
       "    </tr>\n",
       "  </tbody>\n",
       "</table>\n",
       "</div>"
      ]
     },
     "execution_count": 45,
     "metadata": {},
     "output_type": "execute_result"
    }
   ],
   "source": [
    "model=LogisticRegression()\n",
    "grid_values = {'penalty': ['l2'], 'C': [0.001,0.005,0.01,0.05,0.1\n",
    "    ,0.5,1,10,100,1000,5000,7500,10000,12500],'class_weight':[{0:.40, 1:.60}],\n",
    "               'solver' : ['newton-cg','lbfgs','liblinear','sag','saga']}\n",
    "logistic_model = GridSearchCV(model, param_grid=grid_values,\n",
    "                cv=StratifiedKFold(y_res, n_folds=3, shuffle=True),\n",
    "                n_jobs=-1,scoring='roc_auc',refit=True)\n",
    "logistic_model.fit(x_res,y_res)\n",
    "print(logistic_model.best_params_,logistic_model.best_score_)\n",
    "#model=LogisticRegression(C=1000,penalty='l2')\n",
    "#model.fit(x_res,y_res)\n",
    "predictions=logistic_model.predict(X_train)\n",
    "print('Logistic Regression Classifier Train/valadiation result')\n",
    "print('accuracy',metrics.accuracy_score(y_train,predictions))\n",
    "print('recall',metrics.recall_score(y_train,predictions))\n",
    "print('precision',metrics.precision_score(y_train,predictions))\n",
    "print('auc-roc',metrics.roc_auc_score(y_train,predictions))\n",
    "pd.crosstab(y_train, predictions, rownames=['True'], \n",
    "            colnames=['Predicted'], margins=True)"
   ]
  },
  {
   "cell_type": "code",
   "execution_count": 48,
   "metadata": {},
   "outputs": [
    {
     "name": "stdout",
     "output_type": "stream",
     "text": [
      "logistic regression Classifier test result\n"
     ]
    },
    {
     "name": "stdout",
     "output_type": "stream",
     "text": [
      "accuracy 0.579389127932\nrecall 0.798666666667\nprecision 0.152874369936\nauc-roc 0.678064751239\n"
     ]
    },
    {
     "data": {
      "text/html": [
       "<div>\n",
       "<style>\n",
       "    .dataframe thead tr:only-child th {\n",
       "        text-align: right;\n",
       "    }\n",
       "\n",
       "    .dataframe thead th {\n",
       "        text-align: left;\n",
       "    }\n",
       "\n",
       "    .dataframe tbody tr th {\n",
       "        vertical-align: top;\n",
       "    }\n",
       "</style>\n",
       "<table border=\"1\" class=\"dataframe\">\n",
       "  <thead>\n",
       "    <tr style=\"text-align: right;\">\n",
       "      <th>Predicted</th>\n",
       "      <th>0</th>\n",
       "      <th>1</th>\n",
       "      <th>All</th>\n",
       "    </tr>\n",
       "    <tr>\n",
       "      <th>True</th>\n",
       "      <th></th>\n",
       "      <th></th>\n",
       "      <th></th>\n",
       "    </tr>\n",
       "  </thead>\n",
       "  <tbody>\n",
       "    <tr>\n",
       "      <th>0</th>\n",
       "      <td>16725</td>\n",
       "      <td>13277</td>\n",
       "      <td>30002</td>\n",
       "    </tr>\n",
       "    <tr>\n",
       "      <th>1</th>\n",
       "      <td>604</td>\n",
       "      <td>2396</td>\n",
       "      <td>3000</td>\n",
       "    </tr>\n",
       "    <tr>\n",
       "      <th>All</th>\n",
       "      <td>17329</td>\n",
       "      <td>15673</td>\n",
       "      <td>33002</td>\n",
       "    </tr>\n",
       "  </tbody>\n",
       "</table>\n",
       "</div>"
      ],
      "text/plain": [
       "<div>\n",
       "<style>\n",
       "    .dataframe thead tr:only-child th {\n",
       "        text-align: right;\n",
       "    }\n",
       "\n",
       "    .dataframe thead th {\n",
       "        text-align: left;\n",
       "    }\n",
       "\n",
       "    .dataframe tbody tr th {\n",
       "        vertical-align: top;\n",
       "    }\n",
       "</style>\n",
       "<table border=\"1\" class=\"dataframe\">\n",
       "  <thead>\n",
       "    <tr style=\"text-align: right;\">\n",
       "      <th>Predicted</th>\n",
       "      <th>0</th>\n",
       "      <th>1</th>\n",
       "      <th>All</th>\n",
       "    </tr>\n",
       "    <tr>\n",
       "      <th>True</th>\n",
       "      <th></th>\n",
       "      <th></th>\n",
       "      <th></th>\n",
       "    </tr>\n",
       "  </thead>\n",
       "  <tbody>\n",
       "    <tr>\n",
       "      <th>0</th>\n",
       "      <td>16725</td>\n",
       "      <td>13277</td>\n",
       "      <td>30002</td>\n",
       "    </tr>\n",
       "    <tr>\n",
       "      <th>1</th>\n",
       "      <td>604</td>\n",
       "      <td>2396</td>\n",
       "      <td>3000</td>\n",
       "    </tr>\n",
       "    <tr>\n",
       "      <th>All</th>\n",
       "      <td>17329</td>\n",
       "      <td>15673</td>\n",
       "      <td>33002</td>\n",
       "    </tr>\n",
       "  </tbody>\n",
       "</table>\n",
       "</div>"
      ]
     },
     "execution_count": 47,
     "metadata": {},
     "output_type": "execute_result"
    }
   ],
   "source": [
    "predictions=logistic_model.predict(X_test)\n",
    "print('logistic regression Classifier test result')\n",
    "print('accuracy',metrics.accuracy_score(y_test,predictions))\n",
    "print('recall',metrics.recall_score(y_test,predictions))\n",
    "print('precision',metrics.precision_score(y_test,predictions))\n",
    "print('auc-roc',metrics.roc_auc_score(y_test,predictions))\n",
    "pd.crosstab(y_test, predictions, rownames=['True'], \n",
    "            colnames=['Predicted'], margins=True)"
   ]
  },
  {
   "cell_type": "markdown",
   "metadata": {},
   "source": [
    "#report on the logistic regression\n",
    "#accuracy in both test and train data is too bad\n",
    "#recall rate is too haigh compared all the models but companys need to spen lot of mo\n",
    "#money to recommend lot of people"
   ]
  },
  {
   "cell_type": "code",
   "execution_count": null,
   "metadata": {},
   "outputs": [],
   "source": [
    "#this part taking lot of time to train the model\n",
    "#model=SVC()\n",
    "#param_grid = [\n",
    "# {'C': [1000], 'kernel': ['linear']},\n",
    "#{'C': [1, 10, 100, 1000], 'gamma': [0.1,0.01,0.001, 0.0001], 'kernel': ['rbf','sigmoid']},\n",
    " #]\n",
    "#SVM_model = GridSearchCV(model, param_grid=param_grid,\n",
    " #               n_jobs=-1,scoring='roc_auc',refit=True)\n",
    "#SVM_model.fit(x_res,y_res)\n",
    "#print(SVM_model.best_params_,SVM_model.best_score_)\n",
    "#predictions=SVM_model.predict(X_train)\n",
    "#print('accuracy',metrics.accuracy_score(y_train,predictions))\n",
    "#print('recall',metrics.recall_score(y_train,predictions))\n",
    "#print('precision',metrics.precision_score(y_train,predictions))\n",
    "#print('auc-roc',metrics.roc_auc_score(y_train,predictions))\n",
    "\n",
    "#pd.crosstab(y_train, predictions, rownames=['True'], \n",
    "#            colnames=['Predicted'], margins=True)"
   ]
  },
  {
   "cell_type": "code",
   "execution_count": 39,
   "metadata": {},
   "outputs": [
    {
     "name": "stdout",
     "output_type": "stream",
     "text": [
      "SVM Classifier train/valadiation result\naccuracy 0.850254532232\nrecall 0.734571428571\nprecision 0.347080661492\nauc-roc 0.798196805081\n"
     ]
    },
    {
     "data": {
      "text/html": [
       "<div>\n",
       "<style>\n",
       "    .dataframe thead tr:only-child th {\n",
       "        text-align: right;\n",
       "    }\n",
       "\n",
       "    .dataframe thead th {\n",
       "        text-align: left;\n",
       "    }\n",
       "\n",
       "    .dataframe tbody tr th {\n",
       "        vertical-align: top;\n",
       "    }\n",
       "</style>\n",
       "<table border=\"1\" class=\"dataframe\">\n",
       "  <thead>\n",
       "    <tr style=\"text-align: right;\">\n",
       "      <th>Predicted</th>\n",
       "      <th>0</th>\n",
       "      <th>1</th>\n",
       "      <th>All</th>\n",
       "    </tr>\n",
       "    <tr>\n",
       "      <th>True</th>\n",
       "      <th></th>\n",
       "      <th></th>\n",
       "      <th></th>\n",
       "    </tr>\n",
       "  </thead>\n",
       "  <tbody>\n",
       "    <tr>\n",
       "      <th>0</th>\n",
       "      <td>60331</td>\n",
       "      <td>9673</td>\n",
       "      <td>70004</td>\n",
       "    </tr>\n",
       "    <tr>\n",
       "      <th>1</th>\n",
       "      <td>1858</td>\n",
       "      <td>5142</td>\n",
       "      <td>7000</td>\n",
       "    </tr>\n",
       "    <tr>\n",
       "      <th>All</th>\n",
       "      <td>62189</td>\n",
       "      <td>14815</td>\n",
       "      <td>77004</td>\n",
       "    </tr>\n",
       "  </tbody>\n",
       "</table>\n",
       "</div>"
      ],
      "text/plain": [
       "<div>\n",
       "<style>\n",
       "    .dataframe thead tr:only-child th {\n",
       "        text-align: right;\n",
       "    }\n",
       "\n",
       "    .dataframe thead th {\n",
       "        text-align: left;\n",
       "    }\n",
       "\n",
       "    .dataframe tbody tr th {\n",
       "        vertical-align: top;\n",
       "    }\n",
       "</style>\n",
       "<table border=\"1\" class=\"dataframe\">\n",
       "  <thead>\n",
       "    <tr style=\"text-align: right;\">\n",
       "      <th>Predicted</th>\n",
       "      <th>0</th>\n",
       "      <th>1</th>\n",
       "      <th>All</th>\n",
       "    </tr>\n",
       "    <tr>\n",
       "      <th>True</th>\n",
       "      <th></th>\n",
       "      <th></th>\n",
       "      <th></th>\n",
       "    </tr>\n",
       "  </thead>\n",
       "  <tbody>\n",
       "    <tr>\n",
       "      <th>0</th>\n",
       "      <td>60331</td>\n",
       "      <td>9673</td>\n",
       "      <td>70004</td>\n",
       "    </tr>\n",
       "    <tr>\n",
       "      <th>1</th>\n",
       "      <td>1858</td>\n",
       "      <td>5142</td>\n",
       "      <td>7000</td>\n",
       "    </tr>\n",
       "    <tr>\n",
       "      <th>All</th>\n",
       "      <td>62189</td>\n",
       "      <td>14815</td>\n",
       "      <td>77004</td>\n",
       "    </tr>\n",
       "  </tbody>\n",
       "</table>\n",
       "</div>"
      ]
     },
     "execution_count": 38,
     "metadata": {},
     "output_type": "execute_result"
    }
   ],
   "source": [
    "#BaggingClassifier can achive parallism and get the results faster\n",
    "n_estimators=20\n",
    "model=BaggingClassifier(SVC(C=500,kernel='rbf',gamma=0.01,\n",
    "     probability=True, class_weight={0:.1, 1:.9})\n",
    "    , max_samples=1.0 / n_estimators, n_estimators=n_estimators,n_jobs=-1)\n",
    "model.fit(x_res,y_res)\n",
    "\n",
    "predictions=model.predict(X_train)\n",
    "print('SVM Classifier train/valadiation result')\n",
    "print('accuracy',metrics.accuracy_score(y_train,predictions))\n",
    "print('recall',metrics.recall_score(y_train,predictions))\n",
    "print('precision',metrics.precision_score(y_train,predictions))\n",
    "print('auc-roc',metrics.roc_auc_score(y_train,predictions))\n",
    "pd.crosstab(y_train, predictions, rownames=['True'], \n",
    "            colnames=['Predicted'], margins=True)"
   ]
  },
  {
   "cell_type": "code",
   "execution_count": 41,
   "metadata": {},
   "outputs": [
    {
     "name": "stdout",
     "output_type": "stream",
     "text": [
      "SVM Classifier test result\naccuracy 0.848857644991\nrecall 0.692\nprecision 0.338110749186\nauc-roc 0.778271181921\n"
     ]
    },
    {
     "data": {
      "text/html": [
       "<div>\n",
       "<style>\n",
       "    .dataframe thead tr:only-child th {\n",
       "        text-align: right;\n",
       "    }\n",
       "\n",
       "    .dataframe thead th {\n",
       "        text-align: left;\n",
       "    }\n",
       "\n",
       "    .dataframe tbody tr th {\n",
       "        vertical-align: top;\n",
       "    }\n",
       "</style>\n",
       "<table border=\"1\" class=\"dataframe\">\n",
       "  <thead>\n",
       "    <tr style=\"text-align: right;\">\n",
       "      <th>Predicted</th>\n",
       "      <th>0</th>\n",
       "      <th>1</th>\n",
       "      <th>All</th>\n",
       "    </tr>\n",
       "    <tr>\n",
       "      <th>True</th>\n",
       "      <th></th>\n",
       "      <th></th>\n",
       "      <th></th>\n",
       "    </tr>\n",
       "  </thead>\n",
       "  <tbody>\n",
       "    <tr>\n",
       "      <th>0</th>\n",
       "      <td>25938</td>\n",
       "      <td>4064</td>\n",
       "      <td>30002</td>\n",
       "    </tr>\n",
       "    <tr>\n",
       "      <th>1</th>\n",
       "      <td>924</td>\n",
       "      <td>2076</td>\n",
       "      <td>3000</td>\n",
       "    </tr>\n",
       "    <tr>\n",
       "      <th>All</th>\n",
       "      <td>26862</td>\n",
       "      <td>6140</td>\n",
       "      <td>33002</td>\n",
       "    </tr>\n",
       "  </tbody>\n",
       "</table>\n",
       "</div>"
      ],
      "text/plain": [
       "<div>\n",
       "<style>\n",
       "    .dataframe thead tr:only-child th {\n",
       "        text-align: right;\n",
       "    }\n",
       "\n",
       "    .dataframe thead th {\n",
       "        text-align: left;\n",
       "    }\n",
       "\n",
       "    .dataframe tbody tr th {\n",
       "        vertical-align: top;\n",
       "    }\n",
       "</style>\n",
       "<table border=\"1\" class=\"dataframe\">\n",
       "  <thead>\n",
       "    <tr style=\"text-align: right;\">\n",
       "      <th>Predicted</th>\n",
       "      <th>0</th>\n",
       "      <th>1</th>\n",
       "      <th>All</th>\n",
       "    </tr>\n",
       "    <tr>\n",
       "      <th>True</th>\n",
       "      <th></th>\n",
       "      <th></th>\n",
       "      <th></th>\n",
       "    </tr>\n",
       "  </thead>\n",
       "  <tbody>\n",
       "    <tr>\n",
       "      <th>0</th>\n",
       "      <td>25938</td>\n",
       "      <td>4064</td>\n",
       "      <td>30002</td>\n",
       "    </tr>\n",
       "    <tr>\n",
       "      <th>1</th>\n",
       "      <td>924</td>\n",
       "      <td>2076</td>\n",
       "      <td>3000</td>\n",
       "    </tr>\n",
       "    <tr>\n",
       "      <th>All</th>\n",
       "      <td>26862</td>\n",
       "      <td>6140</td>\n",
       "      <td>33002</td>\n",
       "    </tr>\n",
       "  </tbody>\n",
       "</table>\n",
       "</div>"
      ]
     },
     "execution_count": 40,
     "metadata": {},
     "output_type": "execute_result"
    }
   ],
   "source": [
    "predictions=model.predict(X_test)\n",
    "print('SVM Classifier test result')\n",
    "print('accuracy',metrics.accuracy_score(y_test,predictions))\n",
    "print('recall',metrics.recall_score(y_test,predictions))\n",
    "print('precision',metrics.precision_score(y_test,predictions))\n",
    "print('auc-roc',metrics.roc_auc_score(y_test,predictions))\n",
    "\n",
    "pd.crosstab(y_test, predictions, rownames=['True'], \n",
    "            colnames=['Predicted'], margins=True)"
   ]
  },
  {
   "cell_type": "markdown",
   "metadata": {},
   "source": [
    "#report of svm\n",
    "#there is no much difference is there in the eveluation matrix in the \n",
    "#training/validation and testing are giving good results than other models"
   ]
  },
  {
   "cell_type": "code",
   "execution_count": null,
   "metadata": {},
   "outputs": [],
   "source": [
    "#model=RandomForestClassifier()\n",
    "#param_dist = {\"max_depth\": [None],\n",
    "#              \"max_features\": [\"auto\"],\n",
    "#              \"min_samples_split\": [6,7,8],\n",
    "#              \"min_samples_leaf\": [1,3,5],\n",
    "#              \"bootstrap\": [True],\n",
    "#              \"criterion\": [\"gini\", \"entropy\"],\n",
    "#              \"n_estimators\":[500],\n",
    "#              \"n_jobs\":[-1],\n",
    "#              \"oob_score\":[True],\n",
    "#              \"random_state\":[True],\n",
    "#              \"class_weight\":{0:.10, 1:.90}\n",
    "#              }\n",
    "#RF_model = GridSearchCV(model, param_grid=param_dist,\n",
    "#                n_jobs=-1,scoring='roc_auc',refit=True,verbose=2)\n",
    "#RF_model.fit(x_res,y_res)\n",
    "#print(RF_model.best_params_,RF_model.best_score_)\n",
    "#predictions=RF_model.predict(X_test)\n",
    "#print('accuracy',metrics.accuracy_score(y_test,predictions))\n",
    "#print('recall',metrics.recall_score(y_test,predictions))\n",
    "#print('precision',metrics.precision_score(y_test,predictions))\n",
    "#print('auc-roc',metrics.roc_auc_score(y_test,predictions))\n",
    "#\n",
    "#pd.crosstab(y_train, predictions, rownames=['True'], \n",
    "#            colnames=['Predicted'], margins=True)"
   ]
  },
  {
   "cell_type": "code",
   "execution_count": 53,
   "metadata": {},
   "outputs": [
    {
     "name": "stdout",
     "output_type": "stream",
     "text": [
      "RandomForest Classifier train/valadiation result\naccuracy 0.96043062698\nrecall 0.999857142857\nprecision 0.696764559482\nauc-roc 0.978172671766\n"
     ]
    },
    {
     "data": {
      "text/html": [
       "<div>\n",
       "<style>\n",
       "    .dataframe thead tr:only-child th {\n",
       "        text-align: right;\n",
       "    }\n",
       "\n",
       "    .dataframe thead th {\n",
       "        text-align: left;\n",
       "    }\n",
       "\n",
       "    .dataframe tbody tr th {\n",
       "        vertical-align: top;\n",
       "    }\n",
       "</style>\n",
       "<table border=\"1\" class=\"dataframe\">\n",
       "  <thead>\n",
       "    <tr style=\"text-align: right;\">\n",
       "      <th>Predicted</th>\n",
       "      <th>0</th>\n",
       "      <th>1</th>\n",
       "      <th>All</th>\n",
       "    </tr>\n",
       "    <tr>\n",
       "      <th>True</th>\n",
       "      <th></th>\n",
       "      <th></th>\n",
       "      <th></th>\n",
       "    </tr>\n",
       "  </thead>\n",
       "  <tbody>\n",
       "    <tr>\n",
       "      <th>0</th>\n",
       "      <td>66958</td>\n",
       "      <td>3046</td>\n",
       "      <td>70004</td>\n",
       "    </tr>\n",
       "    <tr>\n",
       "      <th>1</th>\n",
       "      <td>1</td>\n",
       "      <td>6999</td>\n",
       "      <td>7000</td>\n",
       "    </tr>\n",
       "    <tr>\n",
       "      <th>All</th>\n",
       "      <td>66959</td>\n",
       "      <td>10045</td>\n",
       "      <td>77004</td>\n",
       "    </tr>\n",
       "  </tbody>\n",
       "</table>\n",
       "</div>"
      ],
      "text/plain": [
       "<div>\n",
       "<style>\n",
       "    .dataframe thead tr:only-child th {\n",
       "        text-align: right;\n",
       "    }\n",
       "\n",
       "    .dataframe thead th {\n",
       "        text-align: left;\n",
       "    }\n",
       "\n",
       "    .dataframe tbody tr th {\n",
       "        vertical-align: top;\n",
       "    }\n",
       "</style>\n",
       "<table border=\"1\" class=\"dataframe\">\n",
       "  <thead>\n",
       "    <tr style=\"text-align: right;\">\n",
       "      <th>Predicted</th>\n",
       "      <th>0</th>\n",
       "      <th>1</th>\n",
       "      <th>All</th>\n",
       "    </tr>\n",
       "    <tr>\n",
       "      <th>True</th>\n",
       "      <th></th>\n",
       "      <th></th>\n",
       "      <th></th>\n",
       "    </tr>\n",
       "  </thead>\n",
       "  <tbody>\n",
       "    <tr>\n",
       "      <th>0</th>\n",
       "      <td>66958</td>\n",
       "      <td>3046</td>\n",
       "      <td>70004</td>\n",
       "    </tr>\n",
       "    <tr>\n",
       "      <th>1</th>\n",
       "      <td>1</td>\n",
       "      <td>6999</td>\n",
       "      <td>7000</td>\n",
       "    </tr>\n",
       "    <tr>\n",
       "      <th>All</th>\n",
       "      <td>66959</td>\n",
       "      <td>10045</td>\n",
       "      <td>77004</td>\n",
       "    </tr>\n",
       "  </tbody>\n",
       "</table>\n",
       "</div>"
      ]
     },
     "execution_count": 52,
     "metadata": {},
     "output_type": "execute_result"
    }
   ],
   "source": [
    "#sample_leaf_options = [1,5,10]\n",
    "#for leaf_size in sample_leaf_options :\n",
    "#    model = RandomForestClassifier(n_estimators = 1000, oob_score = True, \n",
    "#                n_jobs = -1,random_state =50,max_features = \"auto\"\n",
    "#                                   , min_samples_leaf = leaf_size)\n",
    "#    model.fit(x_res,y_res)\n",
    "#    print(\"AUC - ROC : \", metrics.roc_auc_score(y_train,model.predict(X_train)))\n",
    "model = RandomForestClassifier(n_estimators = 500, oob_score = True, \n",
    "                n_jobs = -1,random_state =50,max_features = \"auto\"\n",
    "                                   , min_samples_leaf = 3,\n",
    "                               class_weight={0:.010, 1:.90})\n",
    "model.fit(x_res,y_res)\n",
    "predictions=model.predict(X_train)\n",
    "print('RandomForest Classifier train/valadiation result')\n",
    "print('accuracy',metrics.accuracy_score(y_train,predictions))\n",
    "print('recall',metrics.recall_score(y_train,predictions))\n",
    "print('precision',metrics.precision_score(y_train,predictions))\n",
    "print('auc-roc',metrics.roc_auc_score(y_train,predictions))\n",
    "\n",
    "pd.crosstab(y_train, predictions, rownames=['True'], \n",
    "            colnames=['Predicted'], margins=True)"
   ]
  },
  {
   "cell_type": "code",
   "execution_count": 53,
   "metadata": {},
   "outputs": [
    {
     "name": "stdout",
     "output_type": "stream",
     "text": [
      "RandomForest Classifier test result\naccuracy 0.880916308103\nrecall 0.504666666667\nprecision 0.382516422436\nauc-roc 0.711602715375\n"
     ]
    },
    {
     "data": {
      "text/html": [
       "<div>\n",
       "<style>\n",
       "    .dataframe thead tr:only-child th {\n",
       "        text-align: right;\n",
       "    }\n",
       "\n",
       "    .dataframe thead th {\n",
       "        text-align: left;\n",
       "    }\n",
       "\n",
       "    .dataframe tbody tr th {\n",
       "        vertical-align: top;\n",
       "    }\n",
       "</style>\n",
       "<table border=\"1\" class=\"dataframe\">\n",
       "  <thead>\n",
       "    <tr style=\"text-align: right;\">\n",
       "      <th>Predicted</th>\n",
       "      <th>0</th>\n",
       "      <th>1</th>\n",
       "      <th>All</th>\n",
       "    </tr>\n",
       "    <tr>\n",
       "      <th>True</th>\n",
       "      <th></th>\n",
       "      <th></th>\n",
       "      <th></th>\n",
       "    </tr>\n",
       "  </thead>\n",
       "  <tbody>\n",
       "    <tr>\n",
       "      <th>0</th>\n",
       "      <td>27558</td>\n",
       "      <td>2444</td>\n",
       "      <td>30002</td>\n",
       "    </tr>\n",
       "    <tr>\n",
       "      <th>1</th>\n",
       "      <td>1486</td>\n",
       "      <td>1514</td>\n",
       "      <td>3000</td>\n",
       "    </tr>\n",
       "    <tr>\n",
       "      <th>All</th>\n",
       "      <td>29044</td>\n",
       "      <td>3958</td>\n",
       "      <td>33002</td>\n",
       "    </tr>\n",
       "  </tbody>\n",
       "</table>\n",
       "</div>"
      ],
      "text/plain": [
       "<div>\n",
       "<style>\n",
       "    .dataframe thead tr:only-child th {\n",
       "        text-align: right;\n",
       "    }\n",
       "\n",
       "    .dataframe thead th {\n",
       "        text-align: left;\n",
       "    }\n",
       "\n",
       "    .dataframe tbody tr th {\n",
       "        vertical-align: top;\n",
       "    }\n",
       "</style>\n",
       "<table border=\"1\" class=\"dataframe\">\n",
       "  <thead>\n",
       "    <tr style=\"text-align: right;\">\n",
       "      <th>Predicted</th>\n",
       "      <th>0</th>\n",
       "      <th>1</th>\n",
       "      <th>All</th>\n",
       "    </tr>\n",
       "    <tr>\n",
       "      <th>True</th>\n",
       "      <th></th>\n",
       "      <th></th>\n",
       "      <th></th>\n",
       "    </tr>\n",
       "  </thead>\n",
       "  <tbody>\n",
       "    <tr>\n",
       "      <th>0</th>\n",
       "      <td>27558</td>\n",
       "      <td>2444</td>\n",
       "      <td>30002</td>\n",
       "    </tr>\n",
       "    <tr>\n",
       "      <th>1</th>\n",
       "      <td>1486</td>\n",
       "      <td>1514</td>\n",
       "      <td>3000</td>\n",
       "    </tr>\n",
       "    <tr>\n",
       "      <th>All</th>\n",
       "      <td>29044</td>\n",
       "      <td>3958</td>\n",
       "      <td>33002</td>\n",
       "    </tr>\n",
       "  </tbody>\n",
       "</table>\n",
       "</div>"
      ]
     },
     "execution_count": 53,
     "metadata": {},
     "output_type": "execute_result"
    }
   ],
   "source": [
    "predictions=model.predict(X_test)\n",
    "print('RandomForest Classifier test result')\n",
    "print('accuracy',metrics.accuracy_score(y_test,predictions))\n",
    "print('recall',metrics.recall_score(y_test,predictions))\n",
    "print('precision',metrics.precision_score(y_test,predictions))\n",
    "print('auc-roc',metrics.roc_auc_score(y_test,predictions))\n",
    "\n",
    "pd.crosstab(y_test, predictions, rownames=['True'], \n",
    "            colnames=['Predicted'], margins=True)"
   ]
  },
  {
   "cell_type": "markdown",
   "metadata": {},
   "source": [
    "#report on the random forest\n",
    "#this can be considered but the recall rate is very low compared to the scm"
   ]
  },
  {
   "cell_type": "markdown",
   "metadata": {},
   "source": [
    "###conclusion\n",
    "#from the above models SVM with the rbf kernal is the most promising results\n",
    "#i suggest the management to go with the svm"
   ]
  }
 ],
 "metadata": {
  "kernelspec": {
   "display_name": "Python 2",
   "language": "python",
   "name": "python2"
  },
  "language_info": {
   "codemirror_mode": {
    "name": "ipython",
    "version": 2
   },
   "file_extension": ".py",
   "mimetype": "text/x-python",
   "name": "python",
   "nbconvert_exporter": "python",
   "pygments_lexer": "ipython2",
   "version": "2.7.6"
  }
 },
 "nbformat": 4,
 "nbformat_minor": 0
}
