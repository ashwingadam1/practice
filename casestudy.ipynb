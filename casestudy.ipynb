{
 "cells": [
  {
   "cell_type": "code",
   "execution_count": 48,
   "metadata": {
    "collapsed": true
   },
   "outputs": [],
   "source": [
    "import pandas as pd\n",
    "import numpy as np\n",
    "import IPython.display as display\n",
    "import matplotlib.pyplot as plt\n",
    "import seaborn as sns\n",
    "from sklearn.cross_validation import train_test_split\n",
    "import scipy.stats as stats\n",
    "%matplotlib inline"
   ]
  },
  {
   "cell_type": "code",
   "execution_count": 49,
   "metadata": {},
   "outputs": [],
   "source": [
    "#read the data from the csv file\n",
    "data=pd.read_csv('/home/ashwin/Downloads/xyz.csv')"
   ]
  },
  {
   "cell_type": "code",
   "execution_count": 50,
   "metadata": {
    "collapsed": true
   },
   "outputs": [],
   "source": [
    "#check the sample data\n",
    "print(data.head())"
   ]
  },
  {
   "cell_type": "code",
   "execution_count": 51,
   "metadata": {
    "collapsed": false
   },
   "outputs": [
    {
     "name": "stdout",
     "output_type": "stream",
     "text": [
      "['Gender', 'IsUrban', 'IsEmployed', 'BoughtBefore', 'TakenLoan', 'IsStudying', 'UseTwitter', 'HasCar', 'TraveledAbroad', 'PreviouslyTargetedMktg', 'NormalizedSalary', 'NormalizedDemographyIndex', 'NormalizedInternetIndex', 'NormalizedPurchaseIndex', 'NormalizedIndex1', 'NormalizedIndex2', 'NormalizedIndex3', 'NormalizedIndex4', 'NormalizedIndex5', 'NormalizedIndex6', 'Bought?']\n"
     ]
    }
   ],
   "source": [
    "#to know what are the coloumns are present\n",
    "coloumns=list(data)\n",
    "print(coloumns)"
   ]
  },
  {
   "cell_type": "code",
   "execution_count": 52,
   "metadata": {
    "collapsed": true
   },
   "outputs": [
    {
     "data": {
      "text/plain": [
       "Gender                         int64\nIsUrban                        int64\nIsEmployed                     int64\nBoughtBefore                   int64\nTakenLoan                      int64\nIsStudying                     int64\nUseTwitter                     int64\nHasCar                         int64\nTraveledAbroad                 int64\nPreviouslyTargetedMktg         int64\nNormalizedSalary             float64\nNormalizedDemographyIndex    float64\nNormalizedInternetIndex      float64\nNormalizedPurchaseIndex      float64\nNormalizedIndex1             float64\nNormalizedIndex2             float64\nNormalizedIndex3             float64\nNormalizedIndex4             float64\nNormalizedIndex5             float64\nNormalizedIndex6             float64\nBought?                        int64\ndtype: object"
      ]
     },
     "execution_count": 52,
     "metadata": {},
     "output_type": "execute_result"
    }
   ],
   "source": [
    "#to check what is the type of the data present in the file\n",
    "data.dtypes"
   ]
  },
  {
   "cell_type": "code",
   "execution_count": 53,
   "metadata": {
    "collapsed": true
   },
   "outputs": [
    {
     "name": "stdout",
     "output_type": "stream",
     "text": [
      "<class 'pandas.core.frame.DataFrame'>\nRangeIndex: 110006 entries, 0 to 110005\nData columns (total 21 columns):\nGender                       110006 non-null int64\nIsUrban                      110006 non-null int64\nIsEmployed                   110006 non-null int64\nBoughtBefore                 110006 non-null int64\nTakenLoan                    110006 non-null int64\nIsStudying                   110006 non-null int64\nUseTwitter                   110006 non-null int64\nHasCar                       110006 non-null int64\nTraveledAbroad               110006 non-null int64\nPreviouslyTargetedMktg       110006 non-null int64\nNormalizedSalary             110006 non-null float64\nNormalizedDemographyIndex    110006 non-null float64\nNormalizedInternetIndex      110006 non-null float64\nNormalizedPurchaseIndex      110006 non-null float64\nNormalizedIndex1             110006 non-null float64\nNormalizedIndex2             110006 non-null float64\nNormalizedIndex3             110006 non-null float64\nNormalizedIndex4             110006 non-null float64\nNormalizedIndex5             110006 non-null float64\nNormalizedIndex6             110006 non-null float64\nBought?                      110006 non-null int64\ndtypes: float64(10), int64(11)\nmemory usage: 17.6 MB\n"
     ]
    }
   ],
   "source": [
    "#to check the number of non null values present in the data\n",
    "#data.isnull().sum() //to check the null values present in the each coloum\n",
    "data.info()"
   ]
  },
  {
   "cell_type": "code",
   "execution_count": 54,
   "metadata": {
    "collapsed": true
   },
   "outputs": [
    {
     "name": "stdout",
     "output_type": "stream",
     "text": [
      "              Gender        IsUrban     IsEmployed   BoughtBefore  \\\ncount  110006.000000  110006.000000  110006.000000  110006.000000   \nmean        0.712225       0.499582       0.296784       0.497700   \nstd         0.452728       0.500002       0.456843       0.499997   \nmin         0.000000       0.000000       0.000000       0.000000   \n25%         0.000000       0.000000       0.000000       0.000000   \n50%         1.000000       0.000000       0.000000       0.000000   \n75%         1.000000       1.000000       1.000000       1.000000   \nmax         1.000000       1.000000       1.000000       1.000000   \n\n           TakenLoan     IsStudying     UseTwitter         HasCar  \\\ncount  110006.000000  110006.000000  110006.000000  110006.000000   \nmean        0.436658       0.498709       0.502118       0.499955   \nstd         0.495974       0.500001       0.499998       0.500002   \nmin         0.000000       0.000000       0.000000       0.000000   \n25%         0.000000       0.000000       0.000000       0.000000   \n50%         0.000000       0.000000       1.000000       0.000000   \n75%         1.000000       1.000000       1.000000       1.000000   \nmax         1.000000       1.000000       1.000000       1.000000   \n\n       TraveledAbroad  PreviouslyTargetedMktg      ...        \\\ncount   110006.000000           110006.000000      ...         \nmean         0.498809                0.501318      ...         \nstd          0.500001                0.500001      ...         \nmin          0.000000                0.000000      ...         \n25%          0.000000                0.000000      ...         \n50%          0.000000                1.000000      ...         \n75%          1.000000                1.000000      ...         \nmax          1.000000                1.000000      ...         \n\n       NormalizedDemographyIndex  NormalizedInternetIndex  \\\ncount              110006.000000            110006.000000   \nmean                    0.171569                -0.000279   \nstd                     2.070415                 1.820191   \nmin                   -10.541022                -7.097471   \n25%                    -1.067141                -1.254682   \n50%                     0.376003                 0.010837   \n75%                     1.594457                 1.253322   \nmax                     8.501400                 8.363895   \n\n       NormalizedPurchaseIndex  NormalizedIndex1  NormalizedIndex2  \\\ncount            110006.000000     110006.000000     110006.000000   \nmean                  0.005593          0.003408          0.823398   \nstd                   1.866896          0.997093          1.781481   \nmin                 -10.295241         -4.163637         -7.157145   \n25%                  -1.261824         -0.669833         -0.352207   \n50%                   0.047611          0.001950          0.827105   \n75%                   1.311898          0.677840          1.998687   \nmax                   7.960829          4.085451          9.347819   \n\n       NormalizedIndex3  NormalizedIndex4  NormalizedIndex5  NormalizedIndex6  \\\ncount     110006.000000     110006.000000     110006.000000     110006.000000   \nmean          -0.209386          0.463314          0.000929         -0.001373   \nstd            2.979499          3.647505          1.001211          1.770123   \nmin          -14.860261        -11.522410         -4.197622         -6.771238   \n25%           -2.110938         -2.172123         -0.674719         -1.233871   \n50%            0.072673         -0.211899         -0.000215         -0.033114   \n75%            1.905032          2.706055          0.677697          1.207059   \nmax           11.807966         18.728575          4.348862          7.393797   \n\n             Bought?  \ncount  110006.000000  \nmean        0.090904  \nstd         0.287474  \nmin         0.000000  \n25%         0.000000  \n50%         0.000000  \n75%         0.000000  \nmax         1.000000  \n\n[8 rows x 21 columns]\n"
     ]
    }
   ],
   "source": [
    "#to have the very rough idea how the distributions are there\n",
    "print(data.describe())"
   ]
  },
  {
   "cell_type": "code",
   "execution_count": 55,
   "metadata": {},
   "outputs": [
    {
     "data": {
      "text/plain": [
       "<matplotlib.axes._subplots.AxesSubplot at 0x7f0b3199c7b8>"
      ]
     },
     "execution_count": 55,
     "metadata": {},
     "output_type": "execute_result"
    },
    {
     "data": {
      "image/png": "[encoded data removed]",
      "text/plain": [
       "<matplotlib.figure.Figure at 0x7f0b3124a438>"
      ]
     },
     "metadata": {},
     "output_type": "display_data"
    }
   ],
   "source": [
    "#since it is a classification problem we need to check \n",
    "# the data is imbalance or balanced from the below figure we can know that data\n",
    "#is imbalance\n",
    "data['Bought?'].value_counts().plot(kind='bar')"
   ]
  },
  {
   "cell_type": "code",
   "execution_count": 56,
   "metadata": {},
   "outputs": [],
   "source": [
    "#divide the variables as the catagorical variables and continous variables\n",
    "catagorical_variables=[var for var in coloumns if(data[var].dtype=='int64')]\n",
    "continous_variables=[var for var in coloumns \n",
    "                     if(var not in catagorical_variables)]\n",
    "del catagorical_variables[-1]"
   ]
  },
  {
   "cell_type": "code",
   "execution_count": 57,
   "metadata": {
    "collapsed": true
   },
   "outputs": [
    {
     "name": "stdout",
     "output_type": "stream",
     "text": [
      "['NormalizedSalary', 'NormalizedDemographyIndex', 'NormalizedInternetIndex', 'NormalizedPurchaseIndex', 'NormalizedIndex1', 'NormalizedIndex2', 'NormalizedIndex3', 'NormalizedIndex4', 'NormalizedIndex5', 'NormalizedIndex6'] ['Gender', 'IsUrban', 'IsEmployed', 'BoughtBefore', 'TakenLoan', 'IsStudying', 'UseTwitter', 'HasCar', 'TraveledAbroad', 'PreviouslyTargetedMktg']\n"
     ]
    }
   ],
   "source": [
    "print(continous_variables,catagorical_variables)"
   ]
  },
  {
   "cell_type": "code",
   "execution_count": 58,
   "metadata": {
    "collapsed": true
   },
   "outputs": [
    {
     "name": "stdout",
     "output_type": "stream",
     "text": [
      "NormalizedSalary -0.004322403421817578\nNormalizedDemographyIndex -0.47746633983252657\nNormalizedInternetIndex -0.005246306227184256\nNormalizedPurchaseIndex -0.10158605205558231\nNormalizedIndex1 0.014198139362314692\nNormalizedIndex2 0.015817446970983026\nNormalizedIndex3 -0.39798439408109615\nNormalizedIndex4 0.6804185702079261\nNormalizedIndex5 -0.005322948859995818\nNormalizedIndex6 0.06192091629948348\n"
     ]
    }
   ],
   "source": [
    "# checking the skewness\n",
    "# since all the continous variables are normalized skewness in in the acceptable range\n",
    "#so no need of data transformation\n",
    "for variable in continous_variables:\n",
    "    print(variable,stats.skew(data[variable]))"
   ]
  },
  {
   "cell_type": "code",
   "execution_count": 63,
   "metadata": {
    "collapsed": false
   },
   "outputs": [],
   "source": [
    "dummified_data=data[catagorical_variables].astype(np.object)\n",
    "#dummified_data=data[catagorical_variables]\n",
    "dummified_data=pd.get_dummies(dummified_data)"
   ]
  },
  {
   "cell_type": "code",
   "execution_count": 64,
   "metadata": {},
   "outputs": [
    {
     "data": {
      "text/plain": [
       "(110006, 20)"
      ]
     },
     "execution_count": 64,
     "metadata": {},
     "output_type": "execute_result"
    }
   ],
   "source": [
    "dummified_data.shape"
   ]
  },
  {
   "cell_type": "code",
   "execution_count": 65,
   "metadata": {},
   "outputs": [],
   "source": [
    "data_modified=pd.concat((dummified_data,data[continous_variables]),axis=1)"
   ]
  },
  {
   "cell_type": "code",
   "execution_count": 66,
   "metadata": {
    "collapsed": true
   },
   "outputs": [
    {
     "data": {
      "text/plain": [
       "['Gender_0',\n 'Gender_1',\n 'IsUrban_0',\n 'IsUrban_1',\n 'IsEmployed_0',\n 'IsEmployed_1',\n 'BoughtBefore_0',\n 'BoughtBefore_1',\n 'TakenLoan_0',\n 'TakenLoan_1',\n 'IsStudying_0',\n 'IsStudying_1',\n 'UseTwitter_0',\n 'UseTwitter_1',\n 'HasCar_0',\n 'HasCar_1',\n 'TraveledAbroad_0',\n 'TraveledAbroad_1',\n 'PreviouslyTargetedMktg_0',\n 'PreviouslyTargetedMktg_1',\n 'NormalizedSalary',\n 'NormalizedDemographyIndex',\n 'NormalizedInternetIndex',\n 'NormalizedPurchaseIndex',\n 'NormalizedIndex1',\n 'NormalizedIndex2',\n 'NormalizedIndex3',\n 'NormalizedIndex4',\n 'NormalizedIndex5',\n 'NormalizedIndex6']"
      ]
     },
     "execution_count": 66,
     "metadata": {},
     "output_type": "execute_result"
    }
   ],
   "source": [
    "list(data_modified)"
   ]
  },
  {
   "cell_type": "code",
   "execution_count": 74,
   "metadata": {},
   "outputs": [],
   "source": [
    "print(data_modified.shape)\n",
    "target=data['Bought?']"
   ]
  },
  {
   "cell_type": "code",
   "execution_count": 75,
   "metadata": {},
   "outputs": [],
   "source": [
    "X_train, X_test, y_train, y_test = train_test_split( data_modified,target,\n",
    "        random_state=100,test_size=0.30,stratify=target)"
   ]
  },
  {
   "cell_type": "code",
   "execution_count": 76,
   "metadata": {},
   "outputs": [
    {
     "name": "stdout",
     "output_type": "stream",
     "text": [
      "(77004, 30)\n(77004,)\n(33002, 30)\n(33002,)\n"
     ]
    }
   ],
   "source": [
    "print(X_train.shape)\n",
    "print(y_train.shape)\n",
    "print(X_test.shape)\n",
    "print(y_test.shape)"
   ]
  },
  {
   "cell_type": "code",
   "execution_count": null,
   "metadata": {},
   "outputs": [],
   "source": []
  }
 ],
 "metadata": {
  "kernelspec": {
   "display_name": "Python 2",
   "language": "python",
   "name": "python2"
  },
  "language_info": {
   "codemirror_mode": {
    "name": "ipython",
    "version": 2
   },
   "file_extension": ".py",
   "mimetype": "text/x-python",
   "name": "python",
   "nbconvert_exporter": "python",
   "pygments_lexer": "ipython2",
   "version": "2.7.6"
  }
 },
 "nbformat": 4,
 "nbformat_minor": 0
}
