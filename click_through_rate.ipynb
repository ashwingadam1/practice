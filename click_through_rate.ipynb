{
 "cells": [
  {
   "cell_type": "code",
   "execution_count": 1,
   "metadata": {
    "collapsed": true
   },
   "outputs": [],
   "source": [
    "import numpy as np\n",
    "import pandas as pd\n",
    "import matplotlib.pyplot as plt\n",
    "import seaborn as sne\n",
    "import IPython.display as display\n",
    "import calendar\n",
    "from imblearn.over_sampling import SMOTE\n",
    "import sklearn.linear_model as linear_model\n",
    "from __future__ import division\n",
    "from collections import Counter\n",
    "%matplotlib inline"
   ]
  },
  {
   "cell_type": "code",
   "execution_count": 2,
   "metadata": {},
   "outputs": [],
   "source": [
    "coloums=['click','hour','C1','banner_pos','site_category','site_domain'\n",
    " ,'app_domain','app_category','device_type','device_conn_type'\n",
    ",'device_model','C14','C15','C16','C17','C18','C19','C20','C21']"
   ]
  },
  {
   "cell_type": "code",
   "execution_count": 3,
   "metadata": {},
   "outputs": [],
   "source": [
    "chunlsize=1500000\n",
    "data_chunks=pd.read_csv('/home/ashwin/Downloads/clickthrough/train.csv'\n",
    "                 ,chunksize=chunlsize,usecols=coloums,dtype={'click':np.int8,'hour':np.str,'C1':np.int16,\n",
    "                        'banner_pos':np.int8,'site_category':np.str,\n",
    "                        'site_domain':np.str,'app_domain':np.str,\n",
    "                        'app_category':np.str,'device_type':np.int8,'device_conn_type':np.int8,'C14':np.int16,'C15':np.int16,'C16':np.int16,\n",
    "'C17':np.int16,'C18':np.int8,'C19':np.int16,'C20':np.int32,'C21':np.int16})\n",
    "df = pd.concat([chunk for chunk in data_chunks])"
   ]
  },
  {
   "cell_type": "code",
   "execution_count": 5,
   "metadata": {
    "collapsed": true
   },
   "outputs": [
    {
     "data": {
      "text/plain": [
       "1    37304667\n0     2220812\n4      774272\n5      129185\nName: device_type, dtype: int64"
      ]
     },
     "execution_count": 5,
     "metadata": {},
     "output_type": "execute_result"
    }
   ],
   "source": [
    "#list(df)\n",
    "#df.dtypes\n",
    "#df.memory_usage()\n",
    "#a=df['site_domain'].head()\n",
    "#print df['site_domain'].head()\n",
    "#a=np.int8(a)\n",
    "#print a\n",
    "#Counter(df['C17']).most_common()\n",
    "df['device_type'].value_counts()\n",
    "#pd.get_dummies(df['device_type'].head(150000))"
   ]
  },
  {
   "cell_type": "code",
   "execution_count": 4,
   "metadata": {},
   "outputs": [],
   "source": [
    "df.drop(df[df.device_type == 2].index, inplace=True)"
   ]
  },
  {
   "cell_type": "code",
   "execution_count": 46,
   "metadata": {},
   "outputs": [],
   "source": [
    "def conversion_C21(x):\n",
    "    x=str(x)\n",
    "    if(x=='23'):\n",
    "        return 1\n",
    "    elif(x=='221'):\n",
    "        return 2\n",
    "    elif(x=='79' or x=='48'):\n",
    "        return 3\n",
    "    elif(x=='71' or x=='61' or x=='157' \n",
    "         or x=='32' or x=='33' or x=='52' or x=='42'):\n",
    "        return 4\n",
    "    else:\n",
    "        return 5"
   ]
  },
  {
   "cell_type": "code",
   "execution_count": 42,
   "metadata": {},
   "outputs": [],
   "source": [
    "def conversion_C20(x):\n",
    "    x=str(x)\n",
    "    if(x=='-1'):\n",
    "        return 1\n",
    "    elif(x=='100084' or x=='100148'):\n",
    "        return 2\n",
    "    elif(x=='100111' or x=='100077' or x=='100075'):\n",
    "        return 3\n",
    "    elif(x=='100081' or x=='100083' or x=='100156' \n",
    "         or x=='100193' or x=='100176'):\n",
    "        return 4\n",
    "    else:\n",
    "        return 5"
   ]
  },
  {
   "cell_type": "code",
   "execution_count": 39,
   "metadata": {},
   "outputs": [],
   "source": [
    "def conversion_C19(x):\n",
    "    x=str(x)\n",
    "    if(x=='35'):\n",
    "        return 1\n",
    "    elif(x=='39'):\n",
    "        return 2\n",
    "    elif(x=='167' or x=='161'):\n",
    "        return 3\n",
    "    elif(x=='47' or x=='1327' or x=='297' or x=='163' or x=='175'):\n",
    "        return 4\n",
    "    else:\n",
    "        return 5"
   ]
  },
  {
   "cell_type": "code",
   "execution_count": 35,
   "metadata": {},
   "outputs": [],
   "source": [
    "def conversion_C17(x):\n",
    "    x=str(x)\n",
    "    if(x=='1722'):\n",
    "        return 1\n",
    "    elif(x=='2424' or x== '2227' or x=='1800' ):\n",
    "        return 2\n",
    "    elif(x=='423' or x=='2480' or x=='2502' or x=='2528' or x=='2506' or x=='2374'):\n",
    "        return 3\n",
    "    elif(x=='2545' or x=='1872' or x=='1994' or x=='2299' or x=='2526' or x=='1863' \n",
    "         or x=='761' or x=='2333'):\n",
    "        return 4\n",
    "    elif(x=='1993' or x=='2665' or x=='2676' or x=='1873' or x=='2507'\n",
    "         or x=='2726' or x=='2647' or x=='2566' or x=='2667' or x=='1973'\n",
    "         or x=='2616' or x=='2201'):\n",
    "        return 5\n",
    "    elif(x=='2513' or x=='2495' or x=='572' or x=='2036' or x=='2340'\n",
    "         or x=='2716' \n",
    "         or x=='2162' or x=='1899' or x=='2060' or x=='2283' \n",
    "         or x=='178' or x=='2684' or x=='112' or x=='2039'\n",
    "         or x=='2331' or x=='122' or x=='2323'):\n",
    "        return 6\n",
    "    elif(x=='1887' or x=='2295' or x=='2281' or x=='479' \n",
    "         or x=='2624' or x=='2420' or x=='571'\n",
    "         or x=='2512' or x=='1934' or x=='2229' or x=='2291' \n",
    "         or x=='2253' or x=='547' or x=='2717' or x=='2572'\n",
    "         or x=='2524' or x=='2736' or x=='2617' or x=='2316'\n",
    "         or x=='1882' or x=='2467' or x=='2264' or x=='906'\n",
    "         or x=='2351' or x=='1092' or x=='2688' or x=='2682'\n",
    "         or x=='2685' or x=='2493' or x=='2487' or x=='2709'\n",
    "         or x=='2104' or x=='2668' or x=='2523' or x=='2478'):\n",
    "        return 7\n",
    "    else:\n",
    "        return 8"
   ]
  },
  {
   "cell_type": "code",
   "execution_count": 25,
   "metadata": {},
   "outputs": [],
   "source": [
    "def conversion_C14(x):\n",
    "    x=str(x)\n",
    "    if(x=='4687' or x=='21611' or x=='21189' or x=='21191' or x=='19771' or x=='19772' or x=='16208' or x=='20108'):\n",
    "        return 1\n",
    "    elif(x=='8330' or x== '19950' or x=='15705' or x=='15701' or x=='15699' or x=='15703' or x=='15704' or x=='15707'):\n",
    "        return 2\n",
    "    elif(x=='15708' or x=='15702' or x=='15706' or x=='16615' or x=='23804' or x=='21767' or x=='21768' or x=='17239'):\n",
    "        return 3\n",
    "    elif(x=='22676' or x=='19251' or x=='17654' or x=='17653' or x=='6563' or x=='23438' \n",
    "         or x=='16920' or x=='20633'):\n",
    "        return 4\n",
    "    elif(x=='17264' or x=='17753' or x=='17614' or x=='23143' or x=='23144' or x=='20093' \n",
    "         or x=='20634' or x=='20251'):\n",
    "        return 5\n",
    "    elif(x=='17262' or x=='21769' or x=='21770' or x=='17014' or x=='22680' or x=='22683' \n",
    "         or x=='22681' or x=='23161' or x=='20632' or x=='23160' \n",
    "         or x=='21789' or x=='17037' or x=='16688' or x=='22682'\n",
    "         or x=='17016' or x=='19665' or x=='20277' or x=='21153'\n",
    "         or x=='17017' or x=='22268' or x=='23866' or x=='19016'\n",
    "         or x=='17875' or x=='20366' or x=='19015' or x=='17877'):\n",
    "        return 6\n",
    "    elif(x=='20362' or x=='19743' or x=='22288' or x=='9478' \n",
    "         or x=='20352' or x=='23221' \n",
    "         or x=='23222' or x=='20508' or x=='22267' or x=='17894' \n",
    "         or x=='21893' or x=='23224' or x=='20346' or x=='21665'\n",
    "         or x=='23441' or x=='20345' or x=='23454' or x=='17893'\n",
    "         or x=='22104' or x=='21647' or x=='23722' or x=='21882'\n",
    "         or x=='23626' or x=='22813' or x=='17747' or x=='20312'):\n",
    "        return 7\n",
    "    else:\n",
    "        return 8"
   ]
  },
  {
   "cell_type": "code",
   "execution_count": null,
   "metadata": {},
   "outputs": [],
   "source": [
    "def conversion_app_domain(x):\n",
    "    if(x=='7801e8d9'):\n",
    "        return 1\n",
    "    elif(x=='2347f47a'):\n",
    "        return 2\n",
    "    elif(x=='ae637522'):\n",
    "        return 3\n",
    "    elif(x=='5c5a694b'):\n",
    "        return 4\n",
    "    else:\n",
    "        return 5"
   ]
  },
  {
   "cell_type": "code",
   "execution_count": 6,
   "metadata": {},
   "outputs": [],
   "source": [
    "def conversion_app_category(x):\n",
    "    if(x=='07d7df22'):\n",
    "        return 1\n",
    "    elif(x=='0f2161f8'):\n",
    "        return 2\n",
    "    elif(x=='cef3e649'):\n",
    "        return 3\n",
    "    elif(x=='8ded1f7a'):\n",
    "        return 4\n",
    "    else:\n",
    "        return 5"
   ]
  },
  {
   "cell_type": "code",
   "execution_count": 7,
   "metadata": {},
   "outputs": [],
   "source": [
    "def conversion_site_domain(x):\n",
    "    if(x=='c4e18dd6'):\n",
    "        return 1\n",
    "    elif(x=='f3845767'):\n",
    "        return 2\n",
    "    elif(x=='7e091613'):\n",
    "        return 3\n",
    "    elif(x=='7687a86e'):\n",
    "        return 4\n",
    "    else:\n",
    "        return 5"
   ]
  },
  {
   "cell_type": "code",
   "execution_count": 8,
   "metadata": {},
   "outputs": [],
   "source": [
    "def conversion_site_category(x):\n",
    "    if(x=='50e219e0'):\n",
    "        return 1\n",
    "    elif(x=='f028772b'):\n",
    "        return 2\n",
    "    elif(x=='28905ebd'):\n",
    "        return 3\n",
    "    elif(x=='3e814130'):\n",
    "        return 4\n",
    "    else:\n",
    "        return 5"
   ]
  },
  {
   "cell_type": "code",
   "execution_count": 48,
   "metadata": {},
   "outputs": [
    {
     "data": {
      "text/plain": [
       "4    11521095\n1     8896205\n5     8184829\n3     6775593\n2     5051245\nName: C21, dtype: int64"
      ]
     },
     "execution_count": 48,
     "metadata": {},
     "output_type": "execute_result"
    }
   ],
   "source": [
    "(df['C21'].map(lambda s:conversion_C21(s) )).value_counts()"
   ]
  },
  {
   "cell_type": "code",
   "execution_count": 4,
   "metadata": {},
   "outputs": [],
   "source": [
    "model=clf = linear_model.SGDClassifier(penalty='l1',n_jobs=-1\n",
    "                                       ,random_state=100,\n",
    "                                       class_weight={0:.17, 1:.83})"
   ]
  },
  {
   "cell_type": "code",
   "execution_count": 5,
   "metadata": {
    "collapsed": true
   },
   "outputs": [
    {
     "ename": "ValueError",
     "evalue": "Number of features 5029 does not match previous data 4808.",
     "traceback": [
      "\u001b[0;31m\u001b[0m",
      "\u001b[0;31mValueError\u001b[0mTraceback (most recent call last)",
      "\u001b[0;32m<ipython-input-5-0c4b5e782f00>\u001b[0m in \u001b[0;36m<module>\u001b[0;34m()\u001b[0m\n\u001b[1;32m     13\u001b[0m         \u001b[0mi\u001b[0m\u001b[0;34m=\u001b[0m\u001b[0;36m0\u001b[0m\u001b[0;34m\u001b[0m\u001b[0m\n\u001b[1;32m     14\u001b[0m     \u001b[0;32melse\u001b[0m\u001b[0;34m:\u001b[0m\u001b[0;34m\u001b[0m\u001b[0m\n\u001b[0;32m---> 15\u001b[0;31m         \u001b[0mmodel\u001b[0m\u001b[0;34m.\u001b[0m\u001b[0mpartial_fit\u001b[0m\u001b[0;34m(\u001b[0m\u001b[0mchunk\u001b[0m\u001b[0;34m,\u001b[0m\u001b[0mclick\u001b[0m\u001b[0;34m)\u001b[0m\u001b[0;34m\u001b[0m\u001b[0m\n\u001b[0m",
      "\u001b[0;32m/home/ashwin/anaconda2/lib/python2.7/site-packages/sklearn/linear_model/stochastic_gradient.pyc\u001b[0m in \u001b[0;36mpartial_fit\u001b[0;34m(self, X, y, classes, sample_weight)\u001b[0m\n\u001b[1;32m    510\u001b[0m                                  \u001b[0mlearning_rate\u001b[0m\u001b[0;34m=\u001b[0m\u001b[0mself\u001b[0m\u001b[0;34m.\u001b[0m\u001b[0mlearning_rate\u001b[0m\u001b[0;34m,\u001b[0m \u001b[0mn_iter\u001b[0m\u001b[0;34m=\u001b[0m\u001b[0;36m1\u001b[0m\u001b[0;34m,\u001b[0m\u001b[0;34m\u001b[0m\u001b[0m\n\u001b[1;32m    511\u001b[0m                                  \u001b[0mclasses\u001b[0m\u001b[0;34m=\u001b[0m\u001b[0mclasses\u001b[0m\u001b[0;34m,\u001b[0m \u001b[0msample_weight\u001b[0m\u001b[0;34m=\u001b[0m\u001b[0msample_weight\u001b[0m\u001b[0;34m,\u001b[0m\u001b[0;34m\u001b[0m\u001b[0m\n\u001b[0;32m--> 512\u001b[0;31m                                  coef_init=None, intercept_init=None)\n\u001b[0m\u001b[1;32m    513\u001b[0m \u001b[0;34m\u001b[0m\u001b[0m\n\u001b[1;32m    514\u001b[0m     def fit(self, X, y, coef_init=None, intercept_init=None,\n",
      "\u001b[0;32m/home/ashwin/anaconda2/lib/python2.7/site-packages/sklearn/linear_model/stochastic_gradient.pyc\u001b[0m in \u001b[0;36m_partial_fit\u001b[0;34m(self, X, y, alpha, C, loss, learning_rate, n_iter, classes, sample_weight, coef_init, intercept_init)\u001b[0m\n\u001b[1;32m    361\u001b[0m         \u001b[0;32melif\u001b[0m \u001b[0mn_features\u001b[0m \u001b[0;34m!=\u001b[0m \u001b[0mself\u001b[0m\u001b[0;34m.\u001b[0m\u001b[0mcoef_\u001b[0m\u001b[0;34m.\u001b[0m\u001b[0mshape\u001b[0m\u001b[0;34m[\u001b[0m\u001b[0;34m-\u001b[0m\u001b[0;36m1\u001b[0m\u001b[0;34m]\u001b[0m\u001b[0;34m:\u001b[0m\u001b[0;34m\u001b[0m\u001b[0m\n\u001b[1;32m    362\u001b[0m             raise ValueError(\"Number of features %d does not match previous \"\n\u001b[0;32m--> 363\u001b[0;31m                              \"data %d.\" % (n_features, self.coef_.shape[-1]))\n\u001b[0m\u001b[1;32m    364\u001b[0m \u001b[0;34m\u001b[0m\u001b[0m\n\u001b[1;32m    365\u001b[0m         \u001b[0mself\u001b[0m\u001b[0;34m.\u001b[0m\u001b[0mloss_function\u001b[0m \u001b[0;34m=\u001b[0m \u001b[0mself\u001b[0m\u001b[0;34m.\u001b[0m\u001b[0m_get_loss_function\u001b[0m\u001b[0;34m(\u001b[0m\u001b[0mloss\u001b[0m\u001b[0;34m)\u001b[0m\u001b[0;34m\u001b[0m\u001b[0m\n",
      "\u001b[0;31mValueError\u001b[0m: Number of features 5029 does not match previous data 4808."
     ],
     "output_type": "error"
    }
   ],
   "source": [
    "i=1\n",
    "for chunk in data_chunks:\n",
    "    chunk[\"day\"] = chunk[\"hour\"].map(lambda v: str(str(v)[-4:-2]))\n",
    "    chunk['year']=chunk[\"hour\"].map(lambda v: str('20'+str(v)[0:2]))\n",
    "    chunk['month']=chunk[\"hour\"].map(lambda v: int(str(v)[2:4]))\n",
    "    chunk['month']=chunk['month'].apply(lambda x: calendar.month_abbr[x])\n",
    "    chunk[\"hour\"] = chunk[\"hour\"].map(lambda v: str(str(v)[-2:]))\n",
    "    chunk=pd.get_dummies(chunk)\n",
    "    click= chunk['click']\n",
    "    chunk.drop(['click'],axis=1,inplace=True)\n",
    "    if(i==1):\n",
    "        model.partial_fit(chunk,click,classes=np.unique(click))\n",
    "        i=0\n",
    "    else:\n",
    "        model.partial_fit(chunk,click)"
   ]
  },
  {
   "cell_type": "code",
   "execution_count": 4,
   "metadata": {},
   "outputs": [
    {
     "data": {
      "text/plain": [
       "(40428967, 6)"
      ]
     },
     "execution_count": 4,
     "metadata": {},
     "output_type": "execute_result"
    }
   ],
   "source": [
    "df.shape"
   ]
  },
  {
   "cell_type": "code",
   "execution_count": null,
   "metadata": {
    "collapsed": false
   },
   "outputs": [],
   "source": [
    "for col in coloums:\n",
    "    print \"the sum of null value in\",col,sum(df[col].isnull())"
   ]
  },
  {
   "cell_type": "code",
   "execution_count": 5,
   "metadata": {},
   "outputs": [
    {
     "data": {
      "text/plain": [
       "<matplotlib.axes._subplots.AxesSubplot at 0x7f221bca9e10>"
      ]
     },
     "execution_count": 5,
     "metadata": {},
     "output_type": "execute_result"
    },
    {
     "data": {
      "image/png": "[encoded data removed]",
      "text/plain": [
       "<matplotlib.figure.Figure at 0x7f2252c3f750>"
      ]
     },
     "metadata": {},
     "output_type": "display_data"
    }
   ],
   "source": [
    "df['click'].value_counts().plot(kind='bar')"
   ]
  },
  {
   "cell_type": "code",
   "execution_count": 9,
   "metadata": {},
   "outputs": [
    {
     "data": {
      "text/plain": [
       "16.980562476404604"
      ]
     },
     "execution_count": 9,
     "metadata": {},
     "output_type": "execute_result"
    }
   ],
   "source": [
    "df['click'].mean()*100"
   ]
  },
  {
   "cell_type": "code",
   "execution_count": 5,
   "metadata": {},
   "outputs": [],
   "source": [
    "hour=df['hour']\n",
    "df.drop(['hour'],axis=1,inplace=True)"
   ]
  },
  {
   "cell_type": "code",
   "execution_count": 6,
   "metadata": {},
   "outputs": [],
   "source": [
    "print hour.shape\n",
    "print list(df)"
   ]
  },
  {
   "cell_type": "code",
   "execution_count": 7,
   "metadata": {},
   "outputs": [],
   "source": [
    "df['year']=[np.int8('20'+x[0:2]) for x in hour]\n",
    "df['month']=[np.int8(x[2:4]) for x in hour]\n",
    "df['month']=df['month'].apply(lambda x: calendar.month_abbr[x])\n",
    "df['day']=[np.int8(x[4:6]) for x in hour]\n",
    "df['time']=[np.int8(x[6:8]) for x in hour]"
   ]
  },
  {
   "cell_type": "code",
   "execution_count": 10,
   "metadata": {},
   "outputs": [],
   "source": [
    "year_dummies=pd.get_dummies(df['year'])\n",
    "month_dummies=pd.get_dummies(df['month'])\n",
    "day_dummies=pd.get_dummies(df['day'])\n",
    "time_dummies=pd.get_dummies(df['time'])"
   ]
  },
  {
   "cell_type": "code",
   "execution_count": 11,
   "metadata": {},
   "outputs": [
    {
     "data": {
      "text/plain": [
       "['click', 'C1', 'banner_pos', 'site_category', 'app_category']"
      ]
     },
     "execution_count": 11,
     "metadata": {},
     "output_type": "execute_result"
    }
   ],
   "source": [
    "df.drop(['year'],axis=1,inplace=True)\n",
    "df.drop(['month'],axis=1,inplace=True)\n",
    "df.drop(['day'],axis=1,inplace=True)\n",
    "df.drop(['time'],axis=1,inplace=True)\n",
    "list(df)"
   ]
  },
  {
   "cell_type": "code",
   "execution_count": 12,
   "metadata": {},
   "outputs": [],
   "source": [
    "C1_dummies=pd.get_dummies(df['C1'])\n",
    "banner_pos_dummies=pd.get_dummies(df['banner_pos'])\n",
    "site_category_dummies=pd.get_dummies(df['site_category'])\n",
    "app_category_dummies=pd.get_dummies(df['app_category'])\n",
    "click=df['click']"
   ]
  },
  {
   "cell_type": "code",
   "execution_count": 14,
   "metadata": {
    "collapsed": true
   },
   "outputs": [
    {
     "ename": "MemoryError",
     "evalue": "",
     "traceback": [
      "\u001b[0;31m\u001b[0m",
      "\u001b[0;31mMemoryError\u001b[0mTraceback (most recent call last)",
      "\u001b[0;32m<ipython-input-14-4d2b60408bd5>\u001b[0m in \u001b[0;36m<module>\u001b[0;34m()\u001b[0m\n\u001b[1;32m      2\u001b[0m     \u001b[0;34m,\u001b[0m\u001b[0mC1_dummies\u001b[0m\u001b[0;34m,\u001b[0m\u001b[0mbanner_pos_dummies\u001b[0m\u001b[0;34m,\u001b[0m\u001b[0msite_category_dummies\u001b[0m\u001b[0;34m\u001b[0m\u001b[0m\n\u001b[1;32m      3\u001b[0m     ,app_category_dummies,click]\n\u001b[0;32m----> 4\u001b[0;31m \u001b[0mresult1\u001b[0m\u001b[0;34m=\u001b[0m\u001b[0mpd\u001b[0m\u001b[0;34m.\u001b[0m\u001b[0mconcat\u001b[0m\u001b[0;34m(\u001b[0m\u001b[0mframe\u001b[0m\u001b[0;34m)\u001b[0m\u001b[0;34m\u001b[0m\u001b[0m\n\u001b[0m",
      "\u001b[0;32m/home/ashwin/anaconda2/lib/python2.7/site-packages/pandas/core/reshape/concat.pyc\u001b[0m in \u001b[0;36mconcat\u001b[0;34m(objs, axis, join, join_axes, ignore_index, keys, levels, names, verify_integrity, copy)\u001b[0m\n\u001b[1;32m    205\u001b[0m                        \u001b[0mverify_integrity\u001b[0m\u001b[0;34m=\u001b[0m\u001b[0mverify_integrity\u001b[0m\u001b[0;34m,\u001b[0m\u001b[0;34m\u001b[0m\u001b[0m\n\u001b[1;32m    206\u001b[0m                        copy=copy)\n\u001b[0;32m--> 207\u001b[0;31m     \u001b[0;32mreturn\u001b[0m \u001b[0mop\u001b[0m\u001b[0;34m.\u001b[0m\u001b[0mget_result\u001b[0m\u001b[0;34m(\u001b[0m\u001b[0;34m)\u001b[0m\u001b[0;34m\u001b[0m\u001b[0m\n\u001b[0m\u001b[1;32m    208\u001b[0m \u001b[0;34m\u001b[0m\u001b[0m\n\u001b[1;32m    209\u001b[0m \u001b[0;34m\u001b[0m\u001b[0m\n",
      "\u001b[0;32m/home/ashwin/anaconda2/lib/python2.7/site-packages/pandas/core/reshape/concat.pyc\u001b[0m in \u001b[0;36mget_result\u001b[0;34m(self)\u001b[0m\n\u001b[1;32m    405\u001b[0m             new_data = concatenate_block_managers(\n\u001b[1;32m    406\u001b[0m                 \u001b[0mmgrs_indexers\u001b[0m\u001b[0;34m,\u001b[0m \u001b[0mself\u001b[0m\u001b[0;34m.\u001b[0m\u001b[0mnew_axes\u001b[0m\u001b[0;34m,\u001b[0m \u001b[0mconcat_axis\u001b[0m\u001b[0;34m=\u001b[0m\u001b[0mself\u001b[0m\u001b[0;34m.\u001b[0m\u001b[0maxis\u001b[0m\u001b[0;34m,\u001b[0m\u001b[0;34m\u001b[0m\u001b[0m\n\u001b[0;32m--> 407\u001b[0;31m                 copy=self.copy)\n\u001b[0m\u001b[1;32m    408\u001b[0m             \u001b[0;32mif\u001b[0m \u001b[0;32mnot\u001b[0m \u001b[0mself\u001b[0m\u001b[0;34m.\u001b[0m\u001b[0mcopy\u001b[0m\u001b[0;34m:\u001b[0m\u001b[0;34m\u001b[0m\u001b[0m\n\u001b[1;32m    409\u001b[0m                 \u001b[0mnew_data\u001b[0m\u001b[0;34m.\u001b[0m\u001b[0m_consolidate_inplace\u001b[0m\u001b[0;34m(\u001b[0m\u001b[0;34m)\u001b[0m\u001b[0;34m\u001b[0m\u001b[0m\n",
      "\u001b[0;32m/home/ashwin/anaconda2/lib/python2.7/site-packages/pandas/core/internals.pyc\u001b[0m in \u001b[0;36mconcatenate_block_managers\u001b[0;34m(mgrs_indexers, axes, concat_axis, copy)\u001b[0m\n\u001b[1;32m   4830\u001b[0m     blocks = [make_block(\n\u001b[1;32m   4831\u001b[0m         \u001b[0mconcatenate_join_units\u001b[0m\u001b[0;34m(\u001b[0m\u001b[0mjoin_units\u001b[0m\u001b[0;34m,\u001b[0m \u001b[0mconcat_axis\u001b[0m\u001b[0;34m,\u001b[0m \u001b[0mcopy\u001b[0m\u001b[0;34m=\u001b[0m\u001b[0mcopy\u001b[0m\u001b[0;34m)\u001b[0m\u001b[0;34m,\u001b[0m\u001b[0;34m\u001b[0m\u001b[0m\n\u001b[0;32m-> 4832\u001b[0;31m         placement=placement) for placement, join_units in concat_plan]\n\u001b[0m\u001b[1;32m   4833\u001b[0m \u001b[0;34m\u001b[0m\u001b[0m\n\u001b[1;32m   4834\u001b[0m     \u001b[0;32mreturn\u001b[0m \u001b[0mBlockManager\u001b[0m\u001b[0;34m(\u001b[0m\u001b[0mblocks\u001b[0m\u001b[0;34m,\u001b[0m \u001b[0maxes\u001b[0m\u001b[0;34m)\u001b[0m\u001b[0;34m\u001b[0m\u001b[0m\n",
      "\u001b[0;32m/home/ashwin/anaconda2/lib/python2.7/site-packages/pandas/core/internals.pyc\u001b[0m in \u001b[0;36mconcatenate_join_units\u001b[0;34m(join_units, concat_axis, copy)\u001b[0m\n\u001b[1;32m   4937\u001b[0m     to_concat = [ju.get_reindexed_values(empty_dtype=empty_dtype,\n\u001b[1;32m   4938\u001b[0m                                          upcasted_na=upcasted_na)\n\u001b[0;32m-> 4939\u001b[0;31m                  for ju in join_units]\n\u001b[0m\u001b[1;32m   4940\u001b[0m \u001b[0;34m\u001b[0m\u001b[0m\n\u001b[1;32m   4941\u001b[0m     \u001b[0;32mif\u001b[0m \u001b[0mlen\u001b[0m\u001b[0;34m(\u001b[0m\u001b[0mto_concat\u001b[0m\u001b[0;34m)\u001b[0m \u001b[0;34m==\u001b[0m \u001b[0;36m1\u001b[0m\u001b[0;34m:\u001b[0m\u001b[0;34m\u001b[0m\u001b[0m\n",
      "\u001b[0;32m/home/ashwin/anaconda2/lib/python2.7/site-packages/pandas/core/internals.pyc\u001b[0m in \u001b[0;36mget_reindexed_values\u001b[0;34m(self, empty_dtype, upcasted_na)\u001b[0m\n\u001b[1;32m   5210\u001b[0m                     \u001b[0;32mpass\u001b[0m\u001b[0;34m\u001b[0m\u001b[0m\n\u001b[1;32m   5211\u001b[0m                 \u001b[0;32melse\u001b[0m\u001b[0;34m:\u001b[0m\u001b[0;34m\u001b[0m\u001b[0m\n\u001b[0;32m-> 5212\u001b[0;31m                     \u001b[0mmissing_arr\u001b[0m \u001b[0;34m=\u001b[0m \u001b[0mnp\u001b[0m\u001b[0;34m.\u001b[0m\u001b[0mempty\u001b[0m\u001b[0;34m(\u001b[0m\u001b[0mself\u001b[0m\u001b[0;34m.\u001b[0m\u001b[0mshape\u001b[0m\u001b[0;34m,\u001b[0m \u001b[0mdtype\u001b[0m\u001b[0;34m=\u001b[0m\u001b[0mempty_dtype\u001b[0m\u001b[0;34m)\u001b[0m\u001b[0;34m\u001b[0m\u001b[0m\n\u001b[0m\u001b[1;32m   5213\u001b[0m                     \u001b[0mmissing_arr\u001b[0m\u001b[0;34m.\u001b[0m\u001b[0mfill\u001b[0m\u001b[0;34m(\u001b[0m\u001b[0mfill_value\u001b[0m\u001b[0;34m)\u001b[0m\u001b[0;34m\u001b[0m\u001b[0m\n\u001b[1;32m   5214\u001b[0m                     \u001b[0;32mreturn\u001b[0m \u001b[0mmissing_arr\u001b[0m\u001b[0;34m\u001b[0m\u001b[0m\n",
      "\u001b[0;31mMemoryError\u001b[0m: "
     ],
     "output_type": "error"
    }
   ],
   "source": [
    "frame=[year_dummies,month_dummies,day_dummies,time_dummies\n",
    "    ,C1_dummies,banner_pos_dummies,site_category_dummies\n",
    "    ,app_category_dummies,click]\n",
    "result1=pd.concat(frame)"
   ]
  },
  {
   "cell_type": "code",
   "execution_count": null,
   "metadata": {},
   "outputs": [],
   "source": [
    "hdf =pd.HDFStore('data1.h5')\n",
    "hdf.put('/home/ashwin/Downloads/clickthrough/hdf/data1', result1, format='table', data_columns=True)"
   ]
  },
  {
   "cell_type": "code",
   "execution_count": 13,
   "metadata": {},
   "outputs": [],
   "source": [
    "del df\n",
    "chunlsize=1000000\n",
    "data_chunks=pd.read_csv('/home/ashwin/Downloads/clickthrough/train.csv'\n",
    "                 ,chunksize=chunlsize,usecols=coloums2,nrows=20214484,\n",
    "                 dtype={'device_type':np.int8,'device_conn_type':np.int8,'C14':np.int16,'C15':np.int16,'C16':np.int16,\n",
    "'C17':np.int16,'C18':np.int8,'C19':np.int16,'C20':np.int32,'C21':np.int16})\n",
    "df = pd.concat([chunk for chunk in data_chunks])"
   ]
  },
  {
   "cell_type": "code",
   "execution_count": 33,
   "metadata": {
    "collapsed": true
   },
   "outputs": [],
   "source": [
    ""
   ]
  },
  {
   "cell_type": "code",
   "execution_count": 33,
   "metadata": {},
   "outputs": [],
   "source": [
    ""
   ]
  },
  {
   "cell_type": "code",
   "execution_count": 16,
   "metadata": {},
   "outputs": [],
   "source": [
    ""
   ]
  }
 ],
 "metadata": {
  "kernelspec": {
   "display_name": "Python 2",
   "language": "python",
   "name": "python2"
  },
  "language_info": {
   "codemirror_mode": {
    "name": "ipython",
    "version": 2.0
   },
   "file_extension": ".py",
   "mimetype": "text/x-python",
   "name": "python",
   "nbconvert_exporter": "python",
   "pygments_lexer": "ipython2",
   "version": "2.7.6"
  }
 },
 "nbformat": 4,
 "nbformat_minor": 0
}