{
 "cells": [
  {
   "cell_type": "code",
   "execution_count": 1,
   "metadata": {
    "collapsed": true
   },
   "outputs": [],
   "source": [
    "import numpy as np\n",
    "import pandas as pd\n",
    "import matplotlib.pyplot as plt\n",
    "import seaborn as sne\n",
    "import IPython.display as display\n",
    "import calendar\n",
    "from imblearn.over_sampling import SMOTE\n",
    "import sklearn.linear_model as linear_model\n",
    "from scipy.sparse import hstack\n",
    "from scipy.sparse import vstack\n",
    "from scipy.sparse import coo_matrix\n",
    "from sklearn.feature_extraction import FeatureHasher\n",
    "from __future__ import division\n",
    "from collections import Counter\n",
    "from sklearn.externals import joblib\n",
    "%matplotlib inline"
   ]
  },
  {
   "cell_type": "code",
   "execution_count": 3,
   "metadata": {},
   "outputs": [],
   "source": [
    "train_coloums=['click','hour','C1','banner_pos','site_category','site_domain'\n",
    " ,'app_domain','app_category','device_type','device_conn_type'\n",
    ",'device_model','C14','C15','C16','C17','C18','C19','C20','C21']"
   ]
  },
  {
   "cell_type": "code",
   "execution_count": 3,
   "metadata": {},
   "outputs": [],
   "source": [
    "chunlsize=500000\n",
    "train_data_chunks=pd.read_csv('/home/ashwin/Downloads/clickthroughrate/train.csv',nrows=28000000\n",
    "                 ,chunksize=chunlsize,usecols=train_coloums,dtype={'click':np.int8,'hour':np.str,'C1':np.int16,\n",
    "                        'banner_pos':np.int8,'site_category':np.str,\n",
    "                        'site_domain':np.str,'app_domain':np.str,\n",
    "                        'app_category':np.str,'device_type':np.int8,'device_conn_type':np.int8,'C14':np.int16,'C15':np.int16,'C16':np.int16,\n",
    "'C17':np.int16,'C18':np.int8,'C19':np.int16,'C20':np.int32,'C21':np.int16})\n",
    "#df = pd.concat([chunk for chunk in data_chunks])"
   ]
  },
  {
   "cell_type": "code",
   "execution_count": 4,
   "metadata": {},
   "outputs": [],
   "source": [
    "#list(df)\n",
    "#df.dtypes\n",
    "#df.memory_usage()\n",
    "#a=df['site_domain'].head()\n",
    "#print df['site_domain'].head()\n",
    "#a=np.int8(a)\n",
    "#print a\n",
    "#Counter(df['C17']).most_common()\n",
    "#df['device_type'].value_counts()\n",
    "#pd.get_dummies(df['device_type'].head(150000))\n",
    "#df.drop(df[df.device_type == 2].index, inplace=True)"
   ]
  },
  {
   "cell_type": "code",
   "execution_count": 5,
   "metadata": {},
   "outputs": [
    {
     "name": "stderr",
     "output_type": "stream",
     "text": [
      "/home/ashwin/anaconda3/lib/python3.6/site-packages/sklearn/linear_model/stochastic_gradient.py:84: FutureWarning: max_iter and tol parameters have been added in <class 'sklearn.linear_model.stochastic_gradient.SGDClassifier'> in 0.19. If both are left unset, they default to max_iter=5 and tol=None. If tol is not None, max_iter defaults to max_iter=1000. From 0.21, default max_iter will be 1000, and default tol will be 1e-3.\n  \"and default tol will be 1e-3.\" % type(self), FutureWarning)\n"
     ]
    }
   ],
   "source": [
    "model=clf = linear_model.SGDClassifier(penalty='l1',n_jobs=-1\n",
    "                                       ,random_state=100,\n",
    "                                       class_weight={0:.17, 1:.83})"
   ]
  },
  {
   "cell_type": "code",
   "execution_count": 2,
   "metadata": {},
   "outputs": [],
   "source": [
    "#data3=hstack((data3,data4.as_matrix()))\n",
    "def conversion_hashing(data,n):\n",
    "    featureHasher=FeatureHasher(n_features=n,input_type='string')\n",
    "    data_converted=featureHasher.fit_transform(data.astype('str'))\n",
    "    return data_converted"
   ]
  },
  {
   "cell_type": "code",
   "execution_count": 8,
   "metadata": {
    "collapsed": true
   },
   "outputs": [],
   "source": [
    "i=1\n",
    "for chunk in train_data_chunks:\n",
    "    chunk[\"day\"] = chunk[\"hour\"].map(lambda v: str(str(v)[-4:-2]))\n",
    "    chunk['year']=chunk[\"hour\"].map(lambda v: str('20'+str(v)[0:2]))\n",
    "    chunk['month']=chunk[\"hour\"].map(lambda v: int(str(v)[2:4]))\n",
    "    #chunk['month']=chunk['month'].apply(lambda x: calendar.month_abbr[x])\n",
    "    chunk[\"hour\"] = chunk[\"hour\"].map(lambda v: str(str(v)[-2:]))\n",
    "    click= chunk['click']\n",
    "    chunk.drop(['click'],axis=1,inplace=True)\n",
    "    \n",
    "    dd=(chunk[['day','hour','year','month']]).as_matrix()\n",
    "    dd=hstack([dd.astype(np.int16),coo_matrix(pd.get_dummies(chunk[['banner_pos','device_type','device_conn_type',\n",
    "              'C15','C16','C18']]).as_matrix())])\n",
    "    dd=hstack([dd.astype(np.int16),coo_matrix(conversion_hashing(chunk['device_model'],5))])\n",
    "    dd=hstack([dd.astype(np.int16),coo_matrix(conversion_hashing(chunk['site_category'],5))])\n",
    "    dd=hstack([dd.astype(np.int16),coo_matrix(conversion_hashing(chunk['site_domain'],5))])\n",
    "    dd=hstack([dd.astype(np.int16),coo_matrix(conversion_hashing(chunk['app_category'],5))])\n",
    "    dd=hstack([dd.astype(np.int16),coo_matrix(conversion_hashing(chunk['app_domain'],5))])\n",
    "    dd=hstack([dd.astype(np.int16),coo_matrix(conversion_hashing(chunk['C14'],8))])\n",
    "    dd=hstack([dd.astype(np.int16),coo_matrix(conversion_hashing(chunk['C17'],8))])\n",
    "    dd=hstack([dd.astype(np.int16),coo_matrix(conversion_hashing(chunk['C19'],5))])\n",
    "    dd=hstack([dd.astype(np.int16),coo_matrix(conversion_hashing(chunk['C20'],5))])\n",
    "    dd=hstack([dd.astype(np.int16),coo_matrix(conversion_hashing(chunk['C21'],5))])\n",
    "    dd=hstack([dd.astype(np.int16),coo_matrix(conversion_hashing(chunk['C1'],4))])\n",
    "    del chunk\n",
    "    if(i==1):\n",
    "        model.partial_fit(dd,click,classes=np.unique(click))\n",
    "        i=0\n",
    "    else:\n",
    "        model.partial_fit(dd,click)"
   ]
  },
  {
   "cell_type": "code",
   "execution_count": 9,
   "metadata": {},
   "outputs": [
    {
     "data": {
      "text/plain": [
       "['SGD.pkl']"
      ]
     },
     "execution_count": 8,
     "metadata": {},
     "output_type": "execute_result"
    }
   ],
   "source": [
    "# Dump the trained decision tree classifier with Pickle\n",
    "#SGD_pkl_filename = 'SGD_pickle.pkl'\n",
    "# Open the file to save as pkl file\n",
    "#SGD_Model_model_pkl = open(SGD_pkl_filename, 'wb')\n",
    "#pickle.dump(model, SGD_Model_model_pkl)\n",
    "# Close the pickle instances\n",
    "#SGD_Model_model_pkl.close()\n",
    "\n",
    "#df['click'].value_counts().plot(kind='bar')\n",
    "#df['click'].mean()*100\n",
    "joblib.dump(model, 'SGD.pkl') "
   ]
  },
  {
   "cell_type": "code",
   "execution_count": 3,
   "metadata": {},
   "outputs": [],
   "source": [
    "model1 = joblib.load('SGD.pkl') "
   ]
  },
  {
   "cell_type": "code",
   "execution_count": 4,
   "metadata": {},
   "outputs": [],
   "source": [
    "\n",
    "validation_coloums=['click','hour','C1','banner_pos','site_category','site_domain'\n",
    " ,'app_domain','app_category','device_type','device_conn_type'\n",
    ",'device_model','C14','C15','C16','C17','C18','C19','C20','C21']"
   ]
  },
  {
   "cell_type": "code",
   "execution_count": 5,
   "metadata": {},
   "outputs": [],
   "source": [
    "chunlsize=500000\n",
    "validation_data=pd.read_csv('/home/ashwin/Downloads/clickthroughrate/train.csv',skiprows=range(1,28000000),\n",
    "                 chunksize=chunlsize,usecols=validation_coloums,dtype={'click':np.int8,'hour':np.str,'C1':np.int16,\n",
    "                        'banner_pos':np.int8,'site_category':np.str,\n",
    "                        'site_domain':np.str,'app_domain':np.str,\n",
    "                        'app_category':np.str,'device_type':np.int8,'device_conn_type':np.int8\n",
    "                        ,'C14':np.int16,'C15':np.int16,'C16':np.int16,'C17':np.int16,'C18':np.int8,\n",
    "                        'C19':np.int16,'C20':np.int32,'C21':np.int16})\n",
    "#df = pd.concat([chunk for chunk in data_chunks])"
   ]
  },
  {
   "cell_type": "code",
   "execution_count": 6,
   "metadata": {},
   "outputs": [],
   "source": [
    "scores=[]\n",
    "for chunk in validation_data:\n",
    "    chunk[\"day\"] = chunk[\"hour\"].map(lambda v: str(str(v)[-4:-2]))\n",
    "    chunk['year']=chunk[\"hour\"].map(lambda v: str('20'+str(v)[0:2]))\n",
    "    chunk['month']=chunk[\"hour\"].map(lambda v: int(str(v)[2:4]))\n",
    "    #chunk['month']=chunk['month'].apply(lambda x: calendar.month_abbr[x])\n",
    "    chunk[\"hour\"] = chunk[\"hour\"].map(lambda v: str(str(v)[-2:]))\n",
    "    click= chunk['click']\n",
    "    chunk.drop(['click'],axis=1,inplace=True)\n",
    "    \n",
    "    dd=(chunk[['day','hour','year','month']]).as_matrix()\n",
    "    dd=hstack([dd.astype(np.int16),coo_matrix(pd.get_dummies(chunk[['banner_pos','device_type','device_conn_type',\n",
    "              'C15','C16','C18']]).as_matrix())])\n",
    "    dd=hstack([dd.astype(np.int16),coo_matrix(conversion_hashing(chunk['device_model'],5))])\n",
    "    dd=hstack([dd.astype(np.int16),coo_matrix(conversion_hashing(chunk['site_category'],5))])\n",
    "    dd=hstack([dd.astype(np.int16),coo_matrix(conversion_hashing(chunk['site_domain'],5))])\n",
    "    dd=hstack([dd.astype(np.int16),coo_matrix(conversion_hashing(chunk['app_category'],5))])\n",
    "    dd=hstack([dd.astype(np.int16),coo_matrix(conversion_hashing(chunk['app_domain'],5))])\n",
    "    dd=hstack([dd.astype(np.int16),coo_matrix(conversion_hashing(chunk['C14'],8))])\n",
    "    dd=hstack([dd.astype(np.int16),coo_matrix(conversion_hashing(chunk['C17'],8))])\n",
    "    dd=hstack([dd.astype(np.int16),coo_matrix(conversion_hashing(chunk['C19'],5))])\n",
    "    dd=hstack([dd.astype(np.int16),coo_matrix(conversion_hashing(chunk['C20'],5))])\n",
    "    dd=hstack([dd.astype(np.int16),coo_matrix(conversion_hashing(chunk['C21'],5))])\n",
    "    dd=hstack([dd.astype(np.int16),coo_matrix(conversion_hashing(chunk['C1'],4))])\n",
    "    del chunk\n",
    "    score=model.score( dd , click_valid )\n",
    "    scores.append(score)\n",
    "    #if(i==1):\n",
    "     #   dd1=coo_matrix(dd).astype(np.int16)\n",
    "      #  i=0\n",
    "    #else:\n",
    "     #   dd1=vstack([(coo_matrix(dd1.tocsr())).astype(np.int16)\n",
    "     #              ,(coo_matrix(dd.tocsr())).astype(np.int16)])"
   ]
  },
  {
   "cell_type": "code",
   "execution_count": null,
   "metadata": {
    "collapsed": true
   },
   "outputs": [],
   "source": [
    "print(sum(scores)/float(len(scores)))"
   ]
  }
 ],
 "metadata": {
  "kernelspec": {
   "display_name": "Python 2",
   "language": "python",
   "name": "python2"
  },
  "language_info": {
   "codemirror_mode": {
    "name": "ipython",
    "version": 2
   },
   "file_extension": ".py",
   "mimetype": "text/x-python",
   "name": "python",
   "nbconvert_exporter": "python",
   "pygments_lexer": "ipython2",
   "version": "2.7.6"
  }
 },
 "nbformat": 4,
 "nbformat_minor": 0
}
