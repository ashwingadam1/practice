{
 "cells": [
  {
   "cell_type": "code",
   "execution_count": 1,
   "metadata": {
    "collapsed": true
   },
   "outputs": [],
   "source": [
    "import numpy as np\n",
    "import pandas as pd\n",
    "import matplotlib.pyplot as plt\n",
    "import seaborn as sne\n",
    "import IPython.display as display\n",
    "import calendar\n",
    "\n",
    "%matplotlib inline"
   ]
  },
  {
   "cell_type": "code",
   "execution_count": 2,
   "metadata": {},
   "outputs": [],
   "source": [
    "coloums1=['click','hour','C1','banner_pos','site_category'\n",
    " ,'app_category','device_type','device_conn_type'\n",
    " ,'C14','C15','C16','C17','C18','C19','C20','C21']\n",
    "coloums2=['device_type','device_conn_type'\n",
    " ,'C14','C15','C16','C17','C18','C19','C20','C21']"
   ]
  },
  {
   "cell_type": "code",
   "execution_count": 3,
   "metadata": {},
   "outputs": [],
   "source": [
    "chunlsize=1000000\n",
    "data_chunks=pd.read_csv('/home/ashwin/Downloads/clickthrough/train.csv'\n",
    "                 ,chunksize=chunlsize,usecols=coloums1,nrows=1000000,\n",
    "                 dtype={'click':np.int8,'hour':np.str,'C1':np.str,\n",
    "                        'banner_pos':np.str,'site_category':np.str,\n",
    "                        'app_category':np.str,'device_type':np.str,\n",
    "                        'device_conn_type':np.str,'C14':np.str,\n",
    "                        'C15':np.str,'C16':np.str,\n",
    "                        'C17':np.str,'C18':np.str,'C19':np.str,\n",
    "                        'C20':np.str,'C21':np.str})\n",
    "df = pd.concat([chunk for chunk in data_chunks])"
   ]
  },
  {
   "cell_type": "code",
   "execution_count": 4,
   "metadata": {},
   "outputs": [
    {
     "data": {
      "text/plain": [
       "(40428967, 6)"
      ]
     },
     "execution_count": 4,
     "metadata": {},
     "output_type": "execute_result"
    }
   ],
   "source": [
    "df.shape"
   ]
  },
  {
   "cell_type": "code",
   "execution_count": null,
   "metadata": {
    "collapsed": false
   },
   "outputs": [],
   "source": [
    "for col in coloums:\n",
    "    print \"the sum of null value in\",col,sum(df[col].isnull())"
   ]
  },
  {
   "cell_type": "code",
   "execution_count": 5,
   "metadata": {},
   "outputs": [
    {
     "data": {
      "text/plain": [
       "<matplotlib.axes._subplots.AxesSubplot at 0x7f221bca9e10>"
      ]
     },
     "execution_count": 5,
     "metadata": {},
     "output_type": "execute_result"
    },
    {
     "data": {
      "image/png": "[encoded data removed]",
      "text/plain": [
       "<matplotlib.figure.Figure at 0x7f2252c3f750>"
      ]
     },
     "metadata": {},
     "output_type": "display_data"
    }
   ],
   "source": [
    "df['click'].value_counts().plot(kind='bar')"
   ]
  },
  {
   "cell_type": "code",
   "execution_count": 9,
   "metadata": {},
   "outputs": [
    {
     "data": {
      "text/plain": [
       "16.980562476404604"
      ]
     },
     "execution_count": 9,
     "metadata": {},
     "output_type": "execute_result"
    }
   ],
   "source": [
    "df['click'].mean()*100"
   ]
  },
  {
   "cell_type": "code",
   "execution_count": 5,
   "metadata": {},
   "outputs": [],
   "source": [
    "hour=df['hour']\n",
    "df.drop(['hour'],axis=1,inplace=True)"
   ]
  },
  {
   "cell_type": "code",
   "execution_count": 6,
   "metadata": {},
   "outputs": [],
   "source": [
    "print hour.shape\n",
    "print list(df)"
   ]
  },
  {
   "cell_type": "code",
   "execution_count": 7,
   "metadata": {},
   "outputs": [],
   "source": [
    "df['year']=[np.int8('20'+x[0:2]) for x in hour]\n",
    "df['month']=[np.int8(x[2:4]) for x in hour]\n",
    "df['month']=df['month'].apply(lambda x: calendar.month_abbr[x])\n",
    "df['day']=[np.int8(x[4:6]) for x in hour]\n",
    "df['time']=[np.int8(x[6:8]) for x in hour]"
   ]
  },
  {
   "cell_type": "code",
   "execution_count": 10,
   "metadata": {},
   "outputs": [],
   "source": [
    "year_dummies=pd.get_dummies(df['year'])\n",
    "month_dummies=pd.get_dummies(df['month'])\n",
    "day_dummies=pd.get_dummies(df['day'])\n",
    "time_dummies=pd.get_dummies(df['time'])"
   ]
  },
  {
   "cell_type": "code",
   "execution_count": 11,
   "metadata": {},
   "outputs": [
    {
     "data": {
      "text/plain": [
       "['click', 'C1', 'banner_pos', 'site_category', 'app_category']"
      ]
     },
     "execution_count": 11,
     "metadata": {},
     "output_type": "execute_result"
    }
   ],
   "source": [
    "df.drop(['year'],axis=1,inplace=True)\n",
    "df.drop(['month'],axis=1,inplace=True)\n",
    "df.drop(['day'],axis=1,inplace=True)\n",
    "df.drop(['time'],axis=1,inplace=True)\n",
    "list(df)"
   ]
  },
  {
   "cell_type": "code",
   "execution_count": 12,
   "metadata": {},
   "outputs": [],
   "source": [
    "C1_dummies=pd.get_dummies(df['C1'])\n",
    "banner_pos_dummies=pd.get_dummies(df['banner_pos'])\n",
    "site_category_dummies=pd.get_dummies(df['site_category'])\n",
    "app_category_dummies=pd.get_dummies(df['app_category'])\n",
    "click=df['click']"
   ]
  },
  {
   "cell_type": "code",
   "execution_count": 14,
   "metadata": {},
   "outputs": [
    {
     "ename": "MemoryError",
     "evalue": "",
     "traceback": [
      "\u001b[0;31m\u001b[0m",
      "\u001b[0;31mMemoryError\u001b[0mTraceback (most recent call last)",
      "\u001b[0;32m<ipython-input-14-4d2b60408bd5>\u001b[0m in \u001b[0;36m<module>\u001b[0;34m()\u001b[0m\n\u001b[1;32m      2\u001b[0m     \u001b[0;34m,\u001b[0m\u001b[0mC1_dummies\u001b[0m\u001b[0;34m,\u001b[0m\u001b[0mbanner_pos_dummies\u001b[0m\u001b[0;34m,\u001b[0m\u001b[0msite_category_dummies\u001b[0m\u001b[0;34m\u001b[0m\u001b[0m\n\u001b[1;32m      3\u001b[0m     ,app_category_dummies,click]\n\u001b[0;32m----> 4\u001b[0;31m \u001b[0mresult1\u001b[0m\u001b[0;34m=\u001b[0m\u001b[0mpd\u001b[0m\u001b[0;34m.\u001b[0m\u001b[0mconcat\u001b[0m\u001b[0;34m(\u001b[0m\u001b[0mframe\u001b[0m\u001b[0;34m)\u001b[0m\u001b[0;34m\u001b[0m\u001b[0m\n\u001b[0m",
      "\u001b[0;32m/home/ashwin/anaconda2/lib/python2.7/site-packages/pandas/core/reshape/concat.pyc\u001b[0m in \u001b[0;36mconcat\u001b[0;34m(objs, axis, join, join_axes, ignore_index, keys, levels, names, verify_integrity, copy)\u001b[0m\n\u001b[1;32m    205\u001b[0m                        \u001b[0mverify_integrity\u001b[0m\u001b[0;34m=\u001b[0m\u001b[0mverify_integrity\u001b[0m\u001b[0;34m,\u001b[0m\u001b[0;34m\u001b[0m\u001b[0m\n\u001b[1;32m    206\u001b[0m                        copy=copy)\n\u001b[0;32m--> 207\u001b[0;31m     \u001b[0;32mreturn\u001b[0m \u001b[0mop\u001b[0m\u001b[0;34m.\u001b[0m\u001b[0mget_result\u001b[0m\u001b[0;34m(\u001b[0m\u001b[0;34m)\u001b[0m\u001b[0;34m\u001b[0m\u001b[0m\n\u001b[0m\u001b[1;32m    208\u001b[0m \u001b[0;34m\u001b[0m\u001b[0m\n\u001b[1;32m    209\u001b[0m \u001b[0;34m\u001b[0m\u001b[0m\n",
      "\u001b[0;32m/home/ashwin/anaconda2/lib/python2.7/site-packages/pandas/core/reshape/concat.pyc\u001b[0m in \u001b[0;36mget_result\u001b[0;34m(self)\u001b[0m\n\u001b[1;32m    405\u001b[0m             new_data = concatenate_block_managers(\n\u001b[1;32m    406\u001b[0m                 \u001b[0mmgrs_indexers\u001b[0m\u001b[0;34m,\u001b[0m \u001b[0mself\u001b[0m\u001b[0;34m.\u001b[0m\u001b[0mnew_axes\u001b[0m\u001b[0;34m,\u001b[0m \u001b[0mconcat_axis\u001b[0m\u001b[0;34m=\u001b[0m\u001b[0mself\u001b[0m\u001b[0;34m.\u001b[0m\u001b[0maxis\u001b[0m\u001b[0;34m,\u001b[0m\u001b[0;34m\u001b[0m\u001b[0m\n\u001b[0;32m--> 407\u001b[0;31m                 copy=self.copy)\n\u001b[0m\u001b[1;32m    408\u001b[0m             \u001b[0;32mif\u001b[0m \u001b[0;32mnot\u001b[0m \u001b[0mself\u001b[0m\u001b[0;34m.\u001b[0m\u001b[0mcopy\u001b[0m\u001b[0;34m:\u001b[0m\u001b[0;34m\u001b[0m\u001b[0m\n\u001b[1;32m    409\u001b[0m                 \u001b[0mnew_data\u001b[0m\u001b[0;34m.\u001b[0m\u001b[0m_consolidate_inplace\u001b[0m\u001b[0;34m(\u001b[0m\u001b[0;34m)\u001b[0m\u001b[0;34m\u001b[0m\u001b[0m\n",
      "\u001b[0;32m/home/ashwin/anaconda2/lib/python2.7/site-packages/pandas/core/internals.pyc\u001b[0m in \u001b[0;36mconcatenate_block_managers\u001b[0;34m(mgrs_indexers, axes, concat_axis, copy)\u001b[0m\n\u001b[1;32m   4830\u001b[0m     blocks = [make_block(\n\u001b[1;32m   4831\u001b[0m         \u001b[0mconcatenate_join_units\u001b[0m\u001b[0;34m(\u001b[0m\u001b[0mjoin_units\u001b[0m\u001b[0;34m,\u001b[0m \u001b[0mconcat_axis\u001b[0m\u001b[0;34m,\u001b[0m \u001b[0mcopy\u001b[0m\u001b[0;34m=\u001b[0m\u001b[0mcopy\u001b[0m\u001b[0;34m)\u001b[0m\u001b[0;34m,\u001b[0m\u001b[0;34m\u001b[0m\u001b[0m\n\u001b[0;32m-> 4832\u001b[0;31m         placement=placement) for placement, join_units in concat_plan]\n\u001b[0m\u001b[1;32m   4833\u001b[0m \u001b[0;34m\u001b[0m\u001b[0m\n\u001b[1;32m   4834\u001b[0m     \u001b[0;32mreturn\u001b[0m \u001b[0mBlockManager\u001b[0m\u001b[0;34m(\u001b[0m\u001b[0mblocks\u001b[0m\u001b[0;34m,\u001b[0m \u001b[0maxes\u001b[0m\u001b[0;34m)\u001b[0m\u001b[0;34m\u001b[0m\u001b[0m\n",
      "\u001b[0;32m/home/ashwin/anaconda2/lib/python2.7/site-packages/pandas/core/internals.pyc\u001b[0m in \u001b[0;36mconcatenate_join_units\u001b[0;34m(join_units, concat_axis, copy)\u001b[0m\n\u001b[1;32m   4937\u001b[0m     to_concat = [ju.get_reindexed_values(empty_dtype=empty_dtype,\n\u001b[1;32m   4938\u001b[0m                                          upcasted_na=upcasted_na)\n\u001b[0;32m-> 4939\u001b[0;31m                  for ju in join_units]\n\u001b[0m\u001b[1;32m   4940\u001b[0m \u001b[0;34m\u001b[0m\u001b[0m\n\u001b[1;32m   4941\u001b[0m     \u001b[0;32mif\u001b[0m \u001b[0mlen\u001b[0m\u001b[0;34m(\u001b[0m\u001b[0mto_concat\u001b[0m\u001b[0;34m)\u001b[0m \u001b[0;34m==\u001b[0m \u001b[0;36m1\u001b[0m\u001b[0;34m:\u001b[0m\u001b[0;34m\u001b[0m\u001b[0m\n",
      "\u001b[0;32m/home/ashwin/anaconda2/lib/python2.7/site-packages/pandas/core/internals.pyc\u001b[0m in \u001b[0;36mget_reindexed_values\u001b[0;34m(self, empty_dtype, upcasted_na)\u001b[0m\n\u001b[1;32m   5210\u001b[0m                     \u001b[0;32mpass\u001b[0m\u001b[0;34m\u001b[0m\u001b[0m\n\u001b[1;32m   5211\u001b[0m                 \u001b[0;32melse\u001b[0m\u001b[0;34m:\u001b[0m\u001b[0;34m\u001b[0m\u001b[0m\n\u001b[0;32m-> 5212\u001b[0;31m                     \u001b[0mmissing_arr\u001b[0m \u001b[0;34m=\u001b[0m \u001b[0mnp\u001b[0m\u001b[0;34m.\u001b[0m\u001b[0mempty\u001b[0m\u001b[0;34m(\u001b[0m\u001b[0mself\u001b[0m\u001b[0;34m.\u001b[0m\u001b[0mshape\u001b[0m\u001b[0;34m,\u001b[0m \u001b[0mdtype\u001b[0m\u001b[0;34m=\u001b[0m\u001b[0mempty_dtype\u001b[0m\u001b[0;34m)\u001b[0m\u001b[0;34m\u001b[0m\u001b[0m\n\u001b[0m\u001b[1;32m   5213\u001b[0m                     \u001b[0mmissing_arr\u001b[0m\u001b[0;34m.\u001b[0m\u001b[0mfill\u001b[0m\u001b[0;34m(\u001b[0m\u001b[0mfill_value\u001b[0m\u001b[0;34m)\u001b[0m\u001b[0;34m\u001b[0m\u001b[0m\n\u001b[1;32m   5214\u001b[0m                     \u001b[0;32mreturn\u001b[0m \u001b[0mmissing_arr\u001b[0m\u001b[0;34m\u001b[0m\u001b[0m\n",
      "\u001b[0;31mMemoryError\u001b[0m: "
     ],
     "output_type": "error"
    }
   ],
   "source": [
    "frame=[year_dummies,month_dummies,day_dummies,time_dummies\n",
    "    ,C1_dummies,banner_pos_dummies,site_category_dummies\n",
    "    ,app_category_dummies,click]\n",
    "result1=pd.concat(frame)"
   ]
  },
  {
   "cell_type": "code",
   "execution_count": null,
   "metadata": {},
   "outputs": [],
   "source": [
    "hdf =pd.HDFStore('data1.h5')\n",
    "hdf.put('/home/ashwin/Downloads/clickthrough/hdf/data1', result1, format='table', data_columns=True)"
   ]
  },
  {
   "cell_type": "code",
   "execution_count": 13,
   "metadata": {},
   "outputs": [],
   "source": [
    "del df\n",
    "chunlsize=1000000\n",
    "data_chunks=pd.read_csv('/home/ashwin/Downloads/clickthrough/train.csv'\n",
    "                 ,chunksize=chunlsize,usecols=coloums2,nrows=20214484,\n",
    "                 dtype={'device_type':np.int8,'device_conn_type':np.int8,'C14':np.int16,'C15':np.int16,'C16':np.int16,\n",
    "'C17':np.int16,'C18':np.int8,'C19':np.int16,'C20':np.int32,'C21':np.int16})\n",
    "df = pd.concat([chunk for chunk in data_chunks])"
   ]
  },
  {
   "cell_type": "code",
   "execution_count": 1,
   "metadata": {},
   "outputs": [
    {
     "name": "stderr",
     "output_type": "stream",
     "text": [
      "/home/ashwin/anaconda2/lib/python2.7/site-packages/ipykernel_launcher.py:28: DeprecationWarning: \n.ix is deprecated. Please use\n.loc for label based indexing or\n.iloc for positional indexing\n\nSee the documentation here:\nhttp://pandas.pydata.org/pandas-docs/stable/indexing.html#deprecate_ix\n"
     ]
    },
    {
     "name": "stdout",
     "output_type": "stream",
     "text": [
      "1.84467024511e+19\n"
     ]
    },
    {
     "name": "stdout",
     "output_type": "stream",
     "text": [
      "1.84467256628e+19\n"
     ]
    },
    {
     "name": "stdout",
     "output_type": "stream",
     "text": [
      "1.84467199426e+19\n"
     ]
    },
    {
     "name": "stdout",
     "output_type": "stream",
     "text": [
      "1.84467281504e+19\n"
     ]
    },
    {
     "name": "stdout",
     "output_type": "stream",
     "text": [
      "1.84467309376e+19\n"
     ]
    },
    {
     "name": "stdout",
     "output_type": "stream",
     "text": [
      "1.84467426435e+19\n"
     ]
    },
    {
     "name": "stdout",
     "output_type": "stream",
     "text": [
      "1.84466612657e+19\n"
     ]
    },
    {
     "name": "stdout",
     "output_type": "stream",
     "text": [
      "1.84467344232e+19\n"
     ]
    },
    {
     "name": "stdout",
     "output_type": "stream",
     "text": [
      "1.84467431639e+19\n"
     ]
    },
    {
     "name": "stdout",
     "output_type": "stream",
     "text": [
      "1.84467407413e+19\n"
     ]
    },
    {
     "name": "stdout",
     "output_type": "stream",
     "text": [
      "1.84467439109e+19\n"
     ]
    },
    {
     "name": "stdout",
     "output_type": "stream",
     "text": [
      "1.84467425832e+19\n"
     ]
    },
    {
     "name": "stdout",
     "output_type": "stream",
     "text": [
      "1.84467015371e+19\n"
     ]
    },
    {
     "name": "stdout",
     "output_type": "stream",
     "text": [
      "1.8446735865e+19\n"
     ]
    },
    {
     "name": "stdout",
     "output_type": "stream",
     "text": [
      "1.84467301132e+19\n"
     ]
    },
    {
     "name": "stdout",
     "output_type": "stream",
     "text": [
      "1.84467402036e+19\n"
     ]
    },
    {
     "name": "stdout",
     "output_type": "stream",
     "text": [
      "1.84466884608e+19\n"
     ]
    },
    {
     "name": "stdout",
     "output_type": "stream",
     "text": [
      "1.84467335598e+19\n"
     ]
    },
    {
     "name": "stdout",
     "output_type": "stream",
     "text": [
      "1.84467387786e+19\n"
     ]
    },
    {
     "name": "stdout",
     "output_type": "stream",
     "text": [
      "1.84467419212e+19\n"
     ]
    },
    {
     "name": "stdout",
     "output_type": "stream",
     "text": [
      "1.84467415579e+19\n"
     ]
    },
    {
     "name": "stdout",
     "output_type": "stream",
     "text": [
      "1.84467420624e+19\n"
     ]
    },
    {
     "name": "stdout",
     "output_type": "stream",
     "text": [
      "1.8446725245e+19\n"
     ]
    },
    {
     "name": "stdout",
     "output_type": "stream",
     "text": [
      "1.84467247127e+19\n"
     ]
    },
    {
     "name": "stdout",
     "output_type": "stream",
     "text": [
      "1.8446729779e+19\n"
     ]
    },
    {
     "name": "stdout",
     "output_type": "stream",
     "text": [
      "1.84467236069e+19\n"
     ]
    },
    {
     "name": "stdout",
     "output_type": "stream",
     "text": [
      "1.84467370971e+19\n"
     ]
    },
    {
     "name": "stdout",
     "output_type": "stream",
     "text": [
      "1.84467292611e+19\n"
     ]
    },
    {
     "name": "stdout",
     "output_type": "stream",
     "text": [
      "1.84467417963e+19\n"
     ]
    },
    {
     "name": "stdout",
     "output_type": "stream",
     "text": [
      "1.84467439725e+19\n"
     ]
    },
    {
     "name": "stdout",
     "output_type": "stream",
     "text": [
      "1.84467319362e+19\n"
     ]
    },
    {
     "name": "stdout",
     "output_type": "stream",
     "text": [
      "1.84467396788e+19\n"
     ]
    },
    {
     "name": "stdout",
     "output_type": "stream",
     "text": [
      "1.84466998265e+19\n"
     ]
    },
    {
     "name": "stdout",
     "output_type": "stream",
     "text": [
      "1.84467403962e+19\n"
     ]
    },
    {
     "name": "stdout",
     "output_type": "stream",
     "text": [
      "1.84467376488e+19\n"
     ]
    },
    {
     "name": "stdout",
     "output_type": "stream",
     "text": [
      "1.84467342282e+19\n"
     ]
    },
    {
     "name": "stdout",
     "output_type": "stream",
     "text": [
      "1.84467381142e+19\n"
     ]
    },
    {
     "name": "stdout",
     "output_type": "stream",
     "text": [
      "1.84467357922e+19\n"
     ]
    },
    {
     "name": "stdout",
     "output_type": "stream",
     "text": [
      "1.84467217258e+19\n"
     ]
    },
    {
     "name": "stdout",
     "output_type": "stream",
     "text": [
      "1.84467128347e+19\n"
     ]
    },
    {
     "name": "stdout",
     "output_type": "stream",
     "text": [
      "1.84466963671e+19\n"
     ]
    },
    {
     "name": "stdout",
     "output_type": "stream",
     "text": [
      "1.84467195976e+19\n"
     ]
    },
    {
     "name": "stdout",
     "output_type": "stream",
     "text": [
      "1.84467434868e+19\n"
     ]
    },
    {
     "name": "stdout",
     "output_type": "stream",
     "text": [
      "1.84467203575e+19\n"
     ]
    },
    {
     "name": "stdout",
     "output_type": "stream",
     "text": [
      "1.84467401105e+19\n"
     ]
    },
    {
     "name": "stdout",
     "output_type": "stream",
     "text": [
      "1.844673775e+19\n"
     ]
    },
    {
     "name": "stderr",
     "output_type": "stream",
     "text": [
      "/home/ashwin/anaconda2/lib/python2.7/site-packages/ipykernel_launcher.py:43: DeprecationWarning: \n.ix is deprecated. Please use\n.loc for label based indexing or\n.iloc for positional indexing\n\nSee the documentation here:\nhttp://pandas.pydata.org/pandas-docs/stable/indexing.html#deprecate_ix\n"
     ]
    },
    {
     "name": "stdout",
     "output_type": "stream",
     "text": [
      "1000000\n"
     ]
    },
    {
     "name": "stdout",
     "output_type": "stream",
     "text": [
      "2000000\n"
     ]
    },
    {
     "name": "stdout",
     "output_type": "stream",
     "text": [
      "3000000\n"
     ]
    },
    {
     "name": "stdout",
     "output_type": "stream",
     "text": [
      "4000000\n"
     ]
    },
    {
     "name": "stdout",
     "output_type": "stream",
     "text": [
      "5000000\n"
     ]
    },
    {
     "name": "stdout",
     "output_type": "stream",
     "text": [
      "6000000\n"
     ]
    },
    {
     "name": "stdout",
     "output_type": "stream",
     "text": [
      "7000000\n"
     ]
    },
    {
     "name": "stdout",
     "output_type": "stream",
     "text": [
      "8000000\n"
     ]
    },
    {
     "name": "stdout",
     "output_type": "stream",
     "text": [
      "9000000\n"
     ]
    },
    {
     "name": "stdout",
     "output_type": "stream",
     "text": [
      "10000000\n"
     ]
    },
    {
     "name": "stdout",
     "output_type": "stream",
     "text": [
      "11000000\n"
     ]
    },
    {
     "name": "stdout",
     "output_type": "stream",
     "text": [
      "12000000\n"
     ]
    },
    {
     "name": "stdout",
     "output_type": "stream",
     "text": [
      "13000000\n"
     ]
    },
    {
     "name": "stdout",
     "output_type": "stream",
     "text": [
      "14000000\n"
     ]
    },
    {
     "name": "stdout",
     "output_type": "stream",
     "text": [
      "15000000\n"
     ]
    },
    {
     "name": "stdout",
     "output_type": "stream",
     "text": [
      "16000000\n"
     ]
    },
    {
     "name": "stdout",
     "output_type": "stream",
     "text": [
      "17000000\n"
     ]
    },
    {
     "name": "stdout",
     "output_type": "stream",
     "text": [
      "18000000\n"
     ]
    },
    {
     "name": "stdout",
     "output_type": "stream",
     "text": [
      "19000000\n"
     ]
    },
    {
     "name": "stdout",
     "output_type": "stream",
     "text": [
      "20000000\n"
     ]
    },
    {
     "name": "stdout",
     "output_type": "stream",
     "text": [
      "21000000\n"
     ]
    },
    {
     "name": "stdout",
     "output_type": "stream",
     "text": [
      "22000000\n"
     ]
    },
    {
     "name": "stdout",
     "output_type": "stream",
     "text": [
      "23000000\n"
     ]
    },
    {
     "name": "stdout",
     "output_type": "stream",
     "text": [
      "24000000\n"
     ]
    },
    {
     "name": "stdout",
     "output_type": "stream",
     "text": [
      "25000000\n"
     ]
    },
    {
     "name": "stdout",
     "output_type": "stream",
     "text": [
      "26000000\n"
     ]
    },
    {
     "name": "stdout",
     "output_type": "stream",
     "text": [
      "27000000\n"
     ]
    },
    {
     "name": "stdout",
     "output_type": "stream",
     "text": [
      "28000000\n"
     ]
    },
    {
     "name": "stdout",
     "output_type": "stream",
     "text": [
      "29000000\n"
     ]
    },
    {
     "name": "stdout",
     "output_type": "stream",
     "text": [
      "30000000\n"
     ]
    },
    {
     "name": "stdout",
     "output_type": "stream",
     "text": [
      "31000000\n"
     ]
    },
    {
     "name": "stdout",
     "output_type": "stream",
     "text": [
      "32000000\n"
     ]
    },
    {
     "name": "stdout",
     "output_type": "stream",
     "text": [
      "33000000\n"
     ]
    },
    {
     "name": "stdout",
     "output_type": "stream",
     "text": [
      "34000000\n"
     ]
    },
    {
     "name": "stdout",
     "output_type": "stream",
     "text": [
      "35000000\n"
     ]
    },
    {
     "name": "stdout",
     "output_type": "stream",
     "text": [
      "36000000\n"
     ]
    },
    {
     "name": "stdout",
     "output_type": "stream",
     "text": [
      "37000000\n"
     ]
    },
    {
     "name": "stdout",
     "output_type": "stream",
     "text": [
      "38000000\n"
     ]
    },
    {
     "name": "stdout",
     "output_type": "stream",
     "text": [
      "39000000\n"
     ]
    },
    {
     "name": "stdout",
     "output_type": "stream",
     "text": [
      "40000000\n"
     ]
    },
    {
     "name": "stdout",
     "output_type": "stream",
     "text": [
      "40428967\n"
     ]
    },
    {
     "name": "stdout",
     "output_type": "stream",
     "text": [
      "41428967\n"
     ]
    },
    {
     "name": "stdout",
     "output_type": "stream",
     "text": [
      "42428967\n"
     ]
    },
    {
     "name": "stdout",
     "output_type": "stream",
     "text": [
      "43428967\n"
     ]
    },
    {
     "name": "stdout",
     "output_type": "stream",
     "text": [
      "44428967\n"
     ]
    },
    {
     "name": "stdout",
     "output_type": "stream",
     "text": [
      "45428967\n"
     ]
    },
    {
     "name": "stdout",
     "output_type": "stream",
     "text": [
      "46428967\n"
     ]
    },
    {
     "name": "stdout",
     "output_type": "stream",
     "text": [
      "47428967\n"
     ]
    },
    {
     "name": "stdout",
     "output_type": "stream",
     "text": [
      "48428967\n"
     ]
    },
    {
     "name": "stdout",
     "output_type": "stream",
     "text": [
      "49428967\n"
     ]
    },
    {
     "name": "stdout",
     "output_type": "stream",
     "text": [
      "50428967\n"
     ]
    },
    {
     "name": "stdout",
     "output_type": "stream",
     "text": [
      "51428967\n"
     ]
    },
    {
     "name": "stdout",
     "output_type": "stream",
     "text": [
      "52428967\n"
     ]
    },
    {
     "name": "stdout",
     "output_type": "stream",
     "text": [
      "53428967\n"
     ]
    },
    {
     "name": "stdout",
     "output_type": "stream",
     "text": [
      "54428967\n"
     ]
    },
    {
     "name": "stdout",
     "output_type": "stream",
     "text": [
      "55428967\n"
     ]
    },
    {
     "name": "stdout",
     "output_type": "stream",
     "text": [
      "56428967\n"
     ]
    },
    {
     "name": "stdout",
     "output_type": "stream",
     "text": [
      "57428967\n"
     ]
    },
    {
     "name": "stdout",
     "output_type": "stream",
     "text": [
      "58428967\n"
     ]
    },
    {
     "name": "stdout",
     "output_type": "stream",
     "text": [
      "59428967\n"
     ]
    },
    {
     "name": "stdout",
     "output_type": "stream",
     "text": [
      "60428967\n"
     ]
    },
    {
     "name": "stdout",
     "output_type": "stream",
     "text": [
      "61428967\n"
     ]
    },
    {
     "name": "stdout",
     "output_type": "stream",
     "text": [
      "62428967\n"
     ]
    },
    {
     "name": "stdout",
     "output_type": "stream",
     "text": [
      "63428967\n"
     ]
    },
    {
     "name": "stdout",
     "output_type": "stream",
     "text": [
      "64428967\n"
     ]
    },
    {
     "name": "stdout",
     "output_type": "stream",
     "text": [
      "65428967\n"
     ]
    },
    {
     "name": "stdout",
     "output_type": "stream",
     "text": [
      "66428967\n"
     ]
    },
    {
     "name": "stdout",
     "output_type": "stream",
     "text": [
      "67428967\n"
     ]
    },
    {
     "name": "stdout",
     "output_type": "stream",
     "text": [
      "68428967\n"
     ]
    },
    {
     "name": "stdout",
     "output_type": "stream",
     "text": [
      "69428967\n"
     ]
    },
    {
     "name": "stdout",
     "output_type": "stream",
     "text": [
      "70428967\n"
     ]
    },
    {
     "name": "stdout",
     "output_type": "stream",
     "text": [
      "71428967\n"
     ]
    },
    {
     "name": "stdout",
     "output_type": "stream",
     "text": [
      "72428967\n"
     ]
    },
    {
     "name": "stdout",
     "output_type": "stream",
     "text": [
      "73428967\n"
     ]
    },
    {
     "name": "stdout",
     "output_type": "stream",
     "text": [
      "74428967\n"
     ]
    },
    {
     "name": "stdout",
     "output_type": "stream",
     "text": [
      "75428967\n"
     ]
    },
    {
     "name": "stdout",
     "output_type": "stream",
     "text": [
      "76428967\n"
     ]
    },
    {
     "name": "stdout",
     "output_type": "stream",
     "text": [
      "77428967\n"
     ]
    },
    {
     "name": "stdout",
     "output_type": "stream",
     "text": [
      "78428967\n"
     ]
    },
    {
     "name": "stdout",
     "output_type": "stream",
     "text": [
      "79428967\n"
     ]
    },
    {
     "name": "stdout",
     "output_type": "stream",
     "text": [
      "80428967\n"
     ]
    },
    {
     "name": "stdout",
     "output_type": "stream",
     "text": [
      "80857934\n"
     ]
    }
   ],
   "source": [
    "import os\n",
    "from collections import Counter\n",
    "import numpy as np\n",
    "import pandas as pd\n",
    "\n",
    "ids={}\n",
    "COLS_TO_TRANLSATE = \"site_id,site_domain,site_category,app_id,app_domain,app_category,device_id,device_ip,device_model\"\n",
    "COLS_TO_TRANLSATE = COLS_TO_TRANLSATE.split(\",\") \n",
    "\n",
    "COLS = \"id,click,day,hour,C1,banner_pos,site_id,site_domain,site_category,app_id,app_domain,app_category,device_id,device_ip,device_model,device_type,device_conn_type,C14,C15,C16,C17,C18,C19,C20,C21\"\n",
    "COLS = COLS.split(\",\")\n",
    "\n",
    "TRAIN_DATA = \"/home/ashwin/Downloads/clickthrough/train.csv\"\n",
    "TEST_DATA = \"/home/ashwin/Downloads/clickthrough/test.csv\"\n",
    "MERGED_DATA = \"/home/ashwin/Downloads/clickthrough/merged.csv\"\n",
    "\n",
    "CHUNK_SIZE = 1000000\n",
    "\n",
    "def create_counters():    \n",
    "    counters = {}\n",
    "    for col in COLS_TO_TRANLSATE:\n",
    "        counters[col] = Counter()\n",
    "    return counters\n",
    "    \n",
    "def update_counter(path,counters):\n",
    "    df = pd.read_csv(path,chunksize=CHUNK_SIZE,iterator=True)\n",
    "    for chunk in df:    \n",
    "        for col in COLS_TO_TRANLSATE:\n",
    "            counters[col].update(chunk.ix[:,col])\n",
    "        print chunk.id.max()\n",
    "\n",
    "def convert_counts_to_id(counters):\n",
    "    #ids = {}\n",
    "    for col in COLS_TO_TRANLSATE:\n",
    "        ids[col] = {}\n",
    "        for i,(val,_) in enumerate(counters[col].most_common()):\n",
    "            ids[col][val] = i\n",
    "    return ids\n",
    "    \n",
    "def write_translated(input_path,output_path,ids,mode=\"w\",start_id=0):\n",
    "    df = pd.read_csv(input_path,chunksize=CHUNK_SIZE,iterator=True)\n",
    "    for i, chunk in enumerate(df):\n",
    "        for col in COLS_TO_TRANLSATE:\n",
    "            chunk.ix[:,col] = chunk.ix[:,col].map(ids[col])\n",
    "        chunk[\"id\"] = np.arange(chunk.shape[0]) + i*CHUNK_SIZE + 1 + start_id\n",
    "        chunk[\"day\"] = chunk[\"hour\"].map(lambda v: int(str(v)[-4:-2]))\n",
    "        chunk[\"hour\"] = chunk[\"hour\"].map(lambda v: int(str(v)[-2:]))\n",
    "        \n",
    "        if \"click\" not in chunk.columns:\n",
    "            chunk[\"click\"] = 0\n",
    "        chunk = chunk.ix[:,COLS]\n",
    "\n",
    "        if i == 0 and mode == \"w\":\n",
    "            chunk.to_csv(output_path,index=False)\n",
    "        else:            \n",
    "            chunk.to_csv(output_path,index=False,mode=\"a\",header=False)\n",
    "\n",
    "        print chunk.id.max()\n",
    "\n",
    "    return chunk.id.max()\n",
    "\n",
    "if __name__ == \"__main__\":\n",
    "    counters = create_counters()\n",
    "    update_counter(TRAIN_DATA,counters)\n",
    "    update_counter(TEST_DATA,counters)\n",
    "    ids = convert_counts_to_id(counters)\n",
    "    max_id = write_translated(TRAIN_DATA,MERGED_DATA,ids)    \n",
    "    _ = write_translated(TRAIN_DATA,MERGED_DATA,ids,mode=\"a\",start_id = max_id)\n",
    "\n",
    "print ids"
   ]
  }
 ],
 "metadata": {
  "kernelspec": {
   "display_name": "Python 2",
   "language": "python",
   "name": "python2"
  },
  "language_info": {
   "codemirror_mode": {
    "name": "ipython",
    "version": 2.0
   },
   "file_extension": ".py",
   "mimetype": "text/x-python",
   "name": "python",
   "nbconvert_exporter": "python",
   "pygments_lexer": "ipython2",
   "version": "2.7.6"
  }
 },
 "nbformat": 4,
 "nbformat_minor": 0
}