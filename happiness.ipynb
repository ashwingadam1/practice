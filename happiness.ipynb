{
 "cells": [
  {
   "cell_type": "code",
   "execution_count": 17,
   "metadata": {
    "collapsed": true
   },
   "outputs": [
    {
     "name": "stdout",
     "output_type": "stream",
     "text": [
      "Populating the interactive namespace from numpy and matplotlib\n"
     ]
    }
   ],
   "source": [
    "import numpy as np\n",
    "import pandas as pd\n",
    "import matplotlib.pyplot as plt\n",
    "from sklearn import preprocessing\n",
    "from nltk.stem.wordnet import WordNetLemmatizer \n",
    "from nltk.corpus import stopwords\n",
    "from nltk.tokenize import word_tokenize\n",
    "from lightgbm import LGBMClassifier\n",
    "from sklearn.cross_validation import *\n",
    "from sklearn.grid_search import GridSearchCV\n",
    "import lightgbm as lgb\n",
    "import re\n",
    "from sklearn.externals import joblib\n",
    "import sklearn.metrics as metrics\n",
    "from imblearn.combine import SMOTETomek\n",
    "from sklearn.ensemble import RandomForestClassifier,BaggingClassifier\n",
    "from sklearn.svm import SVC\n",
    "from sklearn.linear_model import LogisticRegression\n",
    "from imblearn.over_sampling import SMOTE\n",
    "from sklearn.feature_extraction.text import CountVectorizer, TfidfVectorizer\n",
    "%pylab inline\n",
    "%matplotlib inline"
   ]
  },
  {
   "cell_type": "code",
   "execution_count": 2,
   "metadata": {},
   "outputs": [],
   "source": [
    "train=pd.read_csv('/home/ashwin/Downloads/happiness/train.csv')\n",
    "test=pd.read_csv('/home/ashwin/Downloads/happiness/test.csv')"
   ]
  },
  {
   "cell_type": "code",
   "execution_count": 3,
   "metadata": {},
   "outputs": [],
   "source": [
    "print(train.head())\n",
    "print(train.shape)\n",
    "print(test.head())\n",
    "print(test.shape)"
   ]
  },
  {
   "cell_type": "code",
   "execution_count": 4,
   "metadata": {},
   "outputs": [
    {
     "name": "stdout",
     "output_type": "stream",
     "text": [
      "[26521 12411]\n"
     ]
    }
   ],
   "source": [
    "le = preprocessing.LabelEncoder()\n",
    "target=le.fit_transform(train['Is_Response'])\n",
    "print( np.bincount(target))"
   ]
  },
  {
   "cell_type": "code",
   "execution_count": 5,
   "metadata": {},
   "outputs": [
    {
     "data": {
      "text/plain": [
       "<matplotlib.axes._subplots.AxesSubplot at 0x7fcb23436588>"
      ]
     },
     "execution_count": 5,
     "metadata": {},
     "output_type": "execute_result"
    },
    {
     "data": {
      "image/png": "[encoded data removed]",
      "text/plain": [
       "<matplotlib.figure.Figure at 0x7fcb22c18dd8>"
      ]
     },
     "metadata": {},
     "output_type": "display_data"
    }
   ],
   "source": [
    "train['Is_Response'].value_counts().plot(kind='bar')"
   ]
  },
  {
   "cell_type": "code",
   "execution_count": 6,
   "metadata": {},
   "outputs": [
    {
     "name": "stdout",
     "output_type": "stream",
     "text": [
      "(68336, 4)\n"
     ]
    }
   ],
   "source": [
    "train=train.drop('Is_Response',axis=1)\n",
    "data=[train,test]\n",
    "train_test=pd.concat(data,axis=0).reset_index(drop=True)\n",
    "print(train_test.shape)"
   ]
  },
  {
   "cell_type": "code",
   "execution_count": 7,
   "metadata": {},
   "outputs": [],
   "source": [
    "stops = set(stopwords.words(\"english\"))\n",
    "def cleanData(text, lowercase = False, remove_stops = False, stemming = False):\n",
    "    txt = str(text)\n",
    "    txt = re.sub(r'[^A-Za-z0-9\\s]',r'',txt)\n",
    "    txt = re.sub(r'\\n',r' ',txt)\n",
    "    \n",
    "    if lowercase:\n",
    "        txt = \" \".join([w.lower() for w in txt.split()])\n",
    "        \n",
    "    if remove_stops:\n",
    "        txt = \" \".join([w for w in txt.split() if w not in stops])\n",
    "    \n",
    "    if stemming:\n",
    "        st = WordNetLemmatizer()\n",
    "        txt = \" \".join([st.lemmatize(w) for w in txt.split()])\n",
    "\n",
    "    return txt"
   ]
  },
  {
   "cell_type": "code",
   "execution_count": 8,
   "metadata": {},
   "outputs": [],
   "source": [
    "countvec = CountVectorizer(analyzer='word', ngram_range = (1,3), min_df=50, max_features=1500)\n",
    "tfidfvec = TfidfVectorizer(analyzer='word', ngram_range = (1,3), min_df =50, max_features=1500)"
   ]
  },
  {
   "cell_type": "code",
   "execution_count": 10,
   "metadata": {},
   "outputs": [],
   "source": [
    "train_test['Description']=train_test['Description'].map(lambda x:cleanData(x,lowercase=True,remove_stops=True,stemming=True))"
   ]
  },
  {
   "cell_type": "code",
   "execution_count": 11,
   "metadata": {},
   "outputs": [
    {
     "data": {
      "text/plain": [
       "['User_ID', 'Description', 'Browser_Used', 'Device_Used']"
      ]
     },
     "execution_count": 10,
     "metadata": {},
     "output_type": "execute_result"
    }
   ],
   "source": [
    "list(train_test)"
   ]
  },
  {
   "cell_type": "code",
   "execution_count": 12,
   "metadata": {},
   "outputs": [],
   "source": [
    "bagofwords = countvec.fit_transform(train_test['Description'])\n",
    "tfidfdata = tfidfvec.fit_transform(train_test['Description'])\n",
    "bow_df = pd.DataFrame(bagofwords.todense())\n",
    "tfidf_df = pd.DataFrame(tfidfdata.todense())"
   ]
  },
  {
   "cell_type": "code",
   "execution_count": 13,
   "metadata": {},
   "outputs": [],
   "source": [
    "Browser_Used=pd.get_dummies(train_test['Browser_Used'])\n",
    "Device_Used=pd.get_dummies(train_test['Device_Used'])"
   ]
  },
  {
   "cell_type": "code",
   "execution_count": 14,
   "metadata": {},
   "outputs": [
    {
     "name": "stdout",
     "output_type": "stream",
     "text": [
      "(68336, 1514)\n(68336, 1514)\n"
     ]
    }
   ],
   "source": [
    "alldata_tf=pd.concat([tfidf_df,Browser_Used,Device_Used],axis=1)\n",
    "alldata_bow=pd.concat([bow_df,Browser_Used,Device_Used],axis=1)\n",
    "print(alldata_bow.shape)\n",
    "print(alldata_tf.shape)"
   ]
  },
  {
   "cell_type": "code",
   "execution_count": 15,
   "metadata": {},
   "outputs": [
    {
     "name": "stdout",
     "output_type": "stream",
     "text": [
      "(38932, 1514) (29404, 1514)\n(38932, 1514) (29404, 1514)\n"
     ]
    }
   ],
   "source": [
    "train_bow=alldata_bow[:len(target)]\n",
    "train_tf=alldata_tf[:len(target)]\n",
    "test_bow=alldata_bow[len(target):]\n",
    "test_tf=alldata_tf[len(target):]\n",
    "print(train_bow.shape,test_bow.shape)\n",
    "print(train_tf.shape,test_tf.shape)"
   ]
  },
  {
   "cell_type": "code",
   "execution_count": 16,
   "metadata": {
    "collapsed": true
   },
   "outputs": [
    {
     "name": "stderr",
     "output_type": "stream",
     "text": [
      "/home/ashwin/anaconda3/lib/python3.6/site-packages/sklearn/utils/deprecation.py:75: DeprecationWarning: Function _ratio_float is deprecated; Use a float for 'ratio' is deprecated from version 0.2. The support will be removed in 0.4. Use a dict, str, or a callable instead.\n  warnings.warn(msg, category=DeprecationWarning)\n"
     ]
    },
    {
     "name": "stderr",
     "output_type": "stream",
     "text": [
      "/home/ashwin/anaconda3/lib/python3.6/site-packages/sklearn/utils/deprecation.py:75: DeprecationWarning: Function _ratio_float is deprecated; Use a float for 'ratio' is deprecated from version 0.2. The support will be removed in 0.4. Use a dict, str, or a callable instead.\n  warnings.warn(msg, category=DeprecationWarning)\n"
     ]
    },
    {
     "name": "stdout",
     "output_type": "stream",
     "text": [
      "(53042, 1514)\n[26521 26521]\n(53042, 1514)\n[26521 26521]\n"
     ]
    }
   ],
   "source": [
    "sm = SMOTE(random_state=12,ratio=1,n_jobs=-1)\n",
    "x_synthitic_data_bow,y_synthitic_data_bow = sm.fit_sample(train_bow, target)\n",
    "x_synthitic_data_tf,y_synthitic_data_tf = sm.fit_sample(train_tf, target)\n",
    "print(x_synthitic_data_bow.shape)\n",
    "print( np.bincount(y_synthitic_data_bow))\n",
    "print(x_synthitic_data_tf.shape)\n",
    "print( np.bincount(y_synthitic_data_tf))"
   ]
  },
  {
   "cell_type": "code",
   "execution_count": 25,
   "metadata": {},
   "outputs": [],
   "source": [
    "lgBoost = LGBMClassifier()\n",
    "param = {'task': ['train'],\n",
    "         'num_leaves':[200],\n",
    "         'objective':['binary'],\n",
    "         'max_depth':[8],\n",
    "         'learning_rate':[0.05],\n",
    "         'max_bin':[150],\n",
    "         'feature_fraction': [0.3], \n",
    "         'bagging_fraction': [0.8],\n",
    "         'metric':['auc']}\n",
    "clf = GridSearchCV(lgBoost, param_grid=param, n_jobs=1, \n",
    "                   cv=StratifiedKFold(y_synthitic_data_bow, n_folds=5, shuffle=True), \n",
    "                   scoring='roc_auc',\n",
    "                   refit=True)\n",
    "clf.fit(x_synthitic_data_bow,y_synthitic_data_bow)\n",
    "predictions=clf.predict(train_bow)\n",
    "print('lightboost Classifier train/validation result')\n",
    "print('accuracy',metrics.accuracy_score(target,predictions))\n",
    "print('recall',metrics.recall_score(target,predictions))\n",
    "print('precision',metrics.precision_score(target,predictions))\n",
    "print('auc-roc',metrics.roc_auc_score(target,predictions))\n",
    "pd.crosstab(target, predictions, rownames=['True'], \n",
    "            colnames=['Predicted'], margins=True)\n",
    "\n",
    "test=pd.read_csv('/home/ashwin/Downloads/happiness/test.csv')\n",
    "predictions=clf.predict(test_tf)\n",
    "predictions1=['happy' if(x==0) else 'not_happy' for x in predictions ]\n",
    "submission=pd.DataFrame()\n",
    "submission['User_ID']=test['User_ID']\n",
    "submission['Is_Response']=predictions1\n",
    "submission.to_csv('/home/ashwin/Downloads/happiness/happylgbbow.csv',index=False)"
   ]
  },
  {
   "cell_type": "code",
   "execution_count": 26,
   "metadata": {},
   "outputs": [
    {
     "name": "stdout",
     "output_type": "stream",
     "text": [
      "lightboost Classifier train/validation result\naccuracy 0.801859652728\nrecall 0.577068729353\nprecision 0.743949309234\nauc-roc 0.742061758063\n"
     ]
    }
   ],
   "source": [
    "test=pd.read_csv('/home/ashwin/Downloads/happiness/test.csv')\n",
    "lgBoost_tf = LGBMClassifier()\n",
    "param = {'task': ['train'],\n",
    "         'num_leaves':[200],\n",
    "         'objective':['binary'],\n",
    "         'max_depth':[8],\n",
    "         'learning_rate':[0.05],\n",
    "         'max_bin':[150],\n",
    "         'feature_fraction': [0.3], \n",
    "         'bagging_fraction': [0.8],\n",
    "         'metric':['auc']}\n",
    "clf1 = GridSearchCV(lgBoost, param_grid=param, n_jobs=1, \n",
    "                   cv=StratifiedKFold(y_synthitic_data_tf, n_folds=3, shuffle=True), \n",
    "                   scoring='roc_auc',\n",
    "                   refit=True)\n",
    "clf1.fit(x_synthitic_data_tf,y_synthitic_data_tf)\n",
    "predictions=clf1.predict(train_tf)\n",
    "print('lightboost Classifier train/validation result')\n",
    "print('accuracy',metrics.accuracy_score(target,predictions))\n",
    "print('recall',metrics.recall_score(target,predictions))\n",
    "print('precision',metrics.precision_score(target,predictions))\n",
    "print('auc-roc',metrics.roc_auc_score(target,predictions))\n",
    "pd.crosstab(target, predictions, rownames=['True'], \n",
    "            colnames=['Predicted'], margins=True)\n",
    "predictions=clf1.predict(test_tf)\n",
    "predictions1=['happy' if(x==0) else 'not_happy' for x in predictions ]\n",
    "submission=pd.DataFrame()\n",
    "submission['User_ID']=test['User_ID']\n",
    "submission['Is_Response']=predictions1\n",
    "submission.to_csv('/home/ashwin/Downloads/happiness/happylgbtf.csv',index=False)"
   ]
  },
  {
   "cell_type": "code",
   "execution_count": 27,
   "metadata": {},
   "outputs": [],
   "source": [
    "test=pd.read_csv('/home/ashwin/Downloads/happiness/test.csv')\n",
    "n_estimators=20\n",
    "model=BaggingClassifier(SVC(C=500,kernel='rbf',gamma=0.01,\n",
    "     probability=True)\n",
    "    , max_samples=1.0 / n_estimators, n_estimators=n_estimators,n_jobs=-1)\n",
    "model.fit(x_synthitic_data_bow,y_synthitic_data_bow)\n",
    "joblib.dump(model, 'xgboosthappybow.pkl', compress=True)\n",
    "predictions=model.predict(train_bow)\n",
    "print('SVM Classifier train/valadiation result')\n",
    "print('accuracy',metrics.accuracy_score(target,predictions))\n",
    "print('recall',metrics.recall_score(target,predictions))\n",
    "print('precision',metrics.precision_score(target,predictions))\n",
    "print('auc-roc',metrics.roc_auc_score(target,predictions))\n",
    "pd.crosstab(target, predictions, rownames=['True'], \n",
    "            colnames=['Predicted'], margins=True)\n",
    "predictions=model.predict(test_tf)\n",
    "predictions1=['happy' if(x==0) else 'not_happy' for x in predictions ]\n",
    "submission=pd.DataFrame()\n",
    "submission['User_ID']=test['User_ID']\n",
    "submission['Is_Response']=predictions1\n",
    "submission.to_csv('/home/ashwin/Downloads/happiness/happysvmtf.csv'\n",
    "                  ,index=False)"
   ]
  },
  {
   "cell_type": "code",
   "execution_count": 18,
   "metadata": {},
   "outputs": [],
   "source": [
    "test=pd.read_csv('/home/ashwin/Downloads/happiness/test.csv')\n",
    "n_estimators=20\n",
    "model1=BaggingClassifier(SVC(C=500,kernel='rbf',gamma=0.01,\n",
    "     probability=True)\n",
    "    , max_samples=1.0 / n_estimators, n_estimators=n_estimators,n_jobs=-1)\n",
    "model1.fit(x_synthitic_data_tf,y_synthitic_data_tf)\n",
    "joblib.dump(model1, 'xgboosthappytf.pkl', compress=True)\n",
    "predictions=model1.predict(train_tf)\n",
    "print('SVM Classifier train/valadiation result')\n",
    "print('accuracy',metrics.accuracy_score(target,predictions))\n",
    "print('recall',metrics.recall_score(target,predictions))\n",
    "print('precision',metrics.precision_score(target,predictions))\n",
    "print('auc-roc',metrics.roc_auc_score(target,predictions))\n",
    "pd.crosstab(target, predictions, rownames=['True'], \n",
    "            colnames=['Predicted'], margins=True)\n",
    "\n",
    "predictions=model1.predict(test_tf)\n",
    "predictions1=['happy' if(x==0) else 'not_happy' for x in predictions ]\n",
    "submission=pd.DataFrame()\n",
    "submission['User_ID']=test['User_ID']\n",
    "submission['Is_Response']=predictions1\n",
    "submission.to_csv('/home/ashwin/Downloads/happiness/happysvmtf1.csv',index=False)"
   ]
  },
  {
   "cell_type": "code",
   "execution_count": null,
   "metadata": {},
   "outputs": [],
   "source": [
    "test=pd.read_csv('/home/ashwin/Downloads/happiness/test.csv')\n",
    "model = RandomForestClassifier(n_estimators = 500, oob_score = True, \n",
    "                n_jobs = -1,random_state =50,max_features = \"auto\"\n",
    "                                   , min_samples_leaf = 3)\n",
    "model.fit(x_synthitic_data_tf,y_synthitic_data_tf)\n",
    "joblib.dump(model, 'xgboostrf.pkl', compress=True)\n",
    "predictions=model.predict(train_tf)\n",
    "print('RandomForest Classifier train/valadiation result')\n",
    "print('accuracy',metrics.accuracy_score(target,predictions))\n",
    "print('recall',metrics.recall_score(target,predictions))\n",
    "print('precision',metrics.precision_score(target,predictions))\n",
    "print('auc-roc',metrics.roc_auc_score(target,predictions))\n",
    "\n",
    "\n",
    "predictions=model.predict(test_tf)\n",
    "predictions1=['happy' if(x==0) else 'not_happy' for x in predictions ]\n",
    "submission=pd.DataFrame()\n",
    "submission['User_ID']=test['User_ID']\n",
    "submission['Is_Response']=predictions1\n",
    "submission.to_csv('/home/ashwin/Downloads/happiness/happyrf.csv',index=False)"
   ]
  },
  {
   "cell_type": "code",
   "execution_count": null,
   "metadata": {},
   "outputs": [],
   "source": [
    "test=pd.read_csv('/home/ashwin/Downloads/happiness/test.csv')\n",
    "model=LogisticRegression()\n",
    "grid_values = {'penalty': ['l2,l1'], 'C': [0.001,0.005,0.01,0.05,0.1\n",
    "    ,0.5,1,10,100,1000,5000,7500,10000,12500],'class_weight':[{0:.40, 1:.60}],\n",
    "               'solver' : ['newton-cg','lbfgs','liblinear','sag','saga']}\n",
    "logistic_model = GridSearchCV(model, param_grid=grid_values,\n",
    "                cv=StratifiedKFold(y_synthitic_data_tf, n_folds=3, shuffle=True),\n",
    "                n_jobs=-1,scoring='roc_auc',refit=True)\n",
    "logistic_model.fit(x_synthitic_data_tf,y_synthitic_data_tf)\n",
    "joblib.dump(logistic_model, 'xgboostlogistic.pkl', compress=True)\n",
    "print(logistic_model.best_params_,logistic_model.best_score_)\n",
    "#model=LogisticRegression(C=1000,penalty='l2')\n",
    "#model.fit(x_res,y_res)\n",
    "predictions=logistic_model.predict(train_tf)\n",
    "print('Logistic Regression Classifier Train/valadiation result')\n",
    "print('accuracy',metrics.accuracy_score(target,predictions))\n",
    "print('recall',metrics.recall_score(target,predictions))\n",
    "print('precision',metrics.precision_score(target,predictions))\n",
    "print('auc-roc',metrics.roc_auc_score(target,predictions))\n",
    "\n",
    "\n",
    "predictions=logistic_model.predict(test_tf)\n",
    "predictions1=['happy' if(x==0) else 'not_happy' for x in predictions ]\n",
    "submission=pd.DataFrame()\n",
    "submission['User_ID']=test['User_ID']\n",
    "submission['Is_Response']=predictions1\n",
    "submission.to_csv('/home/ashwin/Downloads/happiness/happylogistic.csv',index=False)"
   ]
  },
  {
   "cell_type": "code",
   "execution_count": null,
   "metadata": {},
   "outputs": [],
   "source": [
    "x_synthitic_data_bow['target']=y_synthitic_data_bow\n",
    "x_synthitic_data_bow.submission.to_csv('/home/ashwin/Downloads/happiness/synthitic_bow.csv',index=False)\n",
    "x_synthitic_data_tf['target']=y_synthitic_data_tf\n",
    "x_synthitic_data_tf.submission.to_csv('/home/ashwin/Downloads/happiness/synthitic_tf.csv',index=False)"
   ]
  }
 ],
 "metadata": {
  "kernelspec": {
   "display_name": "Python 2",
   "language": "python",
   "name": "python2"
  },
  "language_info": {
   "codemirror_mode": {
    "name": "ipython",
    "version": 2
   },
   "file_extension": ".py",
   "mimetype": "text/x-python",
   "name": "python",
   "nbconvert_exporter": "python",
   "pygments_lexer": "ipython2",
   "version": "2.7.6"
  }
 },
 "nbformat": 4,
 "nbformat_minor": 0
}
