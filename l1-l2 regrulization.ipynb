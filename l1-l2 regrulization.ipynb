{
 "cells": [
  {
   "cell_type": "code",
   "execution_count": 41,
   "metadata": {
    "collapsed": true
   },
   "outputs": [],
   "source": [
    "import numpy as np\n",
    "import matplotlib.pyplot as plt\n",
    "import pandas as pd\n",
    "import IPython.display as display\n",
    "from __future__ import division\n",
    "%matplotlib inline"
   ]
  },
  {
   "cell_type": "code",
   "execution_count": 42,
   "metadata": {},
   "outputs": [],
   "source": [
    "data=pd.read_csv('/home/ashwin/Downloads/'\n",
    "                 'climate-change-earth-surface-temperature-data/GlobalLandTemperaturesByMajorCity.csv')\n",
    "data['year']=pd.DatetimeIndex(pd.to_datetime(data['dt'])).year\n",
    "data['month']=pd.DatetimeIndex(pd.to_datetime(data['dt'])).month\n",
    "\n",
    "data=data[data['City']=='Los Angeles']\n",
    "data=data[data['month']==10]"
   ]
  },
  {
   "cell_type": "code",
   "execution_count": 43,
   "metadata": {},
   "outputs": [
    {
     "data": {
      "image/png": "[encoded data removed]",
      "text/plain": [
       "<matplotlib.figure.Figure at 0x7f77076ebd90>"
      ]
     },
     "metadata": {},
     "output_type": "display_data"
    }
   ],
   "source": [
    "points=data.as_matrix(['year','AverageTemperature'])\n",
    "f,ax=plt.subplots(figsize=(14,5))\n",
    "ax.set_xlabel('year')\n",
    "ax.set_ylabel('avg temp')\n",
    "plt.scatter( points[:,0],points[:,1])\n",
    "plt.show()"
   ]
  },
  {
   "cell_type": "code",
   "execution_count": 44,
   "metadata": {},
   "outputs": [],
   "source": [
    "def computing_error(m,b,point):\n",
    "    total_error=0.0\n",
    "    for i in range(0,len(point)):\n",
    "        x=point[i,0]\n",
    "        y=point[i,1]\n",
    "        total_error+=(y-(m*x+b))**2\n",
    "        \n",
    "    return total_error"
   ]
  },
  {
   "cell_type": "code",
   "execution_count": 44,
   "metadata": {},
   "outputs": [],
   "source": [
    "def step_gradient(m_gradient,b_gradient\n",
    "                  ,point,lam,regularizer,learning_rate):\n",
    "    m=m_gradient\n",
    "    b=b_gradient\n",
    "    n=len(point)\n",
    "    for i in range(0,n):\n",
    "        x=point[i,0]\n",
    "        y=point[i,1]\n",
    "        if(regularizer=='l1'):\n",
    "            m+=float((lam/(2*n)-(x/n)*(y-(m*x+b))))\n",
    "        elif(regularizer=='l2'):\n",
    "            m+=float(((lam/n)*m-(x/n)*(y-(m*x+b))))\n",
    "        else:\n",
    "            m+=-(x/n)*(y-(m*x+b))\n",
    "        b+=-(1/n)*(y-(m*x)+b)\n",
    "    new_m=m-(learning_rate*m)\n",
    "    new_b=b-(learning_rate*b)\n",
    "    return [new_m,new_b]"
   ]
  },
  {
   "cell_type": "code",
   "execution_count": 46,
   "metadata": {},
   "outputs": [],
   "source": [
    "def gradient_decent_runner(m_gradient,b_gradient,point\n",
    "                           ,lam,regularizer,learning_rate,n_itr):\n",
    "    m=m_gradient\n",
    "    b=b_gradient\n",
    "    for i in range(0,n_itr):\n",
    "        m,b=step_gradient(m,b,np.array(points)\n",
    "                           ,lam,regularizer,learning_rate)\n",
    "        if i % 100 == 0:\n",
    "            print('Iteration {}, b:{}, m:{}, error:{}'.format(i, b, m, computing_error(m,b, point)))\n",
    "    print '------',m,b\n",
    "    return m,b"
   ]
  },
  {
   "cell_type": "code",
   "execution_count": 47,
   "metadata": {},
   "outputs": [],
   "source": [
    "def run(lr, num_iter, lam, regularizer=None):\n",
    "    learning_rate = lr\n",
    "    initial_b = 0.0 # initial y-intercept guess\n",
    "    initial_m = 0.0 # initial slope guess\n",
    "    num_iterations = num_iter\n",
    "    print(\"Starting gradient descent at b = {0}, m = {1}, error = {2}\".format(initial_b, initial_m, computing_error(initial_m,initial_b, points)))\n",
    "    print(\"Running...\")\n",
    "    m, b = gradient_decent_runner( initial_m,initial_b,points, lam,regularizer,learning_rate, num_iterations)\n",
    "    print(\"After {0} iterations b = {1}, m = {2}, error = {3}\".format(num_iterations, b, m, computing_error(m,b, points)))\n",
    "    return b, m"
   ]
  },
  {
   "cell_type": "code",
   "execution_count": 48,
   "metadata": {},
   "outputs": [],
   "source": [
    "def predict(b, m, x_values):\n",
    "    predicted_y = list()\n",
    "    for x in x_values:\n",
    "        y = m * x + b\n",
    "        predicted_y.append(y)\n",
    "    return predicted_y"
   ]
  },
  {
   "cell_type": "code",
   "execution_count": 57,
   "metadata": {
    "collapsed": false
   },
   "outputs": [
    {
     "name": "stdout",
     "output_type": "stream",
     "text": [
      "Starting gradient descent at b = 0.0, m = 0.0, error = 47493.755808\nRunning...\nIteration 0, b:nan, m:nan, error:nan\n------ nan nan\nAfter 1 iterations b = nan, m = nan, error = nan\nnan nan\n"
     ]
    },
    {
     "name": "stderr",
     "output_type": "stream",
     "text": [
      "/home/ashwin/anaconda2/lib/python2.7/site-packages/ipykernel_launcher.py:15: RuntimeWarning: overflow encountered in double_scalars\n  from ipykernel import kernelapp as app\n/home/ashwin/anaconda2/lib/python2.7/site-packages/ipykernel_launcher.py:10: RuntimeWarning: overflow encountered in double_scalars\n  # Remove the CWD from sys.path while we load stuff.\n/home/ashwin/anaconda2/lib/python2.7/site-packages/ipykernel_launcher.py:15: RuntimeWarning: invalid value encountered in double_scalars\n  from ipykernel import kernelapp as app\n"
     ]
    }
   ],
   "source": [
    "# Hyperparameters\n",
    "learning_rate = 0.0000001\n",
    "iterations = 1\n",
    "lamb = 500\n",
    "\n",
    "# Linear Regression with L1 \n",
    "b1, m1 = run(learning_rate, iterations, lamb, 'l1')\n",
    "print b1,m1\n",
    "# Linear Regression with L2 \n",
    "#b2, m2 = run(learning_rate, iterations, lamb, 'l2')\n",
    "\n",
    "# Linear Regression without Regularization\n",
    "#b3, m3 = run(learning_rate, iterations, lamb)"
   ]
  },
  {
   "cell_type": "code",
   "execution_count": 12,
   "metadata": {},
   "outputs": [
    {
     "data": {
      "image/png": "[encoded data removed]",
      "text/plain": [
       "<matplotlib.figure.Figure at 0x7f77077f40d0>"
      ]
     },
     "metadata": {},
     "output_type": "display_data"
    }
   ],
   "source": [
    "f, ax = plt.subplots(figsize=(14, 5))\n",
    "ax.set_xlabel('Year')\n",
    "ax.set_ylabel('Av. Temp in October (Degrees Celcius)')\n",
    "plt.plot(points[:,0], predict(b1, m1, points[:,0]), label='L1')\n",
    "plt.plot(points[:,0], predict(b2, m2, points[:,0]), label='L2')\n",
    "plt.plot(points[:,0], predict(b3, m3, points[:,0]), label='None')\n",
    "plt.scatter(points[:,0], points[:,1])\n",
    "plt.legend()\n",
    "plt.show()"
   ]
  },
  {
   "cell_type": "code",
   "execution_count": 13,
   "metadata": {},
   "outputs": [],
   "source": [
    "temp = predict(b1,m1, [2017, 2050, 2100])"
   ]
  },
  {
   "cell_type": "code",
   "execution_count": 14,
   "metadata": {},
   "outputs": [],
   "source": [
    "temp"
   ]
  },
  {
   "cell_type": "code",
   "execution_count": null,
   "metadata": {},
   "outputs": [],
   "source": [
    ""
   ]
  }
 ],
 "metadata": {
  "kernelspec": {
   "display_name": "Python 2",
   "language": "python",
   "name": "python2"
  },
  "language_info": {
   "codemirror_mode": {
    "name": "ipython",
    "version": 2.0
   },
   "file_extension": ".py",
   "mimetype": "text/x-python",
   "name": "python",
   "nbconvert_exporter": "python",
   "pygments_lexer": "ipython2",
   "version": "2.7.6"
  }
 },
 "nbformat": 4,
 "nbformat_minor": 0
}