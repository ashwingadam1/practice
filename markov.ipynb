{
 "cells": [
  {
   "cell_type": "code",
   "execution_count": 11,
   "metadata": {
    "collapsed": true
   },
   "outputs": [],
   "source": [
    "import random\n",
    "import re"
   ]
  },
  {
   "cell_type": "code",
   "execution_count": 15,
   "metadata": {},
   "outputs": [],
   "source": [
    "def addDict(fileName,freqDict):\n",
    "    f=open(fileName,'r')\n",
    "    words = re.sub(\"\\n\", \" \\n\", f.read()).lower().split(' ')\n",
    "    for curr,succ in zip(words[:-1],words[1:]):\n",
    "        if(curr not in freqDict):\n",
    "            freqDict[curr]={succ:1}\n",
    "        else:\n",
    "            if succ not in freqDict[curr]:\n",
    "                freqDict[curr][succ]=1\n",
    "            else:\n",
    "                freqDict[curr][succ]+=1\n",
    "    probDict = {}\n",
    "    for curr,currDict in freqDict.items():\n",
    "        probDict[curr] = {}\n",
    "        currTotal = sum(currDict.values())\n",
    "        for succ in currDict:\n",
    "           probDict[curr][succ] = currDict[succ] / currTotal\n",
    "    return probDict"
   ]
  },
  {
   "cell_type": "code",
   "execution_count": 16,
   "metadata": {},
   "outputs": [],
   "source": [
    "def make_markov(curr,probDict):\n",
    "    if(curr not in probDict.keys()):\n",
    "        return random.choice(list(probDict.keys()))\n",
    "    else:\n",
    "        random_prob=random.random()\n",
    "        curr_prob=0.0\n",
    "        succProbs = probDict[curr]\n",
    "        for succ in succProbs:\n",
    "            curr_prob+=succProbs[succ]\n",
    "            if(curr_prob>=random_prob):\n",
    "                return succ\n",
    "        return random.choice(list(probDict.keys()))\n",
    "    "
   ]
  },
  {
   "cell_type": "code",
   "execution_count": 24,
   "metadata": {},
   "outputs": [],
   "source": [
    "def make_rap(curr,probDict,T=250):\n",
    "    rap=[curr]\n",
    "    for t in range(T):\n",
    "        rap.append(make_markov(rap[-1], probDict))\n",
    "    return \" \".join(rap)"
   ]
  },
  {
   "cell_type": "code",
   "execution_count": 26,
   "metadata": {
    "collapsed": false
   },
   "outputs": [
    {
     "name": "stdout",
     "output_type": "stream",
     "text": [
      "Alright, here's your rap:\ni love you trying to see you were romeo, you was begging you, please, don't go \nand my daddy said \n\"marry me, juliet, you'll never come \nis this mess \nit's a little while \n'cause we can be alone \ni'll be the prince and pulled out of waiting for a love you were both young when i really know \ni love story, baby just say yes \nromeo save me, i've been feeling so alone \ni close your dad, go \nand say \"yes\" \noh, oh, \noh, oh, \noh, oh, \noh, oh, \noh, oh \n'cause you was crying on the prince and said \n\"marry me, i don't go \nand say yes\" \noh, oh, \noh, oh \ni talked to your dad, go pick out a scarlet letter \nand i really know \ni close my head? i know \nthat you were ever coming around \nmy faith in you \ni close my eyes and the crowd \nand i know \nthat you never have to be alone \ni'll be alone \ni close your eyes, escape this in you \ni talked to me, they're trying to feel \nthis love you were throwing pebbles \nand my head? i said \n\"romeo save me, i've been feeling so alone \ni'll be afraid, we'll make it out to the lights, see you \nwe keep quiet 'cause we're dead if you were both young when i was begging you, please, don't go pick out of this mess \nit's a ring and i'll be alone \ni talked to think\" \nhe knelt to tell me how to feel\n"
     ]
    }
   ],
   "source": [
    "if __name__ == '__main__':\n",
    "\trapFreqDict = {}\n",
    "\trapProbDict = addDict('/home/ashwin/Desktop/tylor_shift', rapFreqDict)\n",
    "\n",
    "\tstartWord = \"i love you\"\n",
    "\tprint(\"Alright, here's your rap:\")\n",
    "\tprint(make_rap(startWord, rapProbDict))"
   ]
  }
 ],
 "metadata": {
  "kernelspec": {
   "display_name": "Python 2",
   "language": "python",
   "name": "python2"
  },
  "language_info": {
   "codemirror_mode": {
    "name": "ipython",
    "version": 2
   },
   "file_extension": ".py",
   "mimetype": "text/x-python",
   "name": "python",
   "nbconvert_exporter": "python",
   "pygments_lexer": "ipython2",
   "version": "2.7.6"
  }
 },
 "nbformat": 4,
 "nbformat_minor": 0
}
