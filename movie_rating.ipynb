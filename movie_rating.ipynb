{
 "cells": [
  {
   "cell_type": "code",
   "execution_count": 2,
   "metadata": {
    "collapsed": true
   },
   "outputs": [
    {
     "name": "stderr",
     "output_type": "stream",
     "text": [
      "D:\\anaconda\\lib\\site-packages\\sklearn\\cross_validation.py:41: DeprecationWarning: This module was deprecated in version 0.18 in favor of the model_selection module into which all the refactored classes and functions are moved. Also note that the interface of the new CV iterators are different from that of this module. This module will be removed in 0.20.\n  \"This module will be removed in 0.20.\", DeprecationWarning)\n"
     ]
    }
   ],
   "source": [
    "import pandas as pd\n",
    "import numpy as np\n",
    "import IPython.display as dispaly\n",
    "import matplotlib.pyplot as plt\n",
    "import seaborn as sns\n",
    "import scipy.stats as stats\n",
    "from sklearn.preprocessing import StandardScaler\n",
    "from sklearn.cross_validation import train_test_split\n",
    "from sklearn.ensemble import RandomForestRegressor\n",
    "from __future__ import division\n",
    "%matplotlib inline"
   ]
  },
  {
   "cell_type": "code",
   "execution_count": 3,
   "metadata": {},
   "outputs": [],
   "source": [
    "#full_data=pd.read_csv('/home/ashwin/Downloads/movies/movie_metadata.csv')\n",
    "full_data=pd.read_csv('D:\\\\ds\\\\movie_metadata.csv')"
   ]
  },
  {
   "cell_type": "code",
   "execution_count": 4,
   "metadata": {},
   "outputs": [
    {
     "data": {
      "text/plain": [
       "['color',\n 'director_name',\n 'num_critic_for_reviews',\n 'duration',\n 'director_facebook_likes',\n 'actor_3_facebook_likes',\n 'actor_2_name',\n 'actor_1_facebook_likes',\n 'gross',\n 'genres',\n 'actor_1_name',\n 'movie_title',\n 'num_voted_users',\n 'cast_total_facebook_likes',\n 'actor_3_name',\n 'facenumber_in_poster',\n 'plot_keywords',\n 'movie_imdb_link',\n 'num_user_for_reviews',\n 'language',\n 'country',\n 'content_rating',\n 'budget',\n 'title_year',\n 'actor_2_facebook_likes',\n 'imdb_score',\n 'aspect_ratio',\n 'movie_facebook_likes']"
      ]
     },
     "execution_count": 3,
     "metadata": {},
     "output_type": "execute_result"
    }
   ],
   "source": [
    "list(full_data)"
   ]
  },
  {
   "cell_type": "code",
   "execution_count": 4,
   "metadata": {},
   "outputs": [
    {
     "data": {
      "text/html": [
       "<div>\n",
       "<style>\n",
       "    .dataframe thead tr:only-child th {\n",
       "        text-align: right;\n",
       "    }\n",
       "\n",
       "    .dataframe thead th {\n",
       "        text-align: left;\n",
       "    }\n",
       "\n",
       "    .dataframe tbody tr th {\n",
       "        vertical-align: top;\n",
       "    }\n",
       "</style>\n",
       "<table border=\"1\" class=\"dataframe\">\n",
       "  <thead>\n",
       "    <tr style=\"text-align: right;\">\n",
       "      <th></th>\n",
       "      <th>num_critic_for_reviews</th>\n",
       "      <th>duration</th>\n",
       "      <th>director_facebook_likes</th>\n",
       "      <th>actor_3_facebook_likes</th>\n",
       "      <th>actor_1_facebook_likes</th>\n",
       "      <th>gross</th>\n",
       "      <th>num_voted_users</th>\n",
       "      <th>cast_total_facebook_likes</th>\n",
       "      <th>facenumber_in_poster</th>\n",
       "      <th>num_user_for_reviews</th>\n",
       "      <th>budget</th>\n",
       "      <th>title_year</th>\n",
       "      <th>actor_2_facebook_likes</th>\n",
       "      <th>imdb_score</th>\n",
       "      <th>aspect_ratio</th>\n",
       "      <th>movie_facebook_likes</th>\n",
       "    </tr>\n",
       "  </thead>\n",
       "  <tbody>\n",
       "    <tr>\n",
       "      <th>count</th>\n",
       "      <td>4993.000000</td>\n",
       "      <td>5028.000000</td>\n",
       "      <td>4939.000000</td>\n",
       "      <td>5020.000000</td>\n",
       "      <td>5036.000000</td>\n",
       "      <td>4.159000e+03</td>\n",
       "      <td>5.043000e+03</td>\n",
       "      <td>5043.000000</td>\n",
       "      <td>5030.000000</td>\n",
       "      <td>5022.000000</td>\n",
       "      <td>4.551000e+03</td>\n",
       "      <td>4935.000000</td>\n",
       "      <td>5030.000000</td>\n",
       "      <td>5043.000000</td>\n",
       "      <td>4714.000000</td>\n",
       "      <td>5043.000000</td>\n",
       "    </tr>\n",
       "    <tr>\n",
       "      <th>mean</th>\n",
       "      <td>140.194272</td>\n",
       "      <td>107.201074</td>\n",
       "      <td>686.509212</td>\n",
       "      <td>645.009761</td>\n",
       "      <td>6560.047061</td>\n",
       "      <td>4.846841e+07</td>\n",
       "      <td>8.366816e+04</td>\n",
       "      <td>9699.063851</td>\n",
       "      <td>1.371173</td>\n",
       "      <td>272.770808</td>\n",
       "      <td>3.975262e+07</td>\n",
       "      <td>2002.470517</td>\n",
       "      <td>1651.754473</td>\n",
       "      <td>6.442138</td>\n",
       "      <td>2.220403</td>\n",
       "      <td>7525.964505</td>\n",
       "    </tr>\n",
       "    <tr>\n",
       "      <th>std</th>\n",
       "      <td>121.601675</td>\n",
       "      <td>25.197441</td>\n",
       "      <td>2813.328607</td>\n",
       "      <td>1665.041728</td>\n",
       "      <td>15020.759120</td>\n",
       "      <td>6.845299e+07</td>\n",
       "      <td>1.384853e+05</td>\n",
       "      <td>18163.799124</td>\n",
       "      <td>2.013576</td>\n",
       "      <td>377.982886</td>\n",
       "      <td>2.061149e+08</td>\n",
       "      <td>12.474599</td>\n",
       "      <td>4042.438863</td>\n",
       "      <td>1.125116</td>\n",
       "      <td>1.385113</td>\n",
       "      <td>19320.445110</td>\n",
       "    </tr>\n",
       "    <tr>\n",
       "      <th>min</th>\n",
       "      <td>1.000000</td>\n",
       "      <td>7.000000</td>\n",
       "      <td>0.000000</td>\n",
       "      <td>0.000000</td>\n",
       "      <td>0.000000</td>\n",
       "      <td>1.620000e+02</td>\n",
       "      <td>5.000000e+00</td>\n",
       "      <td>0.000000</td>\n",
       "      <td>0.000000</td>\n",
       "      <td>1.000000</td>\n",
       "      <td>2.180000e+02</td>\n",
       "      <td>1916.000000</td>\n",
       "      <td>0.000000</td>\n",
       "      <td>1.600000</td>\n",
       "      <td>1.180000</td>\n",
       "      <td>0.000000</td>\n",
       "    </tr>\n",
       "    <tr>\n",
       "      <th>25%</th>\n",
       "      <td>50.000000</td>\n",
       "      <td>93.000000</td>\n",
       "      <td>7.000000</td>\n",
       "      <td>133.000000</td>\n",
       "      <td>614.000000</td>\n",
       "      <td>5.340988e+06</td>\n",
       "      <td>8.593500e+03</td>\n",
       "      <td>1411.000000</td>\n",
       "      <td>0.000000</td>\n",
       "      <td>65.000000</td>\n",
       "      <td>6.000000e+06</td>\n",
       "      <td>1999.000000</td>\n",
       "      <td>281.000000</td>\n",
       "      <td>5.800000</td>\n",
       "      <td>1.850000</td>\n",
       "      <td>0.000000</td>\n",
       "    </tr>\n",
       "    <tr>\n",
       "      <th>50%</th>\n",
       "      <td>110.000000</td>\n",
       "      <td>103.000000</td>\n",
       "      <td>49.000000</td>\n",
       "      <td>371.500000</td>\n",
       "      <td>988.000000</td>\n",
       "      <td>2.551750e+07</td>\n",
       "      <td>3.435900e+04</td>\n",
       "      <td>3090.000000</td>\n",
       "      <td>1.000000</td>\n",
       "      <td>156.000000</td>\n",
       "      <td>2.000000e+07</td>\n",
       "      <td>2005.000000</td>\n",
       "      <td>595.000000</td>\n",
       "      <td>6.600000</td>\n",
       "      <td>2.350000</td>\n",
       "      <td>166.000000</td>\n",
       "    </tr>\n",
       "    <tr>\n",
       "      <th>75%</th>\n",
       "      <td>195.000000</td>\n",
       "      <td>118.000000</td>\n",
       "      <td>194.500000</td>\n",
       "      <td>636.000000</td>\n",
       "      <td>11000.000000</td>\n",
       "      <td>6.230944e+07</td>\n",
       "      <td>9.630900e+04</td>\n",
       "      <td>13756.500000</td>\n",
       "      <td>2.000000</td>\n",
       "      <td>326.000000</td>\n",
       "      <td>4.500000e+07</td>\n",
       "      <td>2011.000000</td>\n",
       "      <td>918.000000</td>\n",
       "      <td>7.200000</td>\n",
       "      <td>2.350000</td>\n",
       "      <td>3000.000000</td>\n",
       "    </tr>\n",
       "    <tr>\n",
       "      <th>max</th>\n",
       "      <td>813.000000</td>\n",
       "      <td>511.000000</td>\n",
       "      <td>23000.000000</td>\n",
       "      <td>23000.000000</td>\n",
       "      <td>640000.000000</td>\n",
       "      <td>7.605058e+08</td>\n",
       "      <td>1.689764e+06</td>\n",
       "      <td>656730.000000</td>\n",
       "      <td>43.000000</td>\n",
       "      <td>5060.000000</td>\n",
       "      <td>1.221550e+10</td>\n",
       "      <td>2016.000000</td>\n",
       "      <td>137000.000000</td>\n",
       "      <td>9.500000</td>\n",
       "      <td>16.000000</td>\n",
       "      <td>349000.000000</td>\n",
       "    </tr>\n",
       "  </tbody>\n",
       "</table>\n",
       "</div>"
      ],
      "text/plain": [
       "<div>\n",
       "<style>\n",
       "    .dataframe thead tr:only-child th {\n",
       "        text-align: right;\n",
       "    }\n",
       "\n",
       "    .dataframe thead th {\n",
       "        text-align: left;\n",
       "    }\n",
       "\n",
       "    .dataframe tbody tr th {\n",
       "        vertical-align: top;\n",
       "    }\n",
       "</style>\n",
       "<table border=\"1\" class=\"dataframe\">\n",
       "  <thead>\n",
       "    <tr style=\"text-align: right;\">\n",
       "      <th></th>\n",
       "      <th>num_critic_for_reviews</th>\n",
       "      <th>duration</th>\n",
       "      <th>director_facebook_likes</th>\n",
       "      <th>actor_3_facebook_likes</th>\n",
       "      <th>actor_1_facebook_likes</th>\n",
       "      <th>gross</th>\n",
       "      <th>num_voted_users</th>\n",
       "      <th>cast_total_facebook_likes</th>\n",
       "      <th>facenumber_in_poster</th>\n",
       "      <th>num_user_for_reviews</th>\n",
       "      <th>budget</th>\n",
       "      <th>title_year</th>\n",
       "      <th>actor_2_facebook_likes</th>\n",
       "      <th>imdb_score</th>\n",
       "      <th>aspect_ratio</th>\n",
       "      <th>movie_facebook_likes</th>\n",
       "    </tr>\n",
       "  </thead>\n",
       "  <tbody>\n",
       "    <tr>\n",
       "      <th>count</th>\n",
       "      <td>4993.000000</td>\n",
       "      <td>5028.000000</td>\n",
       "      <td>4939.000000</td>\n",
       "      <td>5020.000000</td>\n",
       "      <td>5036.000000</td>\n",
       "      <td>4.159000e+03</td>\n",
       "      <td>5.043000e+03</td>\n",
       "      <td>5043.000000</td>\n",
       "      <td>5030.000000</td>\n",
       "      <td>5022.000000</td>\n",
       "      <td>4.551000e+03</td>\n",
       "      <td>4935.000000</td>\n",
       "      <td>5030.000000</td>\n",
       "      <td>5043.000000</td>\n",
       "      <td>4714.000000</td>\n",
       "      <td>5043.000000</td>\n",
       "    </tr>\n",
       "    <tr>\n",
       "      <th>mean</th>\n",
       "      <td>140.194272</td>\n",
       "      <td>107.201074</td>\n",
       "      <td>686.509212</td>\n",
       "      <td>645.009761</td>\n",
       "      <td>6560.047061</td>\n",
       "      <td>4.846841e+07</td>\n",
       "      <td>8.366816e+04</td>\n",
       "      <td>9699.063851</td>\n",
       "      <td>1.371173</td>\n",
       "      <td>272.770808</td>\n",
       "      <td>3.975262e+07</td>\n",
       "      <td>2002.470517</td>\n",
       "      <td>1651.754473</td>\n",
       "      <td>6.442138</td>\n",
       "      <td>2.220403</td>\n",
       "      <td>7525.964505</td>\n",
       "    </tr>\n",
       "    <tr>\n",
       "      <th>std</th>\n",
       "      <td>121.601675</td>\n",
       "      <td>25.197441</td>\n",
       "      <td>2813.328607</td>\n",
       "      <td>1665.041728</td>\n",
       "      <td>15020.759120</td>\n",
       "      <td>6.845299e+07</td>\n",
       "      <td>1.384853e+05</td>\n",
       "      <td>18163.799124</td>\n",
       "      <td>2.013576</td>\n",
       "      <td>377.982886</td>\n",
       "      <td>2.061149e+08</td>\n",
       "      <td>12.474599</td>\n",
       "      <td>4042.438863</td>\n",
       "      <td>1.125116</td>\n",
       "      <td>1.385113</td>\n",
       "      <td>19320.445110</td>\n",
       "    </tr>\n",
       "    <tr>\n",
       "      <th>min</th>\n",
       "      <td>1.000000</td>\n",
       "      <td>7.000000</td>\n",
       "      <td>0.000000</td>\n",
       "      <td>0.000000</td>\n",
       "      <td>0.000000</td>\n",
       "      <td>1.620000e+02</td>\n",
       "      <td>5.000000e+00</td>\n",
       "      <td>0.000000</td>\n",
       "      <td>0.000000</td>\n",
       "      <td>1.000000</td>\n",
       "      <td>2.180000e+02</td>\n",
       "      <td>1916.000000</td>\n",
       "      <td>0.000000</td>\n",
       "      <td>1.600000</td>\n",
       "      <td>1.180000</td>\n",
       "      <td>0.000000</td>\n",
       "    </tr>\n",
       "    <tr>\n",
       "      <th>25%</th>\n",
       "      <td>50.000000</td>\n",
       "      <td>93.000000</td>\n",
       "      <td>7.000000</td>\n",
       "      <td>133.000000</td>\n",
       "      <td>614.000000</td>\n",
       "      <td>5.340988e+06</td>\n",
       "      <td>8.593500e+03</td>\n",
       "      <td>1411.000000</td>\n",
       "      <td>0.000000</td>\n",
       "      <td>65.000000</td>\n",
       "      <td>6.000000e+06</td>\n",
       "      <td>1999.000000</td>\n",
       "      <td>281.000000</td>\n",
       "      <td>5.800000</td>\n",
       "      <td>1.850000</td>\n",
       "      <td>0.000000</td>\n",
       "    </tr>\n",
       "    <tr>\n",
       "      <th>50%</th>\n",
       "      <td>110.000000</td>\n",
       "      <td>103.000000</td>\n",
       "      <td>49.000000</td>\n",
       "      <td>371.500000</td>\n",
       "      <td>988.000000</td>\n",
       "      <td>2.551750e+07</td>\n",
       "      <td>3.435900e+04</td>\n",
       "      <td>3090.000000</td>\n",
       "      <td>1.000000</td>\n",
       "      <td>156.000000</td>\n",
       "      <td>2.000000e+07</td>\n",
       "      <td>2005.000000</td>\n",
       "      <td>595.000000</td>\n",
       "      <td>6.600000</td>\n",
       "      <td>2.350000</td>\n",
       "      <td>166.000000</td>\n",
       "    </tr>\n",
       "    <tr>\n",
       "      <th>75%</th>\n",
       "      <td>195.000000</td>\n",
       "      <td>118.000000</td>\n",
       "      <td>194.500000</td>\n",
       "      <td>636.000000</td>\n",
       "      <td>11000.000000</td>\n",
       "      <td>6.230944e+07</td>\n",
       "      <td>9.630900e+04</td>\n",
       "      <td>13756.500000</td>\n",
       "      <td>2.000000</td>\n",
       "      <td>326.000000</td>\n",
       "      <td>4.500000e+07</td>\n",
       "      <td>2011.000000</td>\n",
       "      <td>918.000000</td>\n",
       "      <td>7.200000</td>\n",
       "      <td>2.350000</td>\n",
       "      <td>3000.000000</td>\n",
       "    </tr>\n",
       "    <tr>\n",
       "      <th>max</th>\n",
       "      <td>813.000000</td>\n",
       "      <td>511.000000</td>\n",
       "      <td>23000.000000</td>\n",
       "      <td>23000.000000</td>\n",
       "      <td>640000.000000</td>\n",
       "      <td>7.605058e+08</td>\n",
       "      <td>1.689764e+06</td>\n",
       "      <td>656730.000000</td>\n",
       "      <td>43.000000</td>\n",
       "      <td>5060.000000</td>\n",
       "      <td>1.221550e+10</td>\n",
       "      <td>2016.000000</td>\n",
       "      <td>137000.000000</td>\n",
       "      <td>9.500000</td>\n",
       "      <td>16.000000</td>\n",
       "      <td>349000.000000</td>\n",
       "    </tr>\n",
       "  </tbody>\n",
       "</table>\n",
       "</div>"
      ]
     },
     "execution_count": 4,
     "metadata": {},
     "output_type": "execute_result"
    }
   ],
   "source": [
    "full_data.describe()"
   ]
  },
  {
   "cell_type": "code",
   "execution_count": 5,
   "metadata": {},
   "outputs": [
    {
     "name": "stdout",
     "output_type": "stream",
     "text": [
      "<class 'pandas.core.frame.DataFrame'>\nRangeIndex: 5043 entries, 0 to 5042\nData columns (total 28 columns):\ncolor                        5024 non-null object\ndirector_name                4939 non-null object\nnum_critic_for_reviews       4993 non-null float64\nduration                     5028 non-null float64\ndirector_facebook_likes      4939 non-null float64\nactor_3_facebook_likes       5020 non-null float64\nactor_2_name                 5030 non-null object\nactor_1_facebook_likes       5036 non-null float64\ngross                        4159 non-null float64\ngenres                       5043 non-null object\nactor_1_name                 5036 non-null object\nmovie_title                  5043 non-null object\nnum_voted_users              5043 non-null int64\ncast_total_facebook_likes    5043 non-null int64\nactor_3_name                 5020 non-null object\nfacenumber_in_poster         5030 non-null float64\nplot_keywords                4890 non-null object\nmovie_imdb_link              5043 non-null object\nnum_user_for_reviews         5022 non-null float64\nlanguage                     5031 non-null object\ncountry                      5038 non-null object\ncontent_rating               4740 non-null object\nbudget                       4551 non-null float64\ntitle_year                   4935 non-null float64\nactor_2_facebook_likes       5030 non-null float64\nimdb_score                   5043 non-null float64\naspect_ratio                 4714 non-null float64\nmovie_facebook_likes         5043 non-null int64\ndtypes: float64(13), int64(3), object(12)\nmemory usage: 1.1+ MB\n"
     ]
    }
   ],
   "source": [
    "full_data.info()"
   ]
  },
  {
   "cell_type": "code",
   "execution_count": 7,
   "metadata": {},
   "outputs": [
    {
     "data": {
      "text/plain": [
       "[<matplotlib.lines.Line2D at 0xbd2a6a0>]"
      ]
     },
     "execution_count": 7,
     "metadata": {},
     "output_type": "execute_result"
    },
    {
     "data": {
      "image/png": "[encoded data removed]",
      "text/plain": [
       "<matplotlib.figure.Figure at 0xb822550>"
      ]
     },
     "metadata": {},
     "output_type": "display_data"
    }
   ],
   "source": [
    "plt.plot(full_data['budget'])"
   ]
  },
  {
   "cell_type": "code",
   "execution_count": 8,
   "metadata": {},
   "outputs": [],
   "source": [
    "numerical_var=[x for x in full_data.columns if \n",
    "               full_data.dtypes[x] != 'object']"
   ]
  },
  {
   "cell_type": "code",
   "execution_count": 9,
   "metadata": {},
   "outputs": [
    {
     "data": {
      "text/plain": [
       "['color',\n 'director_name',\n 'actor_2_name',\n 'genres',\n 'actor_1_name',\n 'movie_title',\n 'actor_3_name',\n 'plot_keywords',\n 'movie_imdb_link',\n 'language',\n 'country',\n 'content_rating']"
      ]
     },
     "execution_count": 9,
     "metadata": {},
     "output_type": "execute_result"
    }
   ],
   "source": [
    "catagorical_var=[x for x in full_data.columns if x not in numerical_var]\n",
    "catagorical_var"
   ]
  },
  {
   "cell_type": "code",
   "execution_count": 10,
   "metadata": {},
   "outputs": [
    {
     "name": "stdout",
     "output_type": "stream",
     "text": [
      "12\n16\n28\n"
     ]
    }
   ],
   "source": [
    "print len(catagorical_var)\n",
    "print len(numerical_var)\n",
    "print len(full_data.columns)"
   ]
  },
  {
   "cell_type": "code",
   "execution_count": 11,
   "metadata": {},
   "outputs": [
    {
     "data": {
      "image/png": "[encoded data removed]",
      "text/plain": [
       "<matplotlib.figure.Figure at 0xbdd8b70>"
      ]
     },
     "metadata": {},
     "output_type": "display_data"
    }
   ],
   "source": [
    "sns.distplot(full_data['imdb_score']**3)\n",
    "plt.show()"
   ]
  },
  {
   "cell_type": "code",
   "execution_count": 12,
   "metadata": {},
   "outputs": [
    {
     "name": "stdout",
     "output_type": "stream",
     "text": [
      "-0.1280377795\n"
     ]
    }
   ],
   "source": [
    "print (full_data['imdb_score']**2).skew()"
   ]
  },
  {
   "cell_type": "code",
   "execution_count": 13,
   "metadata": {},
   "outputs": [
    {
     "name": "stdout",
     "output_type": "stream",
     "text": [
      "num_critic_for_reviews          2.913416\nduration                       22.565797\ndirector_facebook_likes        27.256289\nactor_3_facebook_likes         60.563888\nactor_1_facebook_likes        683.547356\ngross                          14.868869\nnum_voted_users                24.445520\ncast_total_facebook_likes     361.255115\nfacenumber_in_poster           52.033735\nnum_user_for_reviews           26.438297\nbudget                       2724.257433\ntitle_year                      7.439213\nactor_2_facebook_likes        256.795189\nimdb_score                      0.935692\naspect_ratio                   90.653221\nmovie_facebook_likes           41.334437\ndtype: float64\n--------------------\nnum_critic_for_reviews        1.516533\nduration                      2.339134\ndirector_facebook_likes       5.229701\nactor_3_facebook_likes        7.279021\nactor_1_facebook_likes       19.121776\ngross                         3.127204\nnum_voted_users               4.029871\ncast_total_facebook_likes    12.831928\nfacenumber_in_poster          4.384766\nnum_user_for_reviews          4.121475\nbudget                       48.157435\ntitle_year                   -2.292273\nactor_2_facebook_likes        9.884733\nimdb_score                   -0.741471\naspect_ratio                  9.390056\nmovie_facebook_likes          5.058927\ndtype: float64\n"
     ]
    }
   ],
   "source": [
    "print full_data.kurt()\n",
    "print '--------------------'\n",
    "print full_data.skew()"
   ]
  },
  {
   "cell_type": "code",
   "execution_count": 14,
   "metadata": {},
   "outputs": [
    {
     "name": "stdout",
     "output_type": "stream",
     "text": [
      "num_critic_for_reviews        50\nduration                      15\ndirector_facebook_likes      104\nactor_3_facebook_likes        23\nactor_1_facebook_likes         7\ngross                        884\nnum_voted_users                0\ncast_total_facebook_likes      0\nfacenumber_in_poster          13\nnum_user_for_reviews          21\nbudget                       492\ntitle_year                   108\nactor_2_facebook_likes        13\nimdb_score                     0\naspect_ratio                 329\nmovie_facebook_likes           0\ndtype: int64\n--------------------------\ncolor               19\ndirector_name      104\nactor_2_name        13\ngenres               0\nactor_1_name         7\nmovie_title          0\nactor_3_name        23\nplot_keywords      153\nmovie_imdb_link      0\nlanguage            12\ncountry              5\ncontent_rating     303\ndtype: int64\n"
     ]
    }
   ],
   "source": [
    "print pd.isnull(full_data[numerical_var]).sum()\n",
    "print '--------------------------'\n",
    "print pd.isnull(full_data[catagorical_var]).sum()"
   ]
  },
  {
   "cell_type": "code",
   "execution_count": 15,
   "metadata": {},
   "outputs": [],
   "source": [
    "full_data['gross']=full_data['gross'].fillna(0)\n",
    "full_data['budget']=full_data['budget'].fillna(0)\n",
    "full_data['title_year']=full_data['title_year'].fillna(0)\n",
    "full_data['aspect_ratio']=full_data['aspect_ratio']\\\n",
    "    .fillna(full_data['aspect_ratio'].mean())\n",
    "full_data['content_rating']=full_data['content_rating'].fillna('R')\n",
    "full_data['color']=full_data['color'].fillna('Color')\n",
    "full_data[numerical_var]=full_data[numerical_var]\\\n",
    "    .fillna(full_data[numerical_var].mean())"
   ]
  },
  {
   "cell_type": "code",
   "execution_count": 16,
   "metadata": {},
   "outputs": [
    {
     "data": {
      "text/plain": [
       "(4773, 28)"
      ]
     },
     "execution_count": 16,
     "metadata": {},
     "output_type": "execute_result"
    }
   ],
   "source": [
    "full_data=full_data.dropna()\n",
    "full_data.shape"
   ]
  },
  {
   "cell_type": "code",
   "execution_count": 17,
   "metadata": {},
   "outputs": [],
   "source": [
    "full_data['actor_1_movie_fb_likes']=(full_data['actor_1_facebook_likes']\\\n",
    "        *full_data['movie_facebook_likes']).astype(np.float64)\n",
    "full_data['actor_2_movie_fb_likes']=(full_data['actor_2_facebook_likes']\\\n",
    "        *full_data['movie_facebook_likes']).astype(np.float64)\n",
    "full_data['actor_3_movie_fb_likes']=(full_data['actor_3_facebook_likes']\\\n",
    "        *full_data['movie_facebook_likes']).astype(np.float64)\n",
    "full_data['director_name_fb_likes']=(full_data['director_facebook_likes']\\\n",
    "        *full_data['movie_facebook_likes']).astype(np.float64)"
   ]
  },
  {
   "cell_type": "code",
   "execution_count": 18,
   "metadata": {},
   "outputs": [],
   "source": [
    "full_data['actor_1_name_imdb_score']=(full_data[['actor_1_name','imdb_score']].groupby('actor_1_name').mean()).astype(np.float64)\n",
    "full_data['actor_2_name_imdb_score']=(full_data[['actor_2_name','imdb_score']].groupby('actor_2_name').mean()).astype(np.float64)\n",
    "full_data['actor_3_name_imdb_score']=(full_data[['actor_3_name','imdb_score']].groupby('actor_3_name').mean()).astype(np.float64)\n",
    "full_data['director_name_imdb_score']=(full_data[['director_name','imdb_score']].groupby('director_name').mean()).astype(np.float64)"
   ]
  },
  {
   "cell_type": "code",
   "execution_count": 19,
   "metadata": {},
   "outputs": [],
   "source": [
    "updating_coloumns=['actor_1_name_imdb_score','actor_2_name_imdb_score',\n",
    "                   'actor_3_name_imdb_score','director_name_imdb_score']\n",
    "refered_coloumns=['actor_1_name','actor_2_name','actor_3_name','director_name']\n",
    "k=0\n",
    "for j in updating_coloumns:\n",
    "    temp=refered_coloumns[k]\n",
    "    a=(full_data[[refered_coloumns[k],'imdb_score']].groupby(refered_coloumns[k]).mean()).astype(np.float64)\n",
    "    index_mapping={}\n",
    "    for i in list(a.index):\n",
    "        index_mapping[i]= a.loc[i,'imdb_score']\n",
    "    full_data[j]=full_data[refered_coloumns[k]].map(index_mapping)\n",
    "    k=k+1"
   ]
  },
  {
   "cell_type": "code",
   "execution_count": 20,
   "metadata": {},
   "outputs": [
    {
     "name": "stdout",
     "output_type": "stream",
     "text": [
      "(4773, 36)\n"
     ]
    }
   ],
   "source": [
    "print full_data.shape"
   ]
  },
  {
   "cell_type": "code",
   "execution_count": 21,
   "metadata": {},
   "outputs": [
    {
     "name": "stdout",
     "output_type": "stream",
     "text": [
      "(4773, 29)\n"
     ]
    }
   ],
   "source": [
    "dropping_var=['director_name','actor_2_name','actor_1_name'\n",
    "    ,'movie_title','actor_3_name','plot_keywords','movie_imdb_link' ]\n",
    "full_data=full_data.drop(dropping_var,axis=1)\n",
    "print full_data.shape"
   ]
  },
  {
   "cell_type": "code",
   "execution_count": 22,
   "metadata": {},
   "outputs": [],
   "source": [
    "numerical_var=[x for x in full_data.columns if \n",
    "               full_data.dtypes[x] != 'object']\n",
    "catagorical_var=[x for x in full_data.columns if x not in numerical_var]"
   ]
  },
  {
   "cell_type": "code",
   "execution_count": 23,
   "metadata": {
    "collapsed": false
   },
   "outputs": [
    {
     "name": "stdout",
     "output_type": "stream",
     "text": [
      "['color', 'genres', 'language', 'country', 'content_rating']\n-----------------\n['num_critic_for_reviews', 'duration', 'director_facebook_likes', 'actor_3_facebook_likes', 'actor_1_facebook_likes', 'gross', 'num_voted_users', 'cast_total_facebook_likes', 'facenumber_in_poster', 'num_user_for_reviews', 'budget', 'title_year', 'actor_2_facebook_likes', 'imdb_score', 'aspect_ratio', 'movie_facebook_likes', 'actor_1_movie_fb_likes', 'actor_2_movie_fb_likes', 'actor_3_movie_fb_likes', 'director_name_fb_likes', 'actor_1_name_imdb_score', 'actor_2_name_imdb_score', 'actor_3_name_imdb_score', 'director_name_imdb_score']\n"
     ]
    }
   ],
   "source": [
    "print catagorical_var\n",
    "print '-----------------'\n",
    "print numerical_var"
   ]
  },
  {
   "cell_type": "code",
   "execution_count": null,
   "metadata": {},
   "outputs": [],
   "source": [
    "full_data=pd.get_dummies(full_data)"
   ]
  },
  {
   "cell_type": "code",
   "execution_count": 25,
   "metadata": {},
   "outputs": [
    {
     "name": "stdout",
     "output_type": "stream",
     "text": [
      "Series([], dtype: float64)\n"
     ]
    }
   ],
   "source": [
    "skewed=full_data[numerical_var].apply(lambda x:stats.skew(x.dropna()))\n",
    "skewed=skewed[skewed>0.75]\n",
    "skewed1=skewed[skewed<-0.75]\n",
    "print skewed1\n",
    "skewed=skewed.index\n",
    "skewed1=skewed1.index\n",
    "full_data[skewed1]=full_data[skewed1]**3\n",
    "full_data[skewed]=np.log1p(full_data[skewed])"
   ]
  },
  {
   "cell_type": "code",
   "execution_count": 26,
   "metadata": {},
   "outputs": [
    {
     "data": {
      "text/plain": [
       "(4773, 1019)"
      ]
     },
     "execution_count": 26,
     "metadata": {},
     "output_type": "execute_result"
    }
   ],
   "source": [
    "full_data.shape"
   ]
  },
  {
   "cell_type": "code",
   "execution_count": 27,
   "metadata": {},
   "outputs": [],
   "source": [
    "x=full_data\n",
    "y=full_data['imdb_score']\n",
    "x=x.drop(['imdb_score'],axis=1)"
   ]
  },
  {
   "cell_type": "code",
   "execution_count": 28,
   "metadata": {},
   "outputs": [],
   "source": [
    "x_train,x_test,y_train,y_test=\\\n",
    "    train_test_split(x,y,test_size=0.3,random_state=0)"
   ]
  },
  {
   "cell_type": "code",
   "execution_count": 29,
   "metadata": {},
   "outputs": [
    {
     "name": "stdout",
     "output_type": "stream",
     "text": [
      "(3341, 1018) (3341L,)\n---------------\n(1432, 1018) (1432L,)\n"
     ]
    }
   ],
   "source": [
    "print x_train.shape,y_train.shape\n",
    "print '---------------'\n",
    "print x_test.shape,y_test.shape"
   ]
  },
  {
   "cell_type": "code",
   "execution_count": 39,
   "metadata": {},
   "outputs": [
    {
     "data": {
      "text/plain": [
       "RandomForestRegressor(bootstrap=True, criterion='mse', max_depth=None,\n           max_features='auto', max_leaf_nodes=None,\n           min_impurity_decrease=0.0, min_impurity_split=None,\n           min_samples_leaf=1, min_samples_split=2,\n           min_weight_fraction_leaf=0.0, n_estimators=500, n_jobs=1,\n           oob_score=False, random_state=None, verbose=0, warm_start=False)"
      ]
     },
     "execution_count": 38,
     "metadata": {},
     "output_type": "execute_result"
    }
   ],
   "source": [
    "clf=RandomForestRegressor(n_estimators=500)\n",
    "clf.fit(x_train,y_train)"
   ]
  },
  {
   "cell_type": "code",
   "execution_count": 41,
   "metadata": {},
   "outputs": [
    {
     "data": {
      "text/plain": [
       "Index([u'genres_Adventure|Animation|Comedy|Family|Sci-Fi',\n       u'genres_Adventure|Horror|Sci-Fi', u'genres_Drama|Sci-Fi|Thriller',\n       u'genres_Adventure|Comedy|Family|Fantasy|Horror',\n       u'genres_Adventure|Comedy|Family|Musical',\n       u'genres_Action|Adventure|Fantasy|Thriller',\n       u'genres_Adventure|Family|Sport',\n       u'genres_Adventure|Fantasy|Mystery|Thriller', u'genres_Drama|Fantasy',\n       u'genres_Action|Drama|Sci-Fi|Sport',\n       ...\n       u'genres_Action|Adventure|Fantasy|Horror|Thriller',\n       u'genres_Animation|Comedy|Family|Musical',\n       u'genres_Action|Comedy|Mystery|Romance',\n       u'genres_Action|Drama|Fantasy|Mystery|Sci-Fi|Thriller',\n       u'genres_Mystery|Romance|Sci-Fi|Thriller',\n       u'genres_Adventure|Mystery|Thriller',\n       u'genres_Drama|Family|Fantasy|Romance', u'language_Mongolian',\n       u'genres_Crime|Drama|Romance|Thriller',\n       u'genres_Adventure|Animation|Comedy|Drama|Family|Fantasy'],\n      dtype='object', length=745)"
      ]
     },
     "execution_count": 40,
     "metadata": {},
     "output_type": "execute_result"
    }
   ],
   "source": [
    "feature_imp_mapping={}\n",
    "for features,importance in zip(full_data.columns, clf.feature_importances_):\n",
    "    if importance!=0:\n",
    "        feature_imp_mapping[features]=importance\n",
    "    \n",
    "\n",
    "importances = pd.DataFrame.from_dict(feature_imp_mapping, orient='index').rename(columns={0: 'Gini-importance'})\n",
    "importances.sort_values(by='Gini-importance')\n",
    "importances.index"
   ]
  },
  {
   "cell_type": "code",
   "execution_count": 44,
   "metadata": {},
   "outputs": [],
   "source": [
    "plt.figure(figsize=(10,200))\n",
    "plt.figure(1)\n",
    "plt.title('Feature Importances')\n",
    "plt.barh(range(len(importances.index)), importances['Gini-importance'], color='b', align='center')\n",
    "plt.yticks(range(len(importances.index)), importances.index)\n",
    "plt.xlabel('Relative Importance')\n",
    "plt.savefig('D:\\\\myfig.png',bbox_inches='tight')\n",
    "plt.show()"
   ]
  },
  {
   "cell_type": "code",
   "execution_count": null,
   "metadata": {},
   "outputs": [],
   "source": [
    "'actor_2_name_imdb_score',   \n",
    "'actor_3_movie_fb_likes',\n",
    "'director_name_fb_likes',\n",
    "'gross',\n",
    "'duration',\n",
    "'budget',\n",
    "'actor_1_name_imdb_score',\n",
    "'title_yesr',\n",
    "'num_user_for_reviews',\n",
    "'actor_3_name_imdb_score',\n",
    "'actor_2_facebook_likes',\n",
    "'director_facebook_likes',\n",
    "'num_critic_for_reviews',\n",
    "'num_voted_users',"
   ]
  }
 ],
 "metadata": {
  "kernelspec": {
   "display_name": "Python 2",
   "language": "python",
   "name": "python2"
  },
  "language_info": {
   "codemirror_mode": {
    "name": "ipython",
    "version": 2.0
   },
   "file_extension": ".py",
   "mimetype": "text/x-python",
   "name": "python",
   "nbconvert_exporter": "python",
   "pygments_lexer": "ipython2",
   "version": "2.7.6"
  }
 },
 "nbformat": 4,
 "nbformat_minor": 0
}