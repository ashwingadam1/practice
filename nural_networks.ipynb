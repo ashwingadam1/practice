{
 "cells": [
  {
   "cell_type": "code",
   "execution_count": 11,
   "metadata": {
    "collapsed": true
   },
   "outputs": [],
   "source": [
    "import numpy as np\n",
    "import pandas as pd\n",
    "import matplotlib.pyplot as plt\n",
    "\n",
    "%matplotlib inline"
   ]
  },
  {
   "cell_type": "code",
   "execution_count": 12,
   "metadata": {},
   "outputs": [],
   "source": [
    "def nonleniar(x,derive=False):\n",
    "    if(derive==True):\n",
    "        return x*(x-1)\n",
    "    return 1/(1+np.exp(-x))"
   ]
  },
  {
   "cell_type": "code",
   "execution_count": 13,
   "metadata": {},
   "outputs": [],
   "source": [
    "x=np.array([[0,0,1],\n",
    "           [1,0,1],\n",
    "           [0,1,1],\n",
    "           [1,1,1]])\n",
    "y=np.array([[0],[1],[1],[0]])"
   ]
  },
  {
   "cell_type": "code",
   "execution_count": 14,
   "metadata": {},
   "outputs": [],
   "source": [
    "np.random.seed(100)"
   ]
  },
  {
   "cell_type": "code",
   "execution_count": 15,
   "metadata": {},
   "outputs": [],
   "source": [
    "syn0=np.random.random((3,4))-1\n",
    "syn1=np.random.random((4,1))-1"
   ]
  },
  {
   "cell_type": "code",
   "execution_count": 18,
   "metadata": {},
   "outputs": [
    {
     "ename": "ValueError",
     "evalue": "operands could not be broadcast together with shapes (3,4) (4,1) (3,4) ",
     "traceback": [
      "\u001b[0;31m\u001b[0m",
      "\u001b[0;31mValueError\u001b[0mTraceback (most recent call last)",
      "\u001b[0;32m<ipython-input-18-1fdcd29a9373>\u001b[0m in \u001b[0;36m<module>\u001b[0;34m()\u001b[0m\n\u001b[1;32m     15\u001b[0m     \u001b[0ml1_delta\u001b[0m\u001b[0;34m=\u001b[0m\u001b[0ml1_error\u001b[0m\u001b[0;34m*\u001b[0m\u001b[0mnonleniar\u001b[0m\u001b[0;34m(\u001b[0m\u001b[0ml1\u001b[0m\u001b[0;34m,\u001b[0m\u001b[0mderive\u001b[0m\u001b[0;34m=\u001b[0m\u001b[0mTrue\u001b[0m\u001b[0;34m)\u001b[0m\u001b[0;34m\u001b[0m\u001b[0m\n\u001b[1;32m     16\u001b[0m \u001b[0;34m\u001b[0m\u001b[0m\n\u001b[0;32m---> 17\u001b[0;31m     \u001b[0msyn0\u001b[0m\u001b[0;34m+=\u001b[0m\u001b[0;34m(\u001b[0m\u001b[0ml1\u001b[0m\u001b[0;34m.\u001b[0m\u001b[0mT\u001b[0m\u001b[0;34m)\u001b[0m\u001b[0;34m.\u001b[0m\u001b[0mdot\u001b[0m\u001b[0;34m(\u001b[0m\u001b[0ml2_delta\u001b[0m\u001b[0;34m)\u001b[0m\u001b[0;34m\u001b[0m\u001b[0m\n\u001b[0m\u001b[1;32m     18\u001b[0m     \u001b[0msyn1\u001b[0m\u001b[0;34m+=\u001b[0m\u001b[0;34m(\u001b[0m\u001b[0ml0\u001b[0m\u001b[0;34m.\u001b[0m\u001b[0mT\u001b[0m\u001b[0;34m)\u001b[0m\u001b[0;34m.\u001b[0m\u001b[0mdot\u001b[0m\u001b[0;34m(\u001b[0m\u001b[0ml1_delta\u001b[0m\u001b[0;34m)\u001b[0m\u001b[0;34m\u001b[0m\u001b[0m\n\u001b[1;32m     19\u001b[0m \u001b[0;34m\u001b[0m\u001b[0m\n",
      "\u001b[0;31mValueError\u001b[0m: operands could not be broadcast together with shapes (3,4) (4,1) (3,4) "
     ],
     "output_type": "error"
    }
   ],
   "source": [
    "for j in xrange(60000):\n",
    "    l0=x\n",
    "    l1=nonleniar(np.dot(l0,syn0))\n",
    "    l2=nonleniar(np.dot(l1,syn1))\n",
    "    \n",
    "    l2_error=y-l2\n",
    "    \n",
    "    if(j%10000):\n",
    "        print(\"Error: \" + str(np.mean(np.abs(l2_error))))\n",
    "    \n",
    "    l2_delta=l2_error*nonleniar(l2,derive=True)\n",
    "    \n",
    "    l1_error=l2_delta.dot(syn1.T)\n",
    "    \n",
    "    l1_delta=l1_error*nonleniar(l1,derive=True)\n",
    "    \n",
    "    syn0+=(l1.T).dot(l2_delta)\n",
    "    syn1+=(l0.T).dot(l1_delta)\n",
    "    \n",
    "print(\"Output after training\")\n",
    "print(l2)"
   ]
  },
  {
   "cell_type": "code",
   "execution_count": 10,
   "metadata": {},
   "outputs": [
    {
     "data": {
      "text/plain": [
       "array([[-0.86329341, -0.42490667, -0.10867805, -0.79079788],\n       [-1.31988847, -1.14653729, -0.68416045, -0.94602175],\n       [-1.85857455, -1.30333755, -0.43792896, -0.96494512],\n       [-2.31516961, -2.02496816, -1.01341137, -1.12016899]])"
      ]
     },
     "execution_count": 10,
     "metadata": {},
     "output_type": "execute_result"
    }
   ],
   "source": [
    "\n"
   ]
  }
 ],
 "metadata": {
  "kernelspec": {
   "display_name": "Python 2",
   "language": "python",
   "name": "python2"
  },
  "language_info": {
   "codemirror_mode": {
    "name": "ipython",
    "version": 2.0
   },
   "file_extension": ".py",
   "mimetype": "text/x-python",
   "name": "python",
   "nbconvert_exporter": "python",
   "pygments_lexer": "ipython2",
   "version": "2.7.6"
  }
 },
 "nbformat": 4,
 "nbformat_minor": 0
}