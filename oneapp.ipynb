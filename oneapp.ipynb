{
 "cells": [
  {
   "cell_type": "code",
   "execution_count": 1,
   "metadata": {
    "collapsed": true
   },
   "outputs": [],
   "source": [
    "import pandas as pd"
   ]
  },
  {
   "cell_type": "code",
   "execution_count": 2,
   "metadata": {},
   "outputs": [],
   "source": [
    "csv=pd.read_csv('D:/TechGig-DataSet/TechGig DataSet/train.csv')"
   ]
  },
  {
   "cell_type": "code",
   "execution_count": 8,
   "metadata": {
    "collapsed": false
   },
   "outputs": [
    {
     "data": {
      "text/plain": [
       "(9850, 3)"
      ]
     },
     "execution_count": 8,
     "metadata": {},
     "output_type": "execute_result"
    }
   ],
   "source": [
    "csv.shape"
   ]
  },
  {
   "cell_type": "code",
   "execution_count": 11,
   "metadata": {
    "collapsed": false
   },
   "outputs": [
    {
     "data": {
      "text/plain": [
       "ddlsql43                                    3817\nesc-ev-11                                    442\nnycpub                                       115\nddlsql37                                     109\nddl-mocsrds-01                               105\nddl-sql-01dr                                 102\nfrapub2                                      101\nesc-adfsp-01                                  99\nesc-ev-10                                     86\nddl-rsi-01                                    74\nhkgpub                                        69\nfra-sql-03                                    55\nddl-spr1fast-02                               46\nddl-spr1fast-03                               44\nddlsql55                                      43\nddl-spppfast-02                               40\nddl-spr1fast-01                               36\nddl-spppfast-03                               35\nddl-sccmdb-01                                 33\nddl-faygv-01                                  33\nlubs-sccm12-01                                32\nhkg-ev-14                                     32\nmad-dc-02                                     31\nddl-cvbkpms-04                                29\nesc-mb-06                                     27\nddl-mb-08                                     27\nhkg-sim-02                                    27\nddl-app-25                                    27\nddlsql144                                     25\nddlsql72vm                                    25\n                                            ... \nsyd-ima-test2                                  1\nddl-web-06                                     1\nddl-com-169                                    1\nldv-app-02                                     1\nhkg-ev-15                                      1\nldv-lvsi-01                                    1\nddlsql12                                       1\nddl-clm-2                                      1\ndel-s1-f3-asw5                                 1\npsel1661                                       1\nesc-spr1srch-2                                 1\namericas_was_vtl_adic_scalar_i2k_lt4_l01       1\nddl-sql-cca2                                   1\npsel1623                                       1\ntime-u                                         1\nnyc-szc-01                                     1\ndel-s1-f3-dmz1                                 1\nddlsql19                                       1\nddl-fwterm-02                                  1\nesc-sql-99                                     1\nldv-spdcsql-03                                 1\nldv-spdcsql-02                                 1\n10.48.103.111                                  1\nddl-radius-02                                  1\nnyc-esx-vc1                                    1\nddl-vrec-01                                    1\nind-cmccx-01                                   1\nhkg-exr-01                                     1\nmuc-wifisw-06                                  1\n10.96.1.202                                    1\nName: StringToExtract, Length: 1311, dtype: int64"
      ]
     },
     "execution_count": 11,
     "metadata": {},
     "output_type": "execute_result"
    }
   ],
   "source": [
    "csv['StringToExtract'].value_counts()"
   ]
  },
  {
   "cell_type": "code",
   "execution_count": 14,
   "metadata": {},
   "outputs": [],
   "source": [
    "p=csv[(csv['StringToExtract']=='del-s1-f3-dmz1')]['description']"
   ]
  },
  {
   "cell_type": "code",
   "execution_count": 16,
   "metadata": {},
   "outputs": [
    {
     "name": "stdout",
     "output_type": "stream",
     "text": [
      "3286    node has gone down the node del-s1-f3-dmz1.inf...\nName: description, dtype: object\n"
     ]
    }
   ],
   "source": [
    "print p"
   ]
  }
 ],
 "metadata": {
  "kernelspec": {
   "display_name": "Python 2",
   "language": "python",
   "name": "python2"
  },
  "language_info": {
   "codemirror_mode": {
    "name": "ipython",
    "version": 2.0
   },
   "file_extension": ".py",
   "mimetype": "text/x-python",
   "name": "python",
   "nbconvert_exporter": "python",
   "pygments_lexer": "ipython2",
   "version": "2.7.6"
  }
 },
 "nbformat": 4,
 "nbformat_minor": 0
}