{
 "cells": [
  {
   "cell_type": "code",
   "execution_count": 24,
   "metadata": {
    "collapsed": true
   },
   "outputs": [
    {
     "name": "stdout",
     "output_type": "stream",
     "text": [
      "Populating the interactive namespace from numpy and matplotlib\n"
     ]
    }
   ],
   "source": [
    "import pandas as pd\n",
    "import numpy as np\n",
    "import matplotlib.pyplot as plt\n",
    "import IPython.display as display\n",
    "\n",
    "%matplotlib inline\n",
    "%pylab inline"
   ]
  },
  {
   "cell_type": "code",
   "execution_count": 25,
   "metadata": {},
   "outputs": [],
   "source": [
    "data2015=pd.read_csv('/home/ashwin/Downloads/Synechron_DataSet/Consolidate_2015.csv')"
   ]
  },
  {
   "cell_type": "code",
   "execution_count": 26,
   "metadata": {},
   "outputs": [],
   "source": [
    "data2016=pd.read_csv('/home/ashwin/Downloads/Synechron_DataSet/Consolidate_2016.csv')"
   ]
  },
  {
   "cell_type": "code",
   "execution_count": 27,
   "metadata": {},
   "outputs": [],
   "source": [
    "data2017=pd.read_csv('/home/ashwin/Downloads/Synechron_DataSet/Consolidated_2017.csv')"
   ]
  },
  {
   "cell_type": "code",
   "execution_count": 28,
   "metadata": {},
   "outputs": [
    {
     "data": {
      "text/plain": [
       "['Outcome',\n 'Message',\n 'Identity',\n 'Delay',\n 'Headlines Securities CIK',\n 'Headlines Securities CUSIP',\n 'Headlines Securities Symbol',\n 'Headlines Securities ISIN',\n 'Headlines Securities Valoren',\n 'Headlines Securities Name',\n 'Headlines Securities Market',\n 'Headlines Securities MarketIdentificationCode',\n 'Headlines Securities MostLiquidExchange',\n 'Headlines Securities CategoryOrIndustry',\n 'Headlines Title',\n 'Headlines Date',\n 'Headlines Time',\n 'Headlines UTCOffset',\n 'Headlines Source',\n 'Headlines Url',\n 'Headlines Images',\n 'Headlines Tags TagType',\n 'Headlines Tags TagValues']"
      ]
     },
     "execution_count": 28,
     "metadata": {},
     "output_type": "execute_result"
    }
   ],
   "source": [
    "list(data2015)"
   ]
  },
  {
   "cell_type": "code",
   "execution_count": 55,
   "metadata": {},
   "outputs": [
    {
     "data": {
      "text/plain": [
       "[0]"
      ]
     },
     "execution_count": 55,
     "metadata": {},
     "output_type": "execute_result"
    }
   ],
   "source": [
    "list(set(data2015['Headlines UTCOffset']))"
   ]
  },
  {
   "cell_type": "code",
   "execution_count": 30,
   "metadata": {},
   "outputs": [
    {
     "data": {
      "text/html": [
       "<div>\n",
       "<style>\n",
       "    .dataframe thead tr:only-child th {\n",
       "        text-align: right;\n",
       "    }\n",
       "\n",
       "    .dataframe thead th {\n",
       "        text-align: left;\n",
       "    }\n",
       "\n",
       "    .dataframe tbody tr th {\n",
       "        vertical-align: top;\n",
       "    }\n",
       "</style>\n",
       "<table border=\"1\" class=\"dataframe\">\n",
       "  <thead>\n",
       "    <tr style=\"text-align: right;\">\n",
       "      <th></th>\n",
       "      <th>Message</th>\n",
       "      <th>Delay</th>\n",
       "      <th>Headlines Securities CIK</th>\n",
       "      <th>Headlines Securities CUSIP</th>\n",
       "      <th>Headlines Securities ISIN</th>\n",
       "      <th>Headlines Securities Valoren</th>\n",
       "      <th>Headlines UTCOffset</th>\n",
       "    </tr>\n",
       "  </thead>\n",
       "  <tbody>\n",
       "    <tr>\n",
       "      <th>count</th>\n",
       "      <td>0.0</td>\n",
       "      <td>180652.000000</td>\n",
       "      <td>1.705100e+05</td>\n",
       "      <td>0.0</td>\n",
       "      <td>0.0</td>\n",
       "      <td>1.739520e+05</td>\n",
       "      <td>180652.0</td>\n",
       "    </tr>\n",
       "    <tr>\n",
       "      <th>mean</th>\n",
       "      <td>NaN</td>\n",
       "      <td>0.220624</td>\n",
       "      <td>8.471557e+05</td>\n",
       "      <td>NaN</td>\n",
       "      <td>NaN</td>\n",
       "      <td>6.852097e+06</td>\n",
       "      <td>0.0</td>\n",
       "    </tr>\n",
       "    <tr>\n",
       "      <th>std</th>\n",
       "      <td>NaN</td>\n",
       "      <td>0.124714</td>\n",
       "      <td>5.124232e+05</td>\n",
       "      <td>NaN</td>\n",
       "      <td>NaN</td>\n",
       "      <td>9.704778e+06</td>\n",
       "      <td>0.0</td>\n",
       "    </tr>\n",
       "    <tr>\n",
       "      <th>min</th>\n",
       "      <td>NaN</td>\n",
       "      <td>0.134997</td>\n",
       "      <td>1.750000e+03</td>\n",
       "      <td>NaN</td>\n",
       "      <td>NaN</td>\n",
       "      <td>5.847000e+03</td>\n",
       "      <td>0.0</td>\n",
       "    </tr>\n",
       "    <tr>\n",
       "      <th>25%</th>\n",
       "      <td>NaN</td>\n",
       "      <td>0.171577</td>\n",
       "      <td>3.201930e+05</td>\n",
       "      <td>NaN</td>\n",
       "      <td>NaN</td>\n",
       "      <td>9.132530e+05</td>\n",
       "      <td>0.0</td>\n",
       "    </tr>\n",
       "    <tr>\n",
       "      <th>50%</th>\n",
       "      <td>NaN</td>\n",
       "      <td>0.193018</td>\n",
       "      <td>9.276280e+05</td>\n",
       "      <td>NaN</td>\n",
       "      <td>NaN</td>\n",
       "      <td>1.285896e+06</td>\n",
       "      <td>0.0</td>\n",
       "    </tr>\n",
       "    <tr>\n",
       "      <th>75%</th>\n",
       "      <td>NaN</td>\n",
       "      <td>0.234000</td>\n",
       "      <td>1.274494e+06</td>\n",
       "      <td>NaN</td>\n",
       "      <td>NaN</td>\n",
       "      <td>1.144802e+07</td>\n",
       "      <td>0.0</td>\n",
       "    </tr>\n",
       "    <tr>\n",
       "      <th>max</th>\n",
       "      <td>NaN</td>\n",
       "      <td>1.760187</td>\n",
       "      <td>1.703287e+06</td>\n",
       "      <td>NaN</td>\n",
       "      <td>NaN</td>\n",
       "      <td>3.759073e+07</td>\n",
       "      <td>0.0</td>\n",
       "    </tr>\n",
       "  </tbody>\n",
       "</table>\n",
       "</div>"
      ],
      "text/plain": [
       "<div>\n",
       "<style>\n",
       "    .dataframe thead tr:only-child th {\n",
       "        text-align: right;\n",
       "    }\n",
       "\n",
       "    .dataframe thead th {\n",
       "        text-align: left;\n",
       "    }\n",
       "\n",
       "    .dataframe tbody tr th {\n",
       "        vertical-align: top;\n",
       "    }\n",
       "</style>\n",
       "<table border=\"1\" class=\"dataframe\">\n",
       "  <thead>\n",
       "    <tr style=\"text-align: right;\">\n",
       "      <th></th>\n",
       "      <th>Message</th>\n",
       "      <th>Delay</th>\n",
       "      <th>Headlines Securities CIK</th>\n",
       "      <th>Headlines Securities CUSIP</th>\n",
       "      <th>Headlines Securities ISIN</th>\n",
       "      <th>Headlines Securities Valoren</th>\n",
       "      <th>Headlines UTCOffset</th>\n",
       "    </tr>\n",
       "  </thead>\n",
       "  <tbody>\n",
       "    <tr>\n",
       "      <th>count</th>\n",
       "      <td>0.0</td>\n",
       "      <td>180652.000000</td>\n",
       "      <td>1.705100e+05</td>\n",
       "      <td>0.0</td>\n",
       "      <td>0.0</td>\n",
       "      <td>1.739520e+05</td>\n",
       "      <td>180652.0</td>\n",
       "    </tr>\n",
       "    <tr>\n",
       "      <th>mean</th>\n",
       "      <td>NaN</td>\n",
       "      <td>0.220624</td>\n",
       "      <td>8.471557e+05</td>\n",
       "      <td>NaN</td>\n",
       "      <td>NaN</td>\n",
       "      <td>6.852097e+06</td>\n",
       "      <td>0.0</td>\n",
       "    </tr>\n",
       "    <tr>\n",
       "      <th>std</th>\n",
       "      <td>NaN</td>\n",
       "      <td>0.124714</td>\n",
       "      <td>5.124232e+05</td>\n",
       "      <td>NaN</td>\n",
       "      <td>NaN</td>\n",
       "      <td>9.704778e+06</td>\n",
       "      <td>0.0</td>\n",
       "    </tr>\n",
       "    <tr>\n",
       "      <th>min</th>\n",
       "      <td>NaN</td>\n",
       "      <td>0.134997</td>\n",
       "      <td>1.750000e+03</td>\n",
       "      <td>NaN</td>\n",
       "      <td>NaN</td>\n",
       "      <td>5.847000e+03</td>\n",
       "      <td>0.0</td>\n",
       "    </tr>\n",
       "    <tr>\n",
       "      <th>25%</th>\n",
       "      <td>NaN</td>\n",
       "      <td>0.171577</td>\n",
       "      <td>3.201930e+05</td>\n",
       "      <td>NaN</td>\n",
       "      <td>NaN</td>\n",
       "      <td>9.132530e+05</td>\n",
       "      <td>0.0</td>\n",
       "    </tr>\n",
       "    <tr>\n",
       "      <th>50%</th>\n",
       "      <td>NaN</td>\n",
       "      <td>0.193018</td>\n",
       "      <td>9.276280e+05</td>\n",
       "      <td>NaN</td>\n",
       "      <td>NaN</td>\n",
       "      <td>1.285896e+06</td>\n",
       "      <td>0.0</td>\n",
       "    </tr>\n",
       "    <tr>\n",
       "      <th>75%</th>\n",
       "      <td>NaN</td>\n",
       "      <td>0.234000</td>\n",
       "      <td>1.274494e+06</td>\n",
       "      <td>NaN</td>\n",
       "      <td>NaN</td>\n",
       "      <td>1.144802e+07</td>\n",
       "      <td>0.0</td>\n",
       "    </tr>\n",
       "    <tr>\n",
       "      <th>max</th>\n",
       "      <td>NaN</td>\n",
       "      <td>1.760187</td>\n",
       "      <td>1.703287e+06</td>\n",
       "      <td>NaN</td>\n",
       "      <td>NaN</td>\n",
       "      <td>3.759073e+07</td>\n",
       "      <td>0.0</td>\n",
       "    </tr>\n",
       "  </tbody>\n",
       "</table>\n",
       "</div>"
      ]
     },
     "execution_count": 30,
     "metadata": {},
     "output_type": "execute_result"
    }
   ],
   "source": [
    "data2015.describe()"
   ]
  },
  {
   "cell_type": "code",
   "execution_count": 31,
   "metadata": {},
   "outputs": [
    {
     "name": "stdout",
     "output_type": "stream",
     "text": [
      "<class 'pandas.core.frame.DataFrame'>\nRangeIndex: 180652 entries, 0 to 180651\nData columns (total 23 columns):\nOutcome                                          180652 non-null object\nMessage                                          0 non-null float64\nIdentity                                         180652 non-null object\nDelay                                            180652 non-null float64\nHeadlines Securities CIK                         170510 non-null float64\nHeadlines Securities CUSIP                       0 non-null float64\nHeadlines Securities Symbol                      173952 non-null object\nHeadlines Securities ISIN                        0 non-null float64\nHeadlines Securities Valoren                     173952 non-null float64\nHeadlines Securities Name                        173952 non-null object\nHeadlines Securities Market                      173952 non-null object\nHeadlines Securities MarketIdentificationCode    173952 non-null object\nHeadlines Securities MostLiquidExchange          175641 non-null object\nHeadlines Securities CategoryOrIndustry          173952 non-null object\nHeadlines Title                                  180642 non-null object\nHeadlines Date                                   180652 non-null object\nHeadlines Time                                   180652 non-null object\nHeadlines UTCOffset                              180652 non-null int64\nHeadlines Source                                 180652 non-null object\nHeadlines Url                                    180652 non-null object\nHeadlines Images                                 84154 non-null object\nHeadlines Tags TagType                           180483 non-null object\nHeadlines Tags TagValues                         178391 non-null object\ndtypes: float64(6), int64(1), object(16)\nmemory usage: 31.7+ MB\n"
     ]
    }
   ],
   "source": [
    "data2015.info()"
   ]
  },
  {
   "cell_type": "code",
   "execution_count": 49,
   "metadata": {
    "collapsed": false
   },
   "outputs": [
    {
     "data": {
      "text/plain": [
       "Outcome                                               0\nMessage                                          180652\nIdentity                                              0\nDelay                                                 0\nHeadlines Securities CIK                          10142\nHeadlines Securities CUSIP                       180652\nHeadlines Securities Symbol                        6700\nHeadlines Securities ISIN                        180652\nHeadlines Securities Valoren                       6700\nHeadlines Securities Name                          6700\nHeadlines Securities Market                        6700\nHeadlines Securities MarketIdentificationCode      6700\nHeadlines Securities MostLiquidExchange            5011\nHeadlines Securities CategoryOrIndustry            6700\nHeadlines Title                                      10\nHeadlines Date                                        0\nHeadlines Time                                        0\nHeadlines UTCOffset                                   0\nHeadlines Source                                      0\nHeadlines Url                                         0\nHeadlines Images                                  96498\nHeadlines Tags TagType                              169\nHeadlines Tags TagValues                           2261\ndtype: int64"
      ]
     },
     "execution_count": 49,
     "metadata": {},
     "output_type": "execute_result"
    }
   ],
   "source": [
    "data2015.isnull().sum()"
   ]
  },
  {
   "cell_type": "code",
   "execution_count": 32,
   "metadata": {},
   "outputs": [
    {
     "data": {
      "text/plain": [
       "(180652, 23)"
      ]
     },
     "execution_count": 32,
     "metadata": {},
     "output_type": "execute_result"
    }
   ],
   "source": [
    "data2015.drop(['Message','Headlines Securities CUSIP',\n",
    "               'Headlines Securities ISIN',\n",
    "               'Headlines Images',\n",
    "               'Headlines Securities MarketIdentificationCode',\n",
    "               'Outcome','Identity','Delay',\n",
    "               'Headlines Securities CIK','Headlines Securities Valoren',\n",
    "               'Headlines Securities Symbol',\n",
    "               'Headlines UTCOffset','Headlines Url'],axis=1)"
   ]
  },
  {
   "cell_type": "code",
   "execution_count": 38,
   "metadata": {},
   "outputs": [
    {
     "data": {
      "text/plain": [
       "[nan, 'XLON', 'XOTC', 'ARCX', 'XNAS', '_MFQS', 'OOTC', 'XTSE', 'XNYS', 'XASE']"
      ]
     },
     "execution_count": 38,
     "metadata": {},
     "output_type": "execute_result"
    }
   ],
   "source": [
    "list(set(data2015['Headlines Securities MarketIdentificationCode']))"
   ]
  },
  {
   "cell_type": "code",
   "execution_count": 45,
   "metadata": {},
   "outputs": [
    {
     "data": {
      "text/plain": [
       "[nan,\n 'LSE',\n 'NYSEARCA',\n 'OTCBB',\n 'OTHEROTC',\n 'AMEX',\n 'NASDAQ',\n 'NASDAQ OMX Group MFQS (Mutual Fund Dissemination Service)',\n 'TSX',\n 'NYSE']"
      ]
     },
     "execution_count": 45,
     "metadata": {},
     "output_type": "execute_result"
    }
   ],
   "source": [
    "list(set(data2015['Headlines Securities Market']))"
   ]
  }
 ],
 "metadata": {
  "kernelspec": {
   "display_name": "Python 2",
   "language": "python",
   "name": "python2"
  },
  "language_info": {
   "codemirror_mode": {
    "name": "ipython",
    "version": 2.0
   },
   "file_extension": ".py",
   "mimetype": "text/x-python",
   "name": "python",
   "nbconvert_exporter": "python",
   "pygments_lexer": "ipython2",
   "version": "2.7.6"
  }
 },
 "nbformat": 4,
 "nbformat_minor": 0
}