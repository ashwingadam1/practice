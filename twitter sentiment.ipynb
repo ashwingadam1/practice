{
 "cells": [
  {
   "cell_type": "code",
   "execution_count": 1,
   "metadata": {
    "collapsed": true
   },
   "outputs": [],
   "source": [
    "import tweepy\n",
    "import time\n",
    "import pandas as pd\n",
    "from textblob import TextBlob\n",
    "#French adaptor\n",
    "import re\n",
    "import numpy as np\n",
    "import operator\n",
    "import matplotlib.pyplot as plt\n",
    "import IPython.display as display\n",
    "%matplotlib inline"
   ]
  },
  {
   "cell_type": "code",
   "execution_count": 2,
   "metadata": {},
   "outputs": [],
   "source": [
    ""
   ]
  },
  {
   "cell_type": "code",
   "execution_count": 3,
   "metadata": {},
   "outputs": [
    {
     "name": "stdout",
     "output_type": "stream",
     "text": [
      "We sucessfully logged in\n"
     ]
    }
   ],
   "source": [
    "auth = tweepy.auth.OAuthHandler(consumer_key, consumer_secret)\n",
    "auth.set_access_token(access_token, access_token_secret)\n",
    "api = tweepy.API(auth)\n",
    "\n",
    "if(api.verify_credentials):\n",
    "    print('We sucessfully logged in')"
   ]
  },
  {
   "cell_type": "code",
   "execution_count": 4,
   "metadata": {
    "collapsed": true
   },
   "outputs": [],
   "source": [
    "followers = tweepy.Cursor(api.followers, user_id='@SudipDutta',count=200).items()"
   ]
  },
  {
   "cell_type": "code",
   "execution_count": 5,
   "metadata": {},
   "outputs": [],
   "source": [
    "list_of_users=[]\n",
    "while True:\n",
    "    try:\n",
    "        user = next(followers)\n",
    "    except tweepy.TweepError:\n",
    "        time.sleep(60*15)\n",
    "        user = next(followers)\n",
    "    except StopIteration:\n",
    "        break\n",
    "    list_of_users.append(user.screen_name)\n",
    "    "
   ]
  },
  {
   "cell_type": "code",
   "execution_count": 6,
   "metadata": {},
   "outputs": [],
   "source": [
    "list_of_followers=pd.DataFrame()\n",
    "list_of_followers['followers']=''\n",
    "list_of_followers['followers']=list_of_users\n",
    "list_of_followers.to_csv('/home/ashwin/Downloads/list_of_followers.csv',index=False)"
   ]
  },
  {
   "cell_type": "code",
   "execution_count": 7,
   "metadata": {},
   "outputs": [],
   "source": [
    "#this_candidate_tweets = tweepy.Cursor(api.user_timeline, screen_name='rajnish9250',count=200).items()"
   ]
  },
  {
   "cell_type": "code",
   "execution_count": 15,
   "metadata": {
    "collapsed": false
   },
   "outputs": [],
   "source": [
    "sentiment_of_tweets=[]\n",
    "users_list=[]\n",
    "tweet_list=[]\n",
    "count=0\n",
    "for user in list_of_users:\n",
    "    this_candidate_tweets = tweepy.Cursor(api.user_timeline, screen_name=user,count=200).items()\n",
    "    try:\n",
    "        for tweet in this_candidate_tweets:\n",
    "            tweet=' '.join(re.sub(\"(@[A-Za-z0-9]+)|([^0-9A-Za-z \\t])|(\\w+:\\/\\/\\S+)\", \" \", tweet.text).split())\n",
    "            analysis = TextBlob(tweet)\n",
    "            users_list.append(user)\n",
    "            tweet_list.append(tweet)\n",
    "            if analysis.sentiment.polarity > 0:\n",
    "                    sentiment_of_tweets.append('positive')\n",
    "            elif analysis.sentiment.polarity == 0:\n",
    "                    sentiment_of_tweets.append('neutral')\n",
    "            else:\n",
    "                    sentiment_of_tweets.append('negative')\n",
    "    except tweepy.TweepError as e:\n",
    "            count=count+1\n",
    "            continue"
   ]
  },
  {
   "cell_type": "code",
   "execution_count": 15,
   "metadata": {},
   "outputs": [
    {
     "data": {
      "text/plain": [
       "<matplotlib.axes._subplots.AxesSubplot at 0x7f28bcdb4f28>"
      ]
     },
     "execution_count": 15,
     "metadata": {},
     "output_type": "execute_result"
    },
    {
     "data": {
      "image/png": "[encoded data removed]",
      "text/plain": [
       "<matplotlib.figure.Figure at 0x7f28bdab7550>"
      ]
     },
     "metadata": {},
     "output_type": "display_data"
    }
   ],
   "source": [
    "senti=pd.DataFrame()\n",
    "senti['users']=users_list\n",
    "senti['tweets']=tweet_list\n",
    "senti['sentiment']=sentiment_of_tweets\n",
    "senti['sentiment'].value_counts().plot(kind='bar')"
   ]
  },
  {
   "cell_type": "code",
   "execution_count": 30,
   "metadata": {},
   "outputs": [],
   "source": [
    "temp=senti[(senti.users=='somunaikar')]"
   ]
  },
  {
   "cell_type": "code",
   "execution_count": 32,
   "metadata": {
    "collapsed": false
   },
   "outputs": [],
   "source": [
    ""
   ]
  }
 ],
 "metadata": {
  "kernelspec": {
   "display_name": "Python 2",
   "language": "python",
   "name": "python2"
  },
  "language_info": {
   "codemirror_mode": {
    "name": "ipython",
    "version": 2
   },
   "file_extension": ".py",
   "mimetype": "text/x-python",
   "name": "python",
   "nbconvert_exporter": "python",
   "pygments_lexer": "ipython2",
   "version": "2.7.6"
  }
 },
 "nbformat": 4,
 "nbformat_minor": 0
}
