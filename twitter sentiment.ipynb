{
 "cells": [
  {
   "cell_type": "code",
   "execution_count": 12,
   "metadata": {
    "collapsed": true
   },
   "outputs": [],
   "source": [
    "import tweepy\n",
    "import time\n",
    "import pandas as pd\n",
    "from textblob import TextBlob\n",
    "#French adaptor\n",
    "import re\n",
    "import numpy as np\n",
    "import operator\n",
    "import matplotlib.pyplot as plt\n",
    "import IPython.display as display\n",
    "import itertools\n",
    "from sklearn.feature_extraction.text import TfidfVectorizer\n",
    "from sklearn.cluster import KMeans\n",
    "from sklearn.metrics import adjusted_rand_score\n",
    "%matplotlib inline"
   ]
  },
  {
   "cell_type": "code",
   "execution_count": null,
   "metadata": {},
   "outputs": [],
   "source": [
    "auth = tweepy.auth.OAuthHandler(consumer_key, consumer_secret)\n",
    "auth.set_access_token(access_token, access_token_secret)\n",
    "api = tweepy.API(auth)\n",
    "\n",
    "if(api.verify_credentials):\n",
    "    print('We sucessfully logged in')"
   ]
  },
  {
   "cell_type": "code",
   "execution_count": 4,
   "metadata": {
    "collapsed": true
   },
   "outputs": [],
   "source": [
    "def paginate(iterable, page_size):\n",
    "    while True:\n",
    "        i1, i2 = itertools.tee(iterable)\n",
    "        iterable, page = (itertools.islice(i1, page_size, None),\n",
    "                list(itertools.islice(i2, page_size)))\n",
    "        if len(page) == 0:\n",
    "            break\n",
    "        yield page"
   ]
  },
  {
   "cell_type": "code",
   "execution_count": 17,
   "metadata": {},
   "outputs": [],
   "source": [
    "followers = api.followers_ids(screen_name='SudipDutta')"
   ]
  },
  {
   "cell_type": "code",
   "execution_count": 19,
   "metadata": {},
   "outputs": [],
   "source": [
    "list_of_users=[]\n",
    "for page in paginate(followers, 100):\n",
    "    results = api.lookup_users(user_ids=page)\n",
    "    for result in results:\n",
    "        list_of_users.append(result.screen_name)"
   ]
  },
  {
   "cell_type": "code",
   "execution_count": 22,
   "metadata": {},
   "outputs": [
    {
     "data": {
      "text/plain": [
       "331"
      ]
     },
     "execution_count": 22,
     "metadata": {},
     "output_type": "execute_result"
    }
   ],
   "source": [
    "len(list_of_users)"
   ]
  },
  {
   "cell_type": "code",
   "execution_count": 23,
   "metadata": {},
   "outputs": [],
   "source": [
    "list_of_followers=pd.DataFrame()\n",
    "list_of_followers['followers']=''\n",
    "list_of_followers['followers']=list_of_users\n",
    "list_of_followers.to_csv('/home/ashwin/Downloads/list_of_followers.csv',index=False)"
   ]
  },
  {
   "cell_type": "code",
   "execution_count": 24,
   "metadata": {
    "collapsed": false
   },
   "outputs": [],
   "source": [
    "sentiment_of_tweets=[]\n",
    "users_list=[]\n",
    "tweet_list=[]\n",
    "count=0\n",
    "for user in list_of_users:\n",
    "    this_candidate_tweets = tweepy.Cursor(api.user_timeline, screen_name=user,count=200).items()\n",
    "    try:\n",
    "        for tweet in this_candidate_tweets:\n",
    "            tweet=' '.join(re.sub(\"(@[A-Za-z0-9]+)|([^0-9A-Za-z \\t])|(\\w+:\\/\\/\\S+)\", \" \", tweet.text).split())\n",
    "            analysis = TextBlob(tweet)\n",
    "            users_list.append(user)\n",
    "            tweet_list.append(tweet)\n",
    "            if analysis.sentiment.polarity > 0:\n",
    "                    sentiment_of_tweets.append('positive')\n",
    "            elif analysis.sentiment.polarity == 0:\n",
    "                    sentiment_of_tweets.append('neutral')\n",
    "            else:\n",
    "                    sentiment_of_tweets.append('negative')\n",
    "    except tweepy.TweepError as e:\n",
    "            count=count+1\n",
    "            continue"
   ]
  },
  {
   "cell_type": "code",
   "execution_count": 18,
   "metadata": {},
   "outputs": [
    {
     "data": {
      "text/plain": [
       "<matplotlib.axes._subplots.AxesSubplot at 0x7f1f35bac0f0>"
      ]
     },
     "execution_count": 18,
     "metadata": {},
     "output_type": "execute_result"
    },
    {
     "data": {
      "image/png": "[encoded data removed]",
      "text/plain": [
       "<matplotlib.figure.Figure at 0x7f1f35c046a0>"
      ]
     },
     "metadata": {},
     "output_type": "display_data"
    }
   ],
   "source": [
    "senti=pd.read_csv('/home/ashwin/Downloads/twitter_sentiment_analysis/sentiment_analysis_of_the_followers.csv')\n",
    "#senti=pd.DataFrame()\n",
    "#senti['users']=users_list\n",
    "#senti['tweets']=tweet_list\n",
    "#senti['sentiment']=sentiment_of_tweets\n",
    "senti['sentiment'].value_counts().plot(kind='bar')"
   ]
  },
  {
   "cell_type": "code",
   "execution_count": 19,
   "metadata": {},
   "outputs": [
    {
     "data": {
      "text/plain": [
       "positive    215019\nneutral     214173\nnegative     46314\nName: sentiment, dtype: int64"
      ]
     },
     "execution_count": 19,
     "metadata": {},
     "output_type": "execute_result"
    }
   ],
   "source": [
    "senti['sentiment'].value_counts()"
   ]
  },
  {
   "cell_type": "code",
   "execution_count": 20,
   "metadata": {},
   "outputs": [],
   "source": [
    "classify_followers=senti[((senti['sentiment']=='positive') |\n",
    "                          (senti['sentiment']=='negative'))]"
   ]
  },
  {
   "cell_type": "code",
   "execution_count": 21,
   "metadata": {},
   "outputs": [
    {
     "name": "stdout",
     "output_type": "stream",
     "text": [
      "(261333, 4)\npositive    215019\nnegative     46314\nName: sentiment, dtype: int64\n"
     ]
    }
   ],
   "source": [
    "print(classify_followers.shape)\n",
    "print(classify_followers['sentiment'].value_counts())\n",
    "a=classify_followers['sentiment'].value_counts()"
   ]
  },
  {
   "cell_type": "code",
   "execution_count": 22,
   "metadata": {},
   "outputs": [
    {
     "data": {
      "text/plain": [
       "{'negative', 'positive'}"
      ]
     },
     "execution_count": 22,
     "metadata": {},
     "output_type": "execute_result"
    }
   ],
   "source": [
    "set(classify_followers['sentiment'])"
   ]
  },
  {
   "cell_type": "code",
   "execution_count": 23,
   "metadata": {
    "collapsed": false
   },
   "outputs": [],
   "source": [
    "users=set(classify_followers['users'])"
   ]
  },
  {
   "cell_type": "code",
   "execution_count": 24,
   "metadata": {},
   "outputs": [
    {
     "data": {
      "text/plain": [
       "46314"
      ]
     },
     "execution_count": 24,
     "metadata": {},
     "output_type": "execute_result"
    }
   ],
   "source": [
    "classify_followers[(classify_followers['sentiment']=='negative')]['sentiment']\\\n",
    "    .count()"
   ]
  },
  {
   "cell_type": "code",
   "execution_count": 29,
   "metadata": {},
   "outputs": [],
   "source": [
    "user_to_classify=[]\n",
    "classify=[]\n",
    "for user in users:\n",
    "    user_to_classify.append(user)\n",
    "    temp=classify_followers[(classify_followers['users']==user)]\n",
    "    if(temp.shape[0]>1):\n",
    "        if(('positive' in set(temp['sentiment'])) \n",
    "           and ('negative' in set(temp['sentiment'])) ):\n",
    "            positive_count=temp[(temp['sentiment']=='positive')]['sentiment'].count()\n",
    "            negetive_count=temp[(temp['sentiment']=='negative')]['sentiment'].count()\n",
    "            positive_percent=(positive_count/temp.shape[0])*100\n",
    "            negetive_percent=(negetive_count/temp.shape[0])*100\n",
    "            if(negetive_percent>=34):\n",
    "                classify.append('negative')\n",
    "            else:\n",
    "                classify.append('positive')\n",
    "        else:\n",
    "            if('positive' in set(temp['sentiment'])):\n",
    "                classify.append('positive')\n",
    "            else:\n",
    "                classify.append('negative')\n",
    "    else:\n",
    "        if('positive' in set(temp['sentiment'])):\n",
    "            classify.append('positive')\n",
    "        else:\n",
    "            classify.append('negative')"
   ]
  },
  {
   "cell_type": "code",
   "execution_count": 31,
   "metadata": {},
   "outputs": [],
   "source": [
    ""
   ]
  },
  {
   "cell_type": "code",
   "execution_count": 28,
   "metadata": {},
   "outputs": [
    {
     "data": {
      "text/plain": [
       "positive    279\nnegative     19\nName: sentiment, dtype: int64"
      ]
     },
     "execution_count": 28,
     "metadata": {},
     "output_type": "execute_result"
    }
   ],
   "source": [
    "#senti=pd.read_csv('/home/ashwin/Downloads/followers_classification.csv')\n",
    "followers_classification=pd.DataFrame()\n",
    "followers_classification['users']=user_to_classify\n",
    "followers_classification['sentiment']=classify\n",
    "followers_classification['sentiment'].value_counts().plot(kind='bar')"
   ]
  },
  {
   "cell_type": "code",
   "execution_count": null,
   "metadata": {},
   "outputs": [],
   "source": [
    "print(count)"
   ]
  },
  {
   "cell_type": "code",
   "execution_count": 74,
   "metadata": {},
   "outputs": [],
   "source": [
    "followers_classification\\\n",
    "    .to_csv('/home/ashwin/Downloads/followers_classification.csv',index=False)"
   ]
  },
  {
   "cell_type": "code",
   "execution_count": 1,
   "metadata": {
    "collapsed": true
   },
   "outputs": [],
   "source": [
    "user_requested=input('enter the user for the tweet analysis')"
   ]
  },
  {
   "cell_type": "code",
   "execution_count": null,
   "metadata": {},
   "outputs": [],
   "source": [
    "if(user_requested in list_of_users):\n",
    "    temp=senti[(senti.users==user_requested)]\n",
    "    temp['sentiment'].value_counts().plot(kind='bar')\n",
    "else:\n",
    "    print('no user is found')"
   ]
  },
  {
   "cell_type": "code",
   "execution_count": 69,
   "metadata": {},
   "outputs": [],
   "source": [
    "data=pd.read_csv('/home/ashwin/Downloads/twitter_sentiment_analysis/'\n",
    "                 'sentiment_analysis_of_the_followers.csv',na_filter=False)"
   ]
  },
  {
   "cell_type": "code",
   "execution_count": 70,
   "metadata": {},
   "outputs": [
    {
     "data": {
      "text/plain": [
       "(475506, 4)"
      ]
     },
     "execution_count": 70,
     "metadata": {},
     "output_type": "execute_result"
    }
   ],
   "source": [
    "data.shape"
   ]
  },
  {
   "cell_type": "code",
   "execution_count": 97,
   "metadata": {},
   "outputs": [
    {
     "data": {
      "text/plain": [
       "(261333, 4)"
      ]
     },
     "execution_count": 97,
     "metadata": {},
     "output_type": "execute_result"
    }
   ],
   "source": [
    "df=data[((data['sentiment']=='negative') | (data['sentiment']=='positive'))]\n",
    "#print(data.isnull().sum())\n",
    "#data['tweets'].fillna(\"unkonwn value\")\n",
    "#print(data.isnull().sum())\n",
    "df.shape"
   ]
  },
  {
   "cell_type": "code",
   "execution_count": 87,
   "metadata": {
    "collapsed": true
   },
   "outputs": [
    {
     "name": "stdout",
     "output_type": "stream",
     "text": [
      "Top terms per cluster:\nCluster 0:\n thanks\n follow\n sharing\n connect\n great\n week\n community\n following\n recent\n connecting\n indiegogo\n gt\n coding\n nation\n happy\n campaign\n check\n followers\n hey\n linkedin\nCluster 1:\n rt\n sales\n new\n great\n amp\n marketing\n social\n best\n good\n business\n free\n love\n success\n time\n people\n startup\n media\n make\n just\n like\n[ 11496 249837]\n"
     ]
    }
   ],
   "source": [
    "vectorizer = TfidfVectorizer(stop_words='english')\n",
    "X = vectorizer.fit_transform(df['tweets'])\n",
    " \n",
    "true_k = 2\n",
    "model = KMeans(n_clusters=true_k, init='k-means++'\n",
    "               , max_iter=10000, n_init=1)\n",
    "model.fit(X)\n",
    " \n",
    "print(\"Top terms per cluster:\")\n",
    "order_centroids = model.cluster_centers_.argsort()[:, ::-1]\n",
    "terms = vectorizer.get_feature_names()\n",
    "for i in range(true_k):\n",
    "    print(\"Cluster %d:\" % i),\n",
    "    for ind in order_centroids[i, :20]:\n",
    "        print(' %s' % terms[ind]),\n",
    "    print\n",
    "    \n",
    "labels=model.labels_\n",
    "print( np.bincount(labels))"
   ]
  },
  {
   "cell_type": "code",
   "execution_count": 88,
   "metadata": {},
   "outputs": [
    {
     "name": "stdout",
     "output_type": "stream",
     "text": [
      "{0, 1}\n"
     ]
    },
    {
     "data": {
      "text/plain": [
       "1    249837\n0     11496\nName: labels, dtype: int64"
      ]
     },
     "execution_count": 88,
     "metadata": {},
     "output_type": "execute_result"
    }
   ],
   "source": [
    "print(set(labels))\n",
    "#classify=[x for i in labels if(i==)]\n",
    "d=pd.DataFrame()\n",
    "d['labels']=labels\n",
    "d['senti']=df['sentiment']\n",
    "d['labels'].value_counts()"
   ]
  },
  {
   "cell_type": "code",
   "execution_count": 95,
   "metadata": {},
   "outputs": [],
   "source": [
    "a=[i for i in range(0,len(labels)) if((d['senti'][i]=='positive') \n",
    "                                      and d['labels'][i]==1)]\n",
    "b=[i for i in range(0,len(labels)) if((d['senti'][i]=='positive') \n",
    "                                      and d['labels'][i]==0)]\n",
    "c=[i for i in range(0,len(labels)) if((d['senti'][i]=='negative') \n",
    "                                      and d['labels'][i]==1)]\n",
    "d=[i for i in range(0,len(labels)) if((d['senti'][i]=='negative') \n",
    "                                      and d['labels'][i]==0)]"
   ]
  },
  {
   "cell_type": "code",
   "execution_count": 96,
   "metadata": {},
   "outputs": [
    {
     "name": "stdout",
     "output_type": "stream",
     "text": [
      "109735 5053 24006 1210\n"
     ]
    }
   ],
   "source": [
    "print(len(a),len(b),len(c),len(d))"
   ]
  },
  {
   "cell_type": "code",
   "execution_count": 112,
   "metadata": {
    "collapsed": true
   },
   "outputs": [],
   "source": [
    "users=set(df['users'])\n",
    "prediction=[]\n",
    "for user in users:\n",
    "    temp=df[(df['users']==user)]\n",
    "    temp=temp['tweets']\n",
    "    Y = vectorizer.transform(temp)\n",
    "    tweet_predictions=model.predict(Y)\n",
    "    no_one=np.count_nonzero(tweet_predictions==1)\n",
    "    no_zero=np.count_nonzero(tweet_predictions==0)\n",
    "    if(no_one>no_zero):\n",
    "        prediction.append('positive')\n",
    "    else:\n",
    "        prediction.append('negative')"
   ]
  },
  {
   "cell_type": "code",
   "execution_count": 113,
   "metadata": {},
   "outputs": [
    {
     "name": "stdout",
     "output_type": "stream",
     "text": [
      "294\n4\n"
     ]
    }
   ],
   "source": [
    "print(prediction.count('positive'))\n",
    "print(prediction.count('negative'))"
   ]
  }
 ],
 "metadata": {
  "kernelspec": {
   "display_name": "Python 2",
   "language": "python",
   "name": "python2"
  },
  "language_info": {
   "codemirror_mode": {
    "name": "ipython",
    "version": 2.0
   },
   "file_extension": ".py",
   "mimetype": "text/x-python",
   "name": "python",
   "nbconvert_exporter": "python",
   "pygments_lexer": "ipython2",
   "version": "2.7.6"
  }
 },
 "nbformat": 4,
 "nbformat_minor": 0
}