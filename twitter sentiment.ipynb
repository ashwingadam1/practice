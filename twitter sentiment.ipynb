{
 "cells": [
  {
   "cell_type": "code",
   "execution_count": 1,
   "metadata": {
    "collapsed": true
   },
   "outputs": [],
   "source": [
    "import tweepy\n",
    "import time\n",
    "import pandas as pd\n",
    "from textblob import TextBlob\n",
    "#French adaptor\n",
    "import re\n",
    "import numpy as np\n",
    "import operator\n",
    "import matplotlib.pyplot as plt\n",
    "import IPython.display as display\n",
    "%matplotlib inline"
   ]
  },
  {
   "cell_type": "code",
   "execution_count": 2,
   "metadata": {},
   "outputs": [],
   "source": [
    "consumer_key = 'trpVvVErBFaBJj1LByMMgaCup'\n",
    "consumer_secret = 'wNSwQYNRoJqpF31jDNfzxYtSm1ZeFws1iLffxn5elCH9srHvUM'\n",
    "access_token = '2356896033-a2VN6FzasWMu7qoYGlg0QnKTIfuCplVf5hhoQbW'\n",
    "access_token_secret = 'wwjnJSRFnHMBvpSDTAEyfuoEOjADmCtvsy2N0tu9yRGxM'"
   ]
  },
  {
   "cell_type": "code",
   "execution_count": 3,
   "metadata": {},
   "outputs": [
    {
     "name": "stdout",
     "output_type": "stream",
     "text": [
      "We sucessfully logged in\n"
     ]
    }
   ],
   "source": [
    "auth = tweepy.auth.OAuthHandler(consumer_key, consumer_secret)\n",
    "auth.set_access_token(access_token, access_token_secret)\n",
    "api = tweepy.API(auth)\n",
    "\n",
    "if(api.verify_credentials):\n",
    "    print('We sucessfully logged in')"
   ]
  },
  {
   "cell_type": "code",
   "execution_count": 4,
   "metadata": {
    "collapsed": true
   },
   "outputs": [],
   "source": [
    "followers = tweepy.Cursor(api.followers, user_id='@SudipDutta',count=200).items()"
   ]
  },
  {
   "cell_type": "code",
   "execution_count": 5,
   "metadata": {},
   "outputs": [],
   "source": [
    "list_of_users=[]\n",
    "while True:\n",
    "    try:\n",
    "        user = next(followers)\n",
    "    except tweepy.TweepError:\n",
    "        time.sleep(60*15)\n",
    "        user = next(followers)\n",
    "    except StopIteration:\n",
    "        break\n",
    "    list_of_users.append(user.screen_name)\n",
    "    "
   ]
  },
  {
   "cell_type": "code",
   "execution_count": 6,
   "metadata": {},
   "outputs": [],
   "source": [
    "list_of_followers=pd.DataFrame()\n",
    "list_of_followers['followers']=''\n",
    "list_of_followers['followers']=list_of_users\n",
    "list_of_followers.to_csv('/home/ashwin/Downloads/list_of_followers.csv',index=False)"
   ]
  },
  {
   "cell_type": "code",
   "execution_count": 7,
   "metadata": {},
   "outputs": [],
   "source": [
    "#this_candidate_tweets = tweepy.Cursor(api.user_timeline, screen_name='rajnish9250',count=200).items()"
   ]
  },
  {
   "cell_type": "code",
   "execution_count": 8,
   "metadata": {
    "collapsed": false
   },
   "outputs": [],
   "source": [
    "sentiment_of_tweets=[]\n",
    "users_list=[]\n",
    "tweet_list=[]\n",
    "count=0\n",
    "for user in list_of_users:\n",
    "    this_candidate_tweets = tweepy.Cursor(api.user_timeline, screen_name=user,count=200).items()\n",
    "    try:\n",
    "        for tweet in this_candidate_tweets:\n",
    "            tweet=' '.join(re.sub(\"(@[A-Za-z0-9]+)|([^0-9A-Za-z \\t])|(\\w+:\\/\\/\\S+)\", \" \", tweet.text).split())\n",
    "            analysis = TextBlob(tweet)\n",
    "            users_list.append(user)\n",
    "            tweet_list.append(tweet)\n",
    "            if analysis.sentiment.polarity > 0:\n",
    "                    sentiment_of_tweets.append('positive')\n",
    "            elif analysis.sentiment.polarity == 0:\n",
    "                    sentiment_of_tweets.append('neutral')\n",
    "            else:\n",
    "                    sentiment_of_tweets.append('negative')\n",
    "    except tweepy.TweepError as e:\n",
    "            count=count+1\n",
    "            continue"
   ]
  },
  {
   "cell_type": "code",
   "execution_count": 9,
   "metadata": {},
   "outputs": [
    {
     "data": {
      "text/plain": [
       "<matplotlib.axes._subplots.AxesSubplot at 0x7f194767aa20>"
      ]
     },
     "execution_count": 9,
     "metadata": {},
     "output_type": "execute_result"
    },
    {
     "data": {
      "image/png": "[encoded data removed]",
      "text/plain": [
       "<matplotlib.figure.Figure at 0x7f194787cda0>"
      ]
     },
     "metadata": {},
     "output_type": "display_data"
    }
   ],
   "source": [
    "senti=pd.DataFrame()\n",
    "senti['users']=users_list\n",
    "senti['tweets']=tweet_list\n",
    "senti['sentiment']=sentiment_of_tweets\n",
    "senti['sentiment'].value_counts().plot(kind='bar')"
   ]
  },
  {
   "cell_type": "code",
   "execution_count": 12,
   "metadata": {},
   "outputs": [
    {
     "ename": "StdinNotImplementedError",
     "evalue": "raw_input was called, but this frontend does not support input requests.",
     "traceback": [
      "\u001b[0;31m---------------------------------------------------------------------------\u001b[0m",
      "\u001b[0;31mStdinNotImplementedError\u001b[0m                  Traceback (most recent call last)",
      "\u001b[0;32m<ipython-input-12-5ddd3ff78bef>\u001b[0m in \u001b[0;36m<module>\u001b[0;34m()\u001b[0m\n\u001b[0;32m----> 1\u001b[0;31m \u001b[0muser_requested\u001b[0m\u001b[0;34m=\u001b[0m\u001b[0minput\u001b[0m\u001b[0;34m(\u001b[0m\u001b[0;34m'enter the user for the tweet analysis'\u001b[0m\u001b[0;34m)\u001b[0m\u001b[0;34m\u001b[0m\u001b[0m\n\u001b[0m",
      "\u001b[0;32m~/anaconda3/lib/python3.6/site-packages/ipykernel/kernelbase.py\u001b[0m in \u001b[0;36mraw_input\u001b[0;34m(self, prompt)\u001b[0m\n\u001b[1;32m    698\u001b[0m         \u001b[0;32mif\u001b[0m \u001b[0;32mnot\u001b[0m \u001b[0mself\u001b[0m\u001b[0;34m.\u001b[0m\u001b[0m_allow_stdin\u001b[0m\u001b[0;34m:\u001b[0m\u001b[0;34m\u001b[0m\u001b[0m\n\u001b[1;32m    699\u001b[0m             raise StdinNotImplementedError(\n\u001b[0;32m--> 700\u001b[0;31m                 \u001b[0;34m\"raw_input was called, but this frontend does not support input requests.\"\u001b[0m\u001b[0;34m\u001b[0m\u001b[0m\n\u001b[0m\u001b[1;32m    701\u001b[0m             )\n\u001b[1;32m    702\u001b[0m         return self._input_request(str(prompt),\n",
      "\u001b[0;31mStdinNotImplementedError\u001b[0m: raw_input was called, but this frontend does not support input requests."
     ],
     "output_type": "error"
    }
   ],
   "source": [
    "user_requested=input('enter the user for the tweet analysis')"
   ]
  },
  {
   "cell_type": "code",
   "execution_count": null,
   "metadata": {},
   "outputs": [],
   "source": [
    "if(user_requested in list_of_users):\n",
    "    temp=senti[(senti.users=='somunaikar')]\n",
    "    temp['sentiment'].value_counts().plot(kind='bar')\n",
    "else:\n",
    "    print('no user is found')\n"
   ]
  }
 ],
 "metadata": {
  "kernelspec": {
   "display_name": "Python 2",
   "language": "python",
   "name": "python2"
  },
  "language_info": {
   "codemirror_mode": {
    "name": "ipython",
    "version": 2
   },
   "file_extension": ".py",
   "mimetype": "text/x-python",
   "name": "python",
   "nbconvert_exporter": "python",
   "pygments_lexer": "ipython2",
   "version": "2.7.6"
  }
 },
 "nbformat": 4,
 "nbformat_minor": 0
}
